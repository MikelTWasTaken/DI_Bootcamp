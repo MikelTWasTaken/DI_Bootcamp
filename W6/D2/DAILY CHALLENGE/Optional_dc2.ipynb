{
 "cells": [
  {
   "cell_type": "code",
   "execution_count": null,
   "metadata": {
    "vscode": {
     "languageId": "plaintext"
    }
   },
   "outputs": [],
   "source": [
    "You are tasked with analyzing a dataset of student exam scores. The goal is to determine whether the exam preparation program significantly improved scores and to assess the distribution of the scores using skewness and kurtosis.\n",
    "\n",
    "Scenario A group of students participated in a preparation program. Their scores before and after the program were recorded. You will: Perform a paired t-test to determine if the program significantly improved scores. Calculate the skewness of the post-program scores to assess symmetry. Calculate the kurtosis of the post-program scores to evaluate the presence of outliers or the sharpness of the distribution peak. Draw conclusions from these findings.\n",
    "\n",
    "Tasks\n",
    "\n",
    "Paired t-test Perform a paired t-test on the pre-program and post-program scores to determine if there is a significant improvement. Null Hypothesis (H0H_0): There is no difference in the scores before and after the program. Alternative Hypothesis (H1H_1): The scores after the program are significantly higher than before.\n",
    "\n",
    "Skewness Calculate the skewness of the post-program scores. Based on the value: Skewness ~ 0: The distribution is symmetric. Positive skewness: The distribution has a longer tail on the right. Negative skewness: The distribution has a longer tail on the left.\n",
    "\n",
    "Kurtosis Calculate the kurtosis of the post-program scores. Based on the value: Kurtosis ~ 3: The distribution is normal (mesokurtic). Kurtosis > 3: The distribution is sharp with heavy tails (leptokurtic). Kurtosis < 3: The distribution is flat with light tails (platykurtic).\n",
    "\n",
    "Draw Conclusions Based on the t-test, skewness, and kurtosis findings, write a short report answering: Did the preparation program significantly improve scores? Are the post-program scores symmetrically distributed? Are there any outliers or unusual patterns in the post-program scores?"
   ]
  },
  {
   "cell_type": "code",
   "execution_count": null,
   "metadata": {},
   "outputs": [],
   "source": [
    "import pandas as pd\n",
    "from scipy.stats import ttest_rel\n",
    "# Create a larger dataset\n",
    "data = {\n",
    "    \"Student_ID\": list(range(1, 51)),  # 50 students\n",
    "    \"Pre_Program_Score\": [\n",
    "        65, 70, 68, 72, 64, 66, 74, 68, 71, 75,\n",
    "        62, 67, 69, 73, 65, 70, 76, 66, 74, 72,\n",
    "        60, 63, 68, 70, 64, 62, 75, 69, 71, 77,\n",
    "        63, 65, 72, 74, 68, 64, 66, 70, 72, 75,\n",
    "        61, 64, 67, 73, 68, 65, 72, 69, 74, 78\n",
    "    ],\n",
    "    \"Post_Program_Score\": [\n",
    "        72, 75, 74, 78, 70, 72, 80, 74, 76, 80,\n",
    "        68, 73, 75, 79, 71, 75, 82, 72, 78, 77,\n",
    "        65, 69, 74, 76, 70, 67, 80, 74, 76, 82,\n",
    "        68, 70, 78, 80, 74, 70, 72, 76, 78, 81,\n",
    "        66, 70, 73, 79, 74, 71, 78, 75, 80, 85\n",
    "    ]\n",
    "}\n",
    "\n",
    "# Convert to DataFrame\n",
    "df = pd.DataFrame(data)\n",
    "\n",
    "# Save as CSV (optional, if you want to load later)\n",
    "df.to_csv(\"student_scores.csv\", index=False)\n",
    "\n",
    "# Display first few rows\n",
    "print(df.head())"
   ]
  }
 ],
 "metadata": {
  "language_info": {
   "name": "python"
  }
 },
 "nbformat": 4,
 "nbformat_minor": 2
}
