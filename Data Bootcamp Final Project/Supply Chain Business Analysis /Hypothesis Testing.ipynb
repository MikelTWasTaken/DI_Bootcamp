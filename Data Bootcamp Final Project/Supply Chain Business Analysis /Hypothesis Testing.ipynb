{
 "cells": [
  {
   "cell_type": "markdown",
   "metadata": {},
   "source": [
    "# Supply CHain Analysis - Hypothesis Testing\n",
    "\n",
    "### 1. Hypothesis Testing\n",
    "- **Key Hypotheses:** Formulated hypotheses around potential drivers of delivery performance and customer satisfaction, such as the impact of `Days for shipping (real)` and `Days for shipment (scheduled)` on `Delivery Status` and `Late_delivery_risk`. Additionally, examined the influence of customer-related variables like `Sales per customer`, and `Customer Segment` on overall sales performance and customer retention.\n",
    "- **Statistical Testing:** Conducted hypothesis testing using Chi-square tests, T-tests, and ANOVA to assess the significance of factors such as `Late_delivery_risk`, and `Sales per customer` in relation to `Delivery Status`, `Customer Segment`, and other customer-centric metrics, thereby validating the impact of these variables on operational and business outcomes.\n",
    "\n",
    "### 2. Strategic Recommendations based on hypothesis conclusions\n",
    "- **Data-Driven Insights:** Synthesized findings into actionable insights, focusing on the most critical areas for improvement, such as optimizing `Days for shipping (real)`, reducing `Late_delivery_risk`, and enhancing customer satisfaction through targeted `Customer Segment` initiatives.\n",
    "- **Proposed Strategies:** Recommended strategies to improve operational efficiency, such as optimizing shipping schedules (`Days for shipment (scheduled)`) and offering personalized benefits (`Benefit per order`) to customers, as well as leveraging customer data like `Sales per customer` to tailor retention efforts.\n",
    "- **Implementation Plan:** Outlined a phased approach for implementing the recommendations, with specific actions targeting key variables such as `Delivery Status` and `Late_delivery_risk`, along with timelines, responsibilities, and success metrics to track progress and outcomes.\n",
    "\n",
    "### 3. Impact Assessment\n",
    "- **Scenario Analysis:** Modeled potential outcomes of proposed strategies using what-if scenarios to estimate their impact on delivery performance and customer satisfaction, such as the effect of improving `Days for shipping (real)` and reducing `Late_delivery_risk` on `Delivery Status` and overall sales.\n",
    "- **KPIs:** Defined key performance indicators to track the effectiveness of implemented strategies, focusing on metrics like `Sales per customer`, `Benefit per order`, and `Delivery Status` to monitor improvements in customer retention and operational efficiency over time.\n",
    "\n",
    "### 9. Reporting and Communication\n",
    "- **Stakeholder Reports:** Prepared detailed reports for senior management and operations teams, summarizing key findings related to `Late_delivery_risk`, `Days for shipping (real)`, and customer retention. The reports outlined recommendations for improving delivery performance and customer satisfaction."
   ]
  }
 ],
 "metadata": {
  "language_info": {
   "name": "python"
  }
 },
 "nbformat": 4,
 "nbformat_minor": 2
}
