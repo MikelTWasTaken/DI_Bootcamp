{
 "cells": [
  {
   "cell_type": "markdown",
   "metadata": {},
   "source": [
    "# SUPPLY CHAIN ANALYTICS - EDA\n",
    "\n",
    "## Introduction\n",
    "Data analysis for \"Open The Package\", will look at supply chain data to optimize inventory levels, delivery times, and reduce transportation costs. By forecasting demand and identifying inefficiencies, I'll align supply chain strategies with business goals and propose strategic improvements. Through insightful dashboards, I'll provide actionable recommendations to enhance supplier relationships, streamline processes, and drive cost-saving solutions, ultimately improving overall business performance.\n",
    "\n",
    "## Methodology\n",
    "### 1. Problem Definition\n",
    "- **Objective:** To analyze the factors contributing to supply chain delays or optimizations and propose actionable strategies to improve retention and performance within the organization.\n",
    "- **Scope:** Focus on understanding key drivers of supply chain functionality and their impact on business performance.\n",
    "\n",
    "### 2. Data Collection\n",
    "- **Source:** https://data.mendeley.com/datasets/8gx2fvg2k6/5 \n",
    "- **Data Points:** Included  Days for shipping (real), Sales per customer, Late_delivery_risk, Category Id, Customer Id, Order Id, Order Item Quantity, Sales, Product Name, Order Region.\n",
    "- **Tools Used:** SQL for database queries, Excel for initial data review, Tableau for stakeholder visualizations, Jupyter for EDA and statistical exploration.\n",
    "\n",
    "### 3. Data Preparation\n",
    "- **Data Cleaning:** Removed duplicate records, handled missing values by imputation, and ensured consistency in data formats.\n",
    "- **Segmentation:** Organized data into relevant categories, such as `Department Name`, `Customer Segment`, and `Delivery Status`, to enable focused and insightful analysis tailored to specific business aspects.\n",
    "\n",
    "### 4. Exploratory Analysis\n",
    "- **Trend Analysis**: Identified historical trends in delays in shipments and correlated them with external factors such as market conditions or internal events.\n",
    "- **Visualization**: Used tools like plotly and matplotlib to show initial statistics. Use Tableau to create interactive dashboards that illustrate key findings for stakeholders."
   ]
  },
  {
   "cell_type": "code",
   "execution_count": 115,
   "metadata": {},
   "outputs": [],
   "source": [
    "import pandas as pd\n",
    "import numpy as np\n",
    "import matplotlib.pyplot as plt\n",
    "import seaborn as sns\n",
    "import plotly.express as px\n",
    "import scipy.stats as stats\n",
    "from scipy.stats import skew, kurtosis\n",
    "import plotly.graph_objects as go\n"
   ]
  },
  {
   "cell_type": "code",
   "execution_count": 116,
   "metadata": {},
   "outputs": [
    {
     "name": "stdout",
     "output_type": "stream",
     "text": [
      "<class 'pandas.core.frame.DataFrame'>\n",
      "RangeIndex: 180519 entries, 0 to 180518\n",
      "Data columns (total 53 columns):\n",
      " #   Column                         Non-Null Count   Dtype  \n",
      "---  ------                         --------------   -----  \n",
      " 0   Type                           180519 non-null  object \n",
      " 1   Days for shipping (real)       180519 non-null  int64  \n",
      " 2   Days for shipment (scheduled)  180519 non-null  int64  \n",
      " 3   Benefit per order              180519 non-null  float64\n",
      " 4   Sales per customer             180519 non-null  float64\n",
      " 5   Delivery Status                180519 non-null  object \n",
      " 6   Late_delivery_risk             180519 non-null  int64  \n",
      " 7   Category Id                    180519 non-null  int64  \n",
      " 8   Category Name                  180519 non-null  object \n",
      " 9   Customer City                  180519 non-null  object \n",
      " 10  Customer Country               180519 non-null  object \n",
      " 11  Customer Email                 0 non-null       float64\n",
      " 12  Customer Fname                 180519 non-null  object \n",
      " 13  Customer Id                    180519 non-null  int64  \n",
      " 14  Customer Lname                 180511 non-null  object \n",
      " 15  Customer Password              0 non-null       float64\n",
      " 16  Customer Segment               180519 non-null  object \n",
      " 17  Customer State                 180519 non-null  object \n",
      " 18  Customer Street                180519 non-null  object \n",
      " 19  Customer Zipcode               180516 non-null  float64\n",
      " 20  Department Id                  180519 non-null  int64  \n",
      " 21  Department Name                180519 non-null  object \n",
      " 22  Latitude                       180519 non-null  float64\n",
      " 23  Longitude                      180519 non-null  float64\n",
      " 24  Market                         180519 non-null  object \n",
      " 25  Order City                     180519 non-null  object \n",
      " 26  Order Country                  180519 non-null  object \n",
      " 27  Order Customer Id              180519 non-null  int64  \n",
      " 28  order date (DateOrders)        180519 non-null  object \n",
      " 29  Order Id                       180519 non-null  int64  \n",
      " 30  Order Item Cardprod Id         180519 non-null  int64  \n",
      " 31  Order Item Discount            180519 non-null  float64\n",
      " 32  Order Item Discount Rate       180519 non-null  float64\n",
      " 33  Order Item Id                  180519 non-null  int64  \n",
      " 34  Order Item Product Price       180519 non-null  float64\n",
      " 35  Order Item Profit Ratio        180519 non-null  float64\n",
      " 36  Order Item Quantity            180519 non-null  int64  \n",
      " 37  Sales                          180519 non-null  float64\n",
      " 38  Order Item Total               180519 non-null  float64\n",
      " 39  Order Profit Per Order         180519 non-null  float64\n",
      " 40  Order Region                   180519 non-null  object \n",
      " 41  Order State                    180519 non-null  object \n",
      " 42  Order Status                   180519 non-null  object \n",
      " 43  Order Zipcode                  24840 non-null   float64\n",
      " 44  Product Card Id                180519 non-null  int64  \n",
      " 45  Product Category Id            180519 non-null  int64  \n",
      " 46  Product Description            0 non-null       float64\n",
      " 47  Product Image                  180519 non-null  object \n",
      " 48  Product Name                   180519 non-null  object \n",
      " 49  Product Price                  180519 non-null  float64\n",
      " 50  Product Status                 180519 non-null  int64  \n",
      " 51  shipping date (DateOrders)     180519 non-null  object \n",
      " 52  Shipping Mode                  180519 non-null  object \n",
      "dtypes: float64(17), int64(14), object(22)\n",
      "memory usage: 73.0+ MB\n"
     ]
    }
   ],
   "source": [
    "schain = pd.read_csv('/Users/teitelbaumsair/Desktop/Data Bootcamp Repo/DI_Bootcamp/Data Bootcamp Final Project/Data/DataCoSupplyChainDataset.csv')\n",
    "schain.info()"
   ]
  },
  {
   "cell_type": "code",
   "execution_count": 117,
   "metadata": {},
   "outputs": [
    {
     "data": {
      "text/html": [
       "<div>\n",
       "<style scoped>\n",
       "    .dataframe tbody tr th:only-of-type {\n",
       "        vertical-align: middle;\n",
       "    }\n",
       "\n",
       "    .dataframe tbody tr th {\n",
       "        vertical-align: top;\n",
       "    }\n",
       "\n",
       "    .dataframe thead th {\n",
       "        text-align: right;\n",
       "    }\n",
       "</style>\n",
       "<table border=\"1\" class=\"dataframe\">\n",
       "  <thead>\n",
       "    <tr style=\"text-align: right;\">\n",
       "      <th></th>\n",
       "      <th>Type</th>\n",
       "      <th>Days for shipping (real)</th>\n",
       "      <th>Days for shipment (scheduled)</th>\n",
       "      <th>Benefit per order</th>\n",
       "      <th>Sales per customer</th>\n",
       "      <th>Delivery Status</th>\n",
       "      <th>Late_delivery_risk</th>\n",
       "      <th>Category Id</th>\n",
       "      <th>Category Name</th>\n",
       "      <th>Customer City</th>\n",
       "      <th>Customer Country</th>\n",
       "      <th>Customer Email</th>\n",
       "      <th>Customer Fname</th>\n",
       "      <th>Customer Id</th>\n",
       "      <th>Customer Lname</th>\n",
       "      <th>Customer Password</th>\n",
       "      <th>Customer Segment</th>\n",
       "      <th>Customer State</th>\n",
       "      <th>Customer Street</th>\n",
       "      <th>Customer Zipcode</th>\n",
       "      <th>Department Id</th>\n",
       "      <th>Department Name</th>\n",
       "      <th>Latitude</th>\n",
       "      <th>Longitude</th>\n",
       "      <th>Market</th>\n",
       "      <th>Order City</th>\n",
       "      <th>Order Country</th>\n",
       "      <th>Order Customer Id</th>\n",
       "      <th>order date (DateOrders)</th>\n",
       "      <th>Order Id</th>\n",
       "      <th>Order Item Cardprod Id</th>\n",
       "      <th>Order Item Discount</th>\n",
       "      <th>Order Item Discount Rate</th>\n",
       "      <th>Order Item Id</th>\n",
       "      <th>Order Item Product Price</th>\n",
       "      <th>Order Item Profit Ratio</th>\n",
       "      <th>Order Item Quantity</th>\n",
       "      <th>Sales</th>\n",
       "      <th>Order Item Total</th>\n",
       "      <th>Order Profit Per Order</th>\n",
       "      <th>Order Region</th>\n",
       "      <th>Order State</th>\n",
       "      <th>Order Status</th>\n",
       "      <th>Order Zipcode</th>\n",
       "      <th>Product Card Id</th>\n",
       "      <th>Product Category Id</th>\n",
       "      <th>Product Description</th>\n",
       "      <th>Product Image</th>\n",
       "      <th>Product Name</th>\n",
       "      <th>Product Price</th>\n",
       "      <th>Product Status</th>\n",
       "      <th>shipping date (DateOrders)</th>\n",
       "      <th>Shipping Mode</th>\n",
       "    </tr>\n",
       "  </thead>\n",
       "  <tbody>\n",
       "    <tr>\n",
       "      <th>0</th>\n",
       "      <td>CASH</td>\n",
       "      <td>2</td>\n",
       "      <td>4</td>\n",
       "      <td>88.790001</td>\n",
       "      <td>239.979996</td>\n",
       "      <td>Advance shipping</td>\n",
       "      <td>0</td>\n",
       "      <td>43</td>\n",
       "      <td>Camping &amp; Hiking</td>\n",
       "      <td>Hickory</td>\n",
       "      <td>USA</td>\n",
       "      <td>NaN</td>\n",
       "      <td>Mary</td>\n",
       "      <td>11599</td>\n",
       "      <td>Malone</td>\n",
       "      <td>NaN</td>\n",
       "      <td>Consumer</td>\n",
       "      <td>NC</td>\n",
       "      <td>8708 Indian Horse Highway</td>\n",
       "      <td>28601.0</td>\n",
       "      <td>7</td>\n",
       "      <td>Fan Shop</td>\n",
       "      <td>35.776661</td>\n",
       "      <td>-81.362625</td>\n",
       "      <td>LATAM</td>\n",
       "      <td>Mexico City</td>\n",
       "      <td>MÈxico</td>\n",
       "      <td>11599</td>\n",
       "      <td>01/01/2015</td>\n",
       "      <td>1</td>\n",
       "      <td>957</td>\n",
       "      <td>60.000000</td>\n",
       "      <td>0.20</td>\n",
       "      <td>1</td>\n",
       "      <td>299.980011</td>\n",
       "      <td>0.37</td>\n",
       "      <td>1</td>\n",
       "      <td>299.980011</td>\n",
       "      <td>239.979996</td>\n",
       "      <td>88.790001</td>\n",
       "      <td>Central America</td>\n",
       "      <td>Distrito Federal</td>\n",
       "      <td>CLOSED</td>\n",
       "      <td>NaN</td>\n",
       "      <td>957</td>\n",
       "      <td>43</td>\n",
       "      <td>NaN</td>\n",
       "      <td>http://images.acmesports.sports/Diamondback+Wo...</td>\n",
       "      <td>Diamondback Women's Serene Classic Comfort Bi</td>\n",
       "      <td>299.980011</td>\n",
       "      <td>0</td>\n",
       "      <td>01/03/2015 00:00</td>\n",
       "      <td>Standard Class</td>\n",
       "    </tr>\n",
       "    <tr>\n",
       "      <th>1</th>\n",
       "      <td>PAYMENT</td>\n",
       "      <td>3</td>\n",
       "      <td>4</td>\n",
       "      <td>91.180000</td>\n",
       "      <td>193.990005</td>\n",
       "      <td>Advance shipping</td>\n",
       "      <td>0</td>\n",
       "      <td>48</td>\n",
       "      <td>Water Sports</td>\n",
       "      <td>Chicago</td>\n",
       "      <td>USA</td>\n",
       "      <td>NaN</td>\n",
       "      <td>David</td>\n",
       "      <td>256</td>\n",
       "      <td>Rodriguez</td>\n",
       "      <td>NaN</td>\n",
       "      <td>Consumer</td>\n",
       "      <td>IL</td>\n",
       "      <td>7605 Tawny Horse Falls</td>\n",
       "      <td>60625.0</td>\n",
       "      <td>7</td>\n",
       "      <td>Fan Shop</td>\n",
       "      <td>41.832722</td>\n",
       "      <td>-87.980484</td>\n",
       "      <td>LATAM</td>\n",
       "      <td>Dos Quebradas</td>\n",
       "      <td>Colombia</td>\n",
       "      <td>256</td>\n",
       "      <td>01/01/2015</td>\n",
       "      <td>2</td>\n",
       "      <td>1073</td>\n",
       "      <td>6.000000</td>\n",
       "      <td>0.03</td>\n",
       "      <td>2</td>\n",
       "      <td>199.990005</td>\n",
       "      <td>0.47</td>\n",
       "      <td>1</td>\n",
       "      <td>199.990005</td>\n",
       "      <td>193.990005</td>\n",
       "      <td>91.180000</td>\n",
       "      <td>South America</td>\n",
       "      <td>Risaralda</td>\n",
       "      <td>PENDING_PAYMENT</td>\n",
       "      <td>NaN</td>\n",
       "      <td>1073</td>\n",
       "      <td>48</td>\n",
       "      <td>NaN</td>\n",
       "      <td>http://images.acmesports.sports/Pelican+Sunstr...</td>\n",
       "      <td>Pelican Sunstream 100 Kayak</td>\n",
       "      <td>199.990005</td>\n",
       "      <td>0</td>\n",
       "      <td>01/04/2015 00:21</td>\n",
       "      <td>Standard Class</td>\n",
       "    </tr>\n",
       "    <tr>\n",
       "      <th>2</th>\n",
       "      <td>PAYMENT</td>\n",
       "      <td>3</td>\n",
       "      <td>4</td>\n",
       "      <td>36.470001</td>\n",
       "      <td>107.889999</td>\n",
       "      <td>Advance shipping</td>\n",
       "      <td>0</td>\n",
       "      <td>18</td>\n",
       "      <td>Men's Footwear</td>\n",
       "      <td>Chicago</td>\n",
       "      <td>USA</td>\n",
       "      <td>NaN</td>\n",
       "      <td>David</td>\n",
       "      <td>256</td>\n",
       "      <td>Rodriguez</td>\n",
       "      <td>NaN</td>\n",
       "      <td>Consumer</td>\n",
       "      <td>IL</td>\n",
       "      <td>7605 Tawny Horse Falls</td>\n",
       "      <td>60625.0</td>\n",
       "      <td>4</td>\n",
       "      <td>Apparel</td>\n",
       "      <td>41.832722</td>\n",
       "      <td>-87.980484</td>\n",
       "      <td>LATAM</td>\n",
       "      <td>Dos Quebradas</td>\n",
       "      <td>Colombia</td>\n",
       "      <td>256</td>\n",
       "      <td>01/01/2015</td>\n",
       "      <td>2</td>\n",
       "      <td>403</td>\n",
       "      <td>22.100000</td>\n",
       "      <td>0.17</td>\n",
       "      <td>4</td>\n",
       "      <td>129.990005</td>\n",
       "      <td>0.34</td>\n",
       "      <td>1</td>\n",
       "      <td>129.990005</td>\n",
       "      <td>107.889999</td>\n",
       "      <td>36.470001</td>\n",
       "      <td>South America</td>\n",
       "      <td>Risaralda</td>\n",
       "      <td>PENDING_PAYMENT</td>\n",
       "      <td>NaN</td>\n",
       "      <td>403</td>\n",
       "      <td>18</td>\n",
       "      <td>NaN</td>\n",
       "      <td>http://images.acmesports.sports/Nike+Men%27s+C...</td>\n",
       "      <td>Nike Men's CJ Elite 2 TD Football Cleat</td>\n",
       "      <td>129.990005</td>\n",
       "      <td>0</td>\n",
       "      <td>01/04/2015 00:21</td>\n",
       "      <td>Standard Class</td>\n",
       "    </tr>\n",
       "    <tr>\n",
       "      <th>3</th>\n",
       "      <td>DEBIT</td>\n",
       "      <td>3</td>\n",
       "      <td>4</td>\n",
       "      <td>22.860001</td>\n",
       "      <td>304.809998</td>\n",
       "      <td>Advance shipping</td>\n",
       "      <td>0</td>\n",
       "      <td>73</td>\n",
       "      <td>Sporting Goods</td>\n",
       "      <td>Los Angeles</td>\n",
       "      <td>USA</td>\n",
       "      <td>NaN</td>\n",
       "      <td>Tana</td>\n",
       "      <td>19490</td>\n",
       "      <td>Tate</td>\n",
       "      <td>NaN</td>\n",
       "      <td>Home Office</td>\n",
       "      <td>CA</td>\n",
       "      <td>3200 Amber Bend</td>\n",
       "      <td>90027.0</td>\n",
       "      <td>2</td>\n",
       "      <td>Fitness</td>\n",
       "      <td>34.125946</td>\n",
       "      <td>-118.291016</td>\n",
       "      <td>Pacific Asia</td>\n",
       "      <td>Townsville</td>\n",
       "      <td>Australia</td>\n",
       "      <td>19490</td>\n",
       "      <td>1/13/2018 11:45</td>\n",
       "      <td>75937</td>\n",
       "      <td>1360</td>\n",
       "      <td>22.940001</td>\n",
       "      <td>0.07</td>\n",
       "      <td>179252</td>\n",
       "      <td>327.750000</td>\n",
       "      <td>0.08</td>\n",
       "      <td>1</td>\n",
       "      <td>327.750000</td>\n",
       "      <td>304.809998</td>\n",
       "      <td>22.860001</td>\n",
       "      <td>Oceania</td>\n",
       "      <td>Queensland</td>\n",
       "      <td>COMPLETE</td>\n",
       "      <td>NaN</td>\n",
       "      <td>1360</td>\n",
       "      <td>73</td>\n",
       "      <td>NaN</td>\n",
       "      <td>http://images.acmesports.sports/Smart+watch</td>\n",
       "      <td>Smart watch</td>\n",
       "      <td>327.750000</td>\n",
       "      <td>0</td>\n",
       "      <td>1/16/2018 11:45</td>\n",
       "      <td>Standard Class</td>\n",
       "    </tr>\n",
       "    <tr>\n",
       "      <th>4</th>\n",
       "      <td>PAYMENT</td>\n",
       "      <td>2</td>\n",
       "      <td>4</td>\n",
       "      <td>134.210007</td>\n",
       "      <td>298.250000</td>\n",
       "      <td>Advance shipping</td>\n",
       "      <td>0</td>\n",
       "      <td>73</td>\n",
       "      <td>Sporting Goods</td>\n",
       "      <td>Caguas</td>\n",
       "      <td>Puerto Rico</td>\n",
       "      <td>NaN</td>\n",
       "      <td>Orli</td>\n",
       "      <td>19489</td>\n",
       "      <td>Hendricks</td>\n",
       "      <td>NaN</td>\n",
       "      <td>Corporate</td>\n",
       "      <td>PR</td>\n",
       "      <td>8671 Iron Anchor Corners</td>\n",
       "      <td>725.0</td>\n",
       "      <td>2</td>\n",
       "      <td>Fitness</td>\n",
       "      <td>18.253769</td>\n",
       "      <td>-66.037048</td>\n",
       "      <td>Pacific Asia</td>\n",
       "      <td>Townsville</td>\n",
       "      <td>Australia</td>\n",
       "      <td>19489</td>\n",
       "      <td>1/13/2018 11:24</td>\n",
       "      <td>75936</td>\n",
       "      <td>1360</td>\n",
       "      <td>29.500000</td>\n",
       "      <td>0.09</td>\n",
       "      <td>179251</td>\n",
       "      <td>327.750000</td>\n",
       "      <td>0.45</td>\n",
       "      <td>1</td>\n",
       "      <td>327.750000</td>\n",
       "      <td>298.250000</td>\n",
       "      <td>134.210007</td>\n",
       "      <td>Oceania</td>\n",
       "      <td>Queensland</td>\n",
       "      <td>PENDING_PAYMENT</td>\n",
       "      <td>NaN</td>\n",
       "      <td>1360</td>\n",
       "      <td>73</td>\n",
       "      <td>NaN</td>\n",
       "      <td>http://images.acmesports.sports/Smart+watch</td>\n",
       "      <td>Smart watch</td>\n",
       "      <td>327.750000</td>\n",
       "      <td>0</td>\n",
       "      <td>1/15/2018 11:24</td>\n",
       "      <td>Standard Class</td>\n",
       "    </tr>\n",
       "  </tbody>\n",
       "</table>\n",
       "</div>"
      ],
      "text/plain": [
       "      Type  Days for shipping (real)  Days for shipment (scheduled)  \\\n",
       "0     CASH                         2                              4   \n",
       "1  PAYMENT                         3                              4   \n",
       "2  PAYMENT                         3                              4   \n",
       "3    DEBIT                         3                              4   \n",
       "4  PAYMENT                         2                              4   \n",
       "\n",
       "   Benefit per order  Sales per customer   Delivery Status  \\\n",
       "0          88.790001          239.979996  Advance shipping   \n",
       "1          91.180000          193.990005  Advance shipping   \n",
       "2          36.470001          107.889999  Advance shipping   \n",
       "3          22.860001          304.809998  Advance shipping   \n",
       "4         134.210007          298.250000  Advance shipping   \n",
       "\n",
       "   Late_delivery_risk  Category Id     Category Name Customer City  \\\n",
       "0                   0           43  Camping & Hiking       Hickory   \n",
       "1                   0           48      Water Sports       Chicago   \n",
       "2                   0           18    Men's Footwear       Chicago   \n",
       "3                   0           73    Sporting Goods   Los Angeles   \n",
       "4                   0           73    Sporting Goods        Caguas   \n",
       "\n",
       "  Customer Country  Customer Email Customer Fname  Customer Id Customer Lname  \\\n",
       "0              USA             NaN           Mary        11599         Malone   \n",
       "1              USA             NaN          David          256      Rodriguez   \n",
       "2              USA             NaN          David          256      Rodriguez   \n",
       "3              USA             NaN           Tana        19490           Tate   \n",
       "4      Puerto Rico             NaN           Orli        19489      Hendricks   \n",
       "\n",
       "   Customer Password Customer Segment Customer State  \\\n",
       "0                NaN         Consumer             NC   \n",
       "1                NaN         Consumer             IL   \n",
       "2                NaN         Consumer             IL   \n",
       "3                NaN      Home Office             CA   \n",
       "4                NaN        Corporate             PR   \n",
       "\n",
       "             Customer Street  Customer Zipcode  Department Id Department Name  \\\n",
       "0  8708 Indian Horse Highway           28601.0              7        Fan Shop   \n",
       "1     7605 Tawny Horse Falls           60625.0              7        Fan Shop   \n",
       "2     7605 Tawny Horse Falls           60625.0              4         Apparel   \n",
       "3            3200 Amber Bend           90027.0              2         Fitness   \n",
       "4   8671 Iron Anchor Corners             725.0              2         Fitness   \n",
       "\n",
       "    Latitude   Longitude        Market     Order City Order Country  \\\n",
       "0  35.776661  -81.362625         LATAM    Mexico City        MÈxico   \n",
       "1  41.832722  -87.980484         LATAM  Dos Quebradas      Colombia   \n",
       "2  41.832722  -87.980484         LATAM  Dos Quebradas      Colombia   \n",
       "3  34.125946 -118.291016  Pacific Asia     Townsville     Australia   \n",
       "4  18.253769  -66.037048  Pacific Asia     Townsville     Australia   \n",
       "\n",
       "   Order Customer Id order date (DateOrders)  Order Id  \\\n",
       "0              11599              01/01/2015         1   \n",
       "1                256              01/01/2015         2   \n",
       "2                256              01/01/2015         2   \n",
       "3              19490         1/13/2018 11:45     75937   \n",
       "4              19489         1/13/2018 11:24     75936   \n",
       "\n",
       "   Order Item Cardprod Id  Order Item Discount  Order Item Discount Rate  \\\n",
       "0                     957            60.000000                      0.20   \n",
       "1                    1073             6.000000                      0.03   \n",
       "2                     403            22.100000                      0.17   \n",
       "3                    1360            22.940001                      0.07   \n",
       "4                    1360            29.500000                      0.09   \n",
       "\n",
       "   Order Item Id  Order Item Product Price  Order Item Profit Ratio  \\\n",
       "0              1                299.980011                     0.37   \n",
       "1              2                199.990005                     0.47   \n",
       "2              4                129.990005                     0.34   \n",
       "3         179252                327.750000                     0.08   \n",
       "4         179251                327.750000                     0.45   \n",
       "\n",
       "   Order Item Quantity       Sales  Order Item Total  Order Profit Per Order  \\\n",
       "0                    1  299.980011        239.979996               88.790001   \n",
       "1                    1  199.990005        193.990005               91.180000   \n",
       "2                    1  129.990005        107.889999               36.470001   \n",
       "3                    1  327.750000        304.809998               22.860001   \n",
       "4                    1  327.750000        298.250000              134.210007   \n",
       "\n",
       "      Order Region       Order State     Order Status  Order Zipcode  \\\n",
       "0  Central America  Distrito Federal           CLOSED            NaN   \n",
       "1    South America         Risaralda  PENDING_PAYMENT            NaN   \n",
       "2    South America         Risaralda  PENDING_PAYMENT            NaN   \n",
       "3          Oceania        Queensland         COMPLETE            NaN   \n",
       "4          Oceania        Queensland  PENDING_PAYMENT            NaN   \n",
       "\n",
       "   Product Card Id  Product Category Id  Product Description  \\\n",
       "0              957                   43                  NaN   \n",
       "1             1073                   48                  NaN   \n",
       "2              403                   18                  NaN   \n",
       "3             1360                   73                  NaN   \n",
       "4             1360                   73                  NaN   \n",
       "\n",
       "                                       Product Image  \\\n",
       "0  http://images.acmesports.sports/Diamondback+Wo...   \n",
       "1  http://images.acmesports.sports/Pelican+Sunstr...   \n",
       "2  http://images.acmesports.sports/Nike+Men%27s+C...   \n",
       "3       http://images.acmesports.sports/Smart+watch    \n",
       "4       http://images.acmesports.sports/Smart+watch    \n",
       "\n",
       "                                    Product Name  Product Price  \\\n",
       "0  Diamondback Women's Serene Classic Comfort Bi     299.980011   \n",
       "1                    Pelican Sunstream 100 Kayak     199.990005   \n",
       "2        Nike Men's CJ Elite 2 TD Football Cleat     129.990005   \n",
       "3                                   Smart watch      327.750000   \n",
       "4                                   Smart watch      327.750000   \n",
       "\n",
       "   Product Status shipping date (DateOrders)   Shipping Mode  \n",
       "0               0           01/03/2015 00:00  Standard Class  \n",
       "1               0           01/04/2015 00:21  Standard Class  \n",
       "2               0           01/04/2015 00:21  Standard Class  \n",
       "3               0            1/16/2018 11:45  Standard Class  \n",
       "4               0            1/15/2018 11:24  Standard Class  "
      ]
     },
     "execution_count": 117,
     "metadata": {},
     "output_type": "execute_result"
    }
   ],
   "source": [
    "schain.head()"
   ]
  },
  {
   "cell_type": "markdown",
   "metadata": {},
   "source": [
    "### Data Preparation and Cleaning\n",
    "- Drop Null Columns: `Customer Email`, `Customer Password`, `Product Description`, `Order Zipcode`.\n",
    "- Fill Null Values: `Customer Zipcode` (With a series of 0's), `Customer Lname` (With 'No Last Name').\n",
    "- Check for duplicates and remove them."
   ]
  },
  {
   "cell_type": "code",
   "execution_count": 118,
   "metadata": {},
   "outputs": [
    {
     "data": {
      "text/plain": [
       "np.int64(0)"
      ]
     },
     "execution_count": 118,
     "metadata": {},
     "output_type": "execute_result"
    }
   ],
   "source": [
    "schain.duplicated().sum()"
   ]
  },
  {
   "cell_type": "markdown",
   "metadata": {},
   "source": [
    "##### No Duplicate Values"
   ]
  },
  {
   "cell_type": "code",
   "execution_count": 119,
   "metadata": {},
   "outputs": [
    {
     "data": {
      "text/plain": [
       "Type                                  0\n",
       "Days for shipping (real)              0\n",
       "Days for shipment (scheduled)         0\n",
       "Benefit per order                     0\n",
       "Sales per customer                    0\n",
       "Delivery Status                       0\n",
       "Late_delivery_risk                    0\n",
       "Category Id                           0\n",
       "Category Name                         0\n",
       "Customer City                         0\n",
       "Customer Country                      0\n",
       "Customer Email                   180519\n",
       "Customer Fname                        0\n",
       "Customer Id                           0\n",
       "Customer Lname                        8\n",
       "Customer Password                180519\n",
       "Customer Segment                      0\n",
       "Customer State                        0\n",
       "Customer Street                       0\n",
       "Customer Zipcode                      3\n",
       "Department Id                         0\n",
       "Department Name                       0\n",
       "Latitude                              0\n",
       "Longitude                             0\n",
       "Market                                0\n",
       "Order City                            0\n",
       "Order Country                         0\n",
       "Order Customer Id                     0\n",
       "order date (DateOrders)               0\n",
       "Order Id                              0\n",
       "Order Item Cardprod Id                0\n",
       "Order Item Discount                   0\n",
       "Order Item Discount Rate              0\n",
       "Order Item Id                         0\n",
       "Order Item Product Price              0\n",
       "Order Item Profit Ratio               0\n",
       "Order Item Quantity                   0\n",
       "Sales                                 0\n",
       "Order Item Total                      0\n",
       "Order Profit Per Order                0\n",
       "Order Region                          0\n",
       "Order State                           0\n",
       "Order Status                          0\n",
       "Order Zipcode                    155679\n",
       "Product Card Id                       0\n",
       "Product Category Id                   0\n",
       "Product Description              180519\n",
       "Product Image                         0\n",
       "Product Name                          0\n",
       "Product Price                         0\n",
       "Product Status                        0\n",
       "shipping date (DateOrders)            0\n",
       "Shipping Mode                         0\n",
       "dtype: int64"
      ]
     },
     "execution_count": 119,
     "metadata": {},
     "output_type": "execute_result"
    }
   ],
   "source": [
    "schain.isna().sum()"
   ]
  },
  {
   "cell_type": "code",
   "execution_count": 120,
   "metadata": {},
   "outputs": [],
   "source": [
    "# Drop Null Columns: `Customer Email`, `Customer Password`, `Product Description`.\n",
    "schain.drop(columns=['Customer Email', 'Customer Password', 'Product Description','Order Zipcode'], inplace=True)\n"
   ]
  },
  {
   "cell_type": "code",
   "execution_count": 121,
   "metadata": {},
   "outputs": [],
   "source": [
    "# Fill Null Values: `Customer Zipcode` (With a series of 0's), `Customer Lname` (With 'No Last Name').\n",
    "schain = schain.fillna({'Customer Zipcode': 0, 'Customer Lname': 'No Last Name'})"
   ]
  },
  {
   "cell_type": "code",
   "execution_count": 122,
   "metadata": {},
   "outputs": [
    {
     "name": "stdout",
     "output_type": "stream",
     "text": [
      "Total number of null values in the DataFrame: 0\n"
     ]
    }
   ],
   "source": [
    "total_nulls = schain.isnull().sum().sum()\n",
    "print(f\"Total number of null values in the DataFrame: {total_nulls}\")"
   ]
  },
  {
   "cell_type": "code",
   "execution_count": 123,
   "metadata": {},
   "outputs": [
    {
     "name": "stdout",
     "output_type": "stream",
     "text": [
      "<class 'pandas.core.frame.DataFrame'>\n",
      "RangeIndex: 180519 entries, 0 to 180518\n",
      "Data columns (total 49 columns):\n",
      " #   Column                         Non-Null Count   Dtype  \n",
      "---  ------                         --------------   -----  \n",
      " 0   Type                           180519 non-null  object \n",
      " 1   Days for shipping (real)       180519 non-null  int64  \n",
      " 2   Days for shipment (scheduled)  180519 non-null  int64  \n",
      " 3   Benefit per order              180519 non-null  float64\n",
      " 4   Sales per customer             180519 non-null  float64\n",
      " 5   Delivery Status                180519 non-null  object \n",
      " 6   Late_delivery_risk             180519 non-null  int64  \n",
      " 7   Category Id                    180519 non-null  int64  \n",
      " 8   Category Name                  180519 non-null  object \n",
      " 9   Customer City                  180519 non-null  object \n",
      " 10  Customer Country               180519 non-null  object \n",
      " 11  Customer Fname                 180519 non-null  object \n",
      " 12  Customer Id                    180519 non-null  int64  \n",
      " 13  Customer Lname                 180519 non-null  object \n",
      " 14  Customer Segment               180519 non-null  object \n",
      " 15  Customer State                 180519 non-null  object \n",
      " 16  Customer Street                180519 non-null  object \n",
      " 17  Customer Zipcode               180519 non-null  float64\n",
      " 18  Department Id                  180519 non-null  int64  \n",
      " 19  Department Name                180519 non-null  object \n",
      " 20  Latitude                       180519 non-null  float64\n",
      " 21  Longitude                      180519 non-null  float64\n",
      " 22  Market                         180519 non-null  object \n",
      " 23  Order City                     180519 non-null  object \n",
      " 24  Order Country                  180519 non-null  object \n",
      " 25  Order Customer Id              180519 non-null  int64  \n",
      " 26  order date (DateOrders)        180519 non-null  object \n",
      " 27  Order Id                       180519 non-null  int64  \n",
      " 28  Order Item Cardprod Id         180519 non-null  int64  \n",
      " 29  Order Item Discount            180519 non-null  float64\n",
      " 30  Order Item Discount Rate       180519 non-null  float64\n",
      " 31  Order Item Id                  180519 non-null  int64  \n",
      " 32  Order Item Product Price       180519 non-null  float64\n",
      " 33  Order Item Profit Ratio        180519 non-null  float64\n",
      " 34  Order Item Quantity            180519 non-null  int64  \n",
      " 35  Sales                          180519 non-null  float64\n",
      " 36  Order Item Total               180519 non-null  float64\n",
      " 37  Order Profit Per Order         180519 non-null  float64\n",
      " 38  Order Region                   180519 non-null  object \n",
      " 39  Order State                    180519 non-null  object \n",
      " 40  Order Status                   180519 non-null  object \n",
      " 41  Product Card Id                180519 non-null  int64  \n",
      " 42  Product Category Id            180519 non-null  int64  \n",
      " 43  Product Image                  180519 non-null  object \n",
      " 44  Product Name                   180519 non-null  object \n",
      " 45  Product Price                  180519 non-null  float64\n",
      " 46  Product Status                 180519 non-null  int64  \n",
      " 47  shipping date (DateOrders)     180519 non-null  object \n",
      " 48  Shipping Mode                  180519 non-null  object \n",
      "dtypes: float64(13), int64(14), object(22)\n",
      "memory usage: 67.5+ MB\n"
     ]
    }
   ],
   "source": [
    "schain.info()"
   ]
  },
  {
   "cell_type": "code",
   "execution_count": 124,
   "metadata": {},
   "outputs": [],
   "source": [
    "columns_to_change = ['Category Id', 'Customer Id', 'Department Id', 'Order Customer Id', 'Order Id', 'Order Item Cardprod Id', 'Order Item Id', 'Product Card Id', 'Product Category Id']\n",
    "schain[columns_to_change] = schain[columns_to_change].astype('object')"
   ]
  },
  {
   "cell_type": "code",
   "execution_count": 125,
   "metadata": {},
   "outputs": [
    {
     "name": "stdout",
     "output_type": "stream",
     "text": [
      "<class 'pandas.core.frame.DataFrame'>\n",
      "RangeIndex: 180519 entries, 0 to 180518\n",
      "Data columns (total 49 columns):\n",
      " #   Column                         Non-Null Count   Dtype  \n",
      "---  ------                         --------------   -----  \n",
      " 0   Type                           180519 non-null  object \n",
      " 1   Days for shipping (real)       180519 non-null  int64  \n",
      " 2   Days for shipment (scheduled)  180519 non-null  int64  \n",
      " 3   Benefit per order              180519 non-null  float64\n",
      " 4   Sales per customer             180519 non-null  float64\n",
      " 5   Delivery Status                180519 non-null  object \n",
      " 6   Late_delivery_risk             180519 non-null  int64  \n",
      " 7   Category Id                    180519 non-null  object \n",
      " 8   Category Name                  180519 non-null  object \n",
      " 9   Customer City                  180519 non-null  object \n",
      " 10  Customer Country               180519 non-null  object \n",
      " 11  Customer Fname                 180519 non-null  object \n",
      " 12  Customer Id                    180519 non-null  object \n",
      " 13  Customer Lname                 180519 non-null  object \n",
      " 14  Customer Segment               180519 non-null  object \n",
      " 15  Customer State                 180519 non-null  object \n",
      " 16  Customer Street                180519 non-null  object \n",
      " 17  Customer Zipcode               180519 non-null  float64\n",
      " 18  Department Id                  180519 non-null  object \n",
      " 19  Department Name                180519 non-null  object \n",
      " 20  Latitude                       180519 non-null  float64\n",
      " 21  Longitude                      180519 non-null  float64\n",
      " 22  Market                         180519 non-null  object \n",
      " 23  Order City                     180519 non-null  object \n",
      " 24  Order Country                  180519 non-null  object \n",
      " 25  Order Customer Id              180519 non-null  object \n",
      " 26  order date (DateOrders)        180519 non-null  object \n",
      " 27  Order Id                       180519 non-null  object \n",
      " 28  Order Item Cardprod Id         180519 non-null  object \n",
      " 29  Order Item Discount            180519 non-null  float64\n",
      " 30  Order Item Discount Rate       180519 non-null  float64\n",
      " 31  Order Item Id                  180519 non-null  object \n",
      " 32  Order Item Product Price       180519 non-null  float64\n",
      " 33  Order Item Profit Ratio        180519 non-null  float64\n",
      " 34  Order Item Quantity            180519 non-null  int64  \n",
      " 35  Sales                          180519 non-null  float64\n",
      " 36  Order Item Total               180519 non-null  float64\n",
      " 37  Order Profit Per Order         180519 non-null  float64\n",
      " 38  Order Region                   180519 non-null  object \n",
      " 39  Order State                    180519 non-null  object \n",
      " 40  Order Status                   180519 non-null  object \n",
      " 41  Product Card Id                180519 non-null  object \n",
      " 42  Product Category Id            180519 non-null  object \n",
      " 43  Product Image                  180519 non-null  object \n",
      " 44  Product Name                   180519 non-null  object \n",
      " 45  Product Price                  180519 non-null  float64\n",
      " 46  Product Status                 180519 non-null  int64  \n",
      " 47  shipping date (DateOrders)     180519 non-null  object \n",
      " 48  Shipping Mode                  180519 non-null  object \n",
      "dtypes: float64(13), int64(5), object(31)\n",
      "memory usage: 67.5+ MB\n"
     ]
    }
   ],
   "source": [
    "schain.info()"
   ]
  },
  {
   "cell_type": "code",
   "execution_count": 126,
   "metadata": {},
   "outputs": [],
   "source": [
    "schain['order date (DateOrders)'] = schain['order date (DateOrders)'].astype(str)\n",
    "schain['shipping date (DateOrders)'] = schain['shipping date (DateOrders)'].astype(str)\n",
    "\n",
    "# Use string slicing to remove everything after the year (to get just MM/DD/YYYY)\n",
    "schain['order date (DateOrders)'] = schain['order date (DateOrders)'].str.slice(0, 10).str.strip()\n",
    "schain['shipping date (DateOrders)'] = schain['shipping date (DateOrders)'].str.slice(0, 10).str.strip()\n",
    "\n",
    "# Convert back to datetime format (without time)\n",
    "schain['order date (DateOrders)'] = pd.to_datetime(schain['order date (DateOrders)'], format='%m/%d/%Y', errors='coerce')\n",
    "schain['shipping date (DateOrders)'] = pd.to_datetime(schain['shipping date (DateOrders)'], format='%m/%d/%Y', errors='coerce')\n",
    "\n"
   ]
  },
  {
   "cell_type": "markdown",
   "metadata": {},
   "source": [
    "### Data Segmentation\n",
    "- Data segmentation is important because it enables businesses and analysts to derive more meaningful and actionable insights from data. This analysis will focus on segmenting by department, customer segment (home office, consumer, corporate), and delivery status.\n",
    "\n",
    "- Segmentation along these lines will give the analysi more meaningful data for cohorts like time cohorts, behavior cohorts, and size cohorts. "
   ]
  },
  {
   "cell_type": "code",
   "execution_count": 127,
   "metadata": {},
   "outputs": [],
   "source": [
    "department_group = schain.groupby('Department Name')\n",
    "customer_segment_group = schain.groupby('Customer Segment')\n",
    "delivery_status_group = schain.groupby('Delivery Status')"
   ]
  },
  {
   "cell_type": "markdown",
   "metadata": {},
   "source": [
    "### 4. Exploratory Analysis\n",
    "- **Trend Analysis**\n",
    "    - Department trend analysis:\n",
    "        - Total Sales by Department\n",
    "        - Average Sales per Customer\n",
    "        - Average Days for Shipment (Scheduled & Real): Compute the average of Days for shipment (scheduled) and Days for shipping (real) to compare expected vs actual shipment times by department.\n",
    "        - Late Delivery Risk: The average or total Late_delivery_risk to identify departments with higher risk of delays.\n",
    "    - Customer Segment Trend Analysis:\n",
    "        - Sales Performance by Customer Segment:\n",
    "            - **Total Sales**: Sum of sales for each segment across time periods.\n",
    "            - **Revenue Distribution**: Share of total revenue contributed by each segment.\n",
    "        - Customer Engagement & Segment Trends:\n",
    "            - **Customer Count by Segment**: Number of customers in each segment over time.\n",
    "            - **Average Transaction Value**: Sales per customer for each segment.\n",
    "        - Product Pricing Impact on Segments:\n",
    "            - **Average Product Price**: Price trends across segments.\n",
    "            - **Price vs. Quantity Purchased**: Correlation between product price and total units sold by segment.\n",
    "        - Seasonal Sales & Segment Behavior:\n",
    "            - **Monthly Sales Patterns**: Comparing sales across months for each segment.\n",
    "            - **Sales Volatility**: Identify segments with the highest sales fluctuations.\n",
    "    - Delivery Status Trend Analysis\n",
    "        - Describe the data\n",
    "        - Explore trends, explore potential hypothesis for testing.\n",
    "        - visualize general observations and outliers that should be explored further."
   ]
  },
  {
   "cell_type": "markdown",
   "metadata": {},
   "source": [
    "### Department Trend Analysis"
   ]
  },
  {
   "cell_type": "code",
   "execution_count": 128,
   "metadata": {},
   "outputs": [
    {
     "data": {
      "text/html": [
       "<div>\n",
       "<style scoped>\n",
       "    .dataframe tbody tr th:only-of-type {\n",
       "        vertical-align: middle;\n",
       "    }\n",
       "\n",
       "    .dataframe tbody tr th {\n",
       "        vertical-align: top;\n",
       "    }\n",
       "\n",
       "    .dataframe thead th {\n",
       "        text-align: right;\n",
       "    }\n",
       "</style>\n",
       "<table border=\"1\" class=\"dataframe\">\n",
       "  <thead>\n",
       "    <tr style=\"text-align: right;\">\n",
       "      <th></th>\n",
       "      <th>Department Name</th>\n",
       "      <th>Total Sales</th>\n",
       "      <th>Average Sales</th>\n",
       "      <th>Average Sales per Customer</th>\n",
       "      <th>Avg Days Shipment Scheduled</th>\n",
       "      <th>Avg Days Shipping Real</th>\n",
       "      <th>Avg Late Delivery Risk</th>\n",
       "      <th>Total Late Delivery Risk</th>\n",
       "    </tr>\n",
       "  </thead>\n",
       "  <tbody>\n",
       "    <tr>\n",
       "      <th>0</th>\n",
       "      <td>Apparel</td>\n",
       "      <td>7.976255e+06</td>\n",
       "      <td>162.787366</td>\n",
       "      <td>146.284628</td>\n",
       "      <td>2.932834</td>\n",
       "      <td>3.504776</td>\n",
       "      <td>0.547471</td>\n",
       "      <td>26825</td>\n",
       "    </tr>\n",
       "    <tr>\n",
       "      <th>1</th>\n",
       "      <td>Book Shop</td>\n",
       "      <td>1.258740e+04</td>\n",
       "      <td>31.080000</td>\n",
       "      <td>27.909679</td>\n",
       "      <td>2.856790</td>\n",
       "      <td>3.390123</td>\n",
       "      <td>0.565432</td>\n",
       "      <td>229</td>\n",
       "    </tr>\n",
       "    <tr>\n",
       "      <th>2</th>\n",
       "      <td>Discs Shop</td>\n",
       "      <td>2.288877e+05</td>\n",
       "      <td>112.975187</td>\n",
       "      <td>101.518213</td>\n",
       "      <td>3.012833</td>\n",
       "      <td>3.562192</td>\n",
       "      <td>0.544423</td>\n",
       "      <td>1103</td>\n",
       "    </tr>\n",
       "    <tr>\n",
       "      <th>3</th>\n",
       "      <td>Fan Shop</td>\n",
       "      <td>1.711387e+07</td>\n",
       "      <td>255.961935</td>\n",
       "      <td>230.008252</td>\n",
       "      <td>2.934611</td>\n",
       "      <td>3.494593</td>\n",
       "      <td>0.547748</td>\n",
       "      <td>36623</td>\n",
       "    </tr>\n",
       "    <tr>\n",
       "      <th>4</th>\n",
       "      <td>Fitness</td>\n",
       "      <td>3.970509e+05</td>\n",
       "      <td>160.165749</td>\n",
       "      <td>144.073522</td>\n",
       "      <td>2.920936</td>\n",
       "      <td>3.505042</td>\n",
       "      <td>0.555466</td>\n",
       "      <td>1377</td>\n",
       "    </tr>\n",
       "    <tr>\n",
       "      <th>5</th>\n",
       "      <td>Footwear</td>\n",
       "      <td>4.006499e+06</td>\n",
       "      <td>275.834683</td>\n",
       "      <td>247.811968</td>\n",
       "      <td>2.931773</td>\n",
       "      <td>3.492461</td>\n",
       "      <td>0.547263</td>\n",
       "      <td>7949</td>\n",
       "    </tr>\n",
       "    <tr>\n",
       "      <th>6</th>\n",
       "      <td>Golf</td>\n",
       "      <td>4.609028e+06</td>\n",
       "      <td>138.742572</td>\n",
       "      <td>124.686964</td>\n",
       "      <td>2.922818</td>\n",
       "      <td>3.488501</td>\n",
       "      <td>0.547803</td>\n",
       "      <td>18198</td>\n",
       "    </tr>\n",
       "    <tr>\n",
       "      <th>7</th>\n",
       "      <td>Health and Beauty</td>\n",
       "      <td>1.060805e+05</td>\n",
       "      <td>293.040008</td>\n",
       "      <td>263.420194</td>\n",
       "      <td>2.925414</td>\n",
       "      <td>3.458564</td>\n",
       "      <td>0.558011</td>\n",
       "      <td>202</td>\n",
       "    </tr>\n",
       "    <tr>\n",
       "      <th>8</th>\n",
       "      <td>Outdoors</td>\n",
       "      <td>1.253351e+06</td>\n",
       "      <td>129.398250</td>\n",
       "      <td>116.245451</td>\n",
       "      <td>2.951270</td>\n",
       "      <td>3.525397</td>\n",
       "      <td>0.554925</td>\n",
       "      <td>5375</td>\n",
       "    </tr>\n",
       "    <tr>\n",
       "      <th>9</th>\n",
       "      <td>Pet Shop</td>\n",
       "      <td>4.152480e+04</td>\n",
       "      <td>84.400002</td>\n",
       "      <td>75.850203</td>\n",
       "      <td>2.678862</td>\n",
       "      <td>3.388211</td>\n",
       "      <td>0.589431</td>\n",
       "      <td>290</td>\n",
       "    </tr>\n",
       "    <tr>\n",
       "      <th>10</th>\n",
       "      <td>Technology</td>\n",
       "      <td>1.039599e+06</td>\n",
       "      <td>709.623868</td>\n",
       "      <td>637.426102</td>\n",
       "      <td>2.863481</td>\n",
       "      <td>3.449147</td>\n",
       "      <td>0.550171</td>\n",
       "      <td>806</td>\n",
       "    </tr>\n",
       "  </tbody>\n",
       "</table>\n",
       "</div>"
      ],
      "text/plain": [
       "       Department Name   Total Sales  Average Sales  \\\n",
       "0              Apparel  7.976255e+06     162.787366   \n",
       "1            Book Shop  1.258740e+04      31.080000   \n",
       "2           Discs Shop  2.288877e+05     112.975187   \n",
       "3             Fan Shop  1.711387e+07     255.961935   \n",
       "4              Fitness  3.970509e+05     160.165749   \n",
       "5             Footwear  4.006499e+06     275.834683   \n",
       "6                 Golf  4.609028e+06     138.742572   \n",
       "7   Health and Beauty   1.060805e+05     293.040008   \n",
       "8             Outdoors  1.253351e+06     129.398250   \n",
       "9             Pet Shop  4.152480e+04      84.400002   \n",
       "10          Technology  1.039599e+06     709.623868   \n",
       "\n",
       "    Average Sales per Customer  Avg Days Shipment Scheduled  \\\n",
       "0                   146.284628                     2.932834   \n",
       "1                    27.909679                     2.856790   \n",
       "2                   101.518213                     3.012833   \n",
       "3                   230.008252                     2.934611   \n",
       "4                   144.073522                     2.920936   \n",
       "5                   247.811968                     2.931773   \n",
       "6                   124.686964                     2.922818   \n",
       "7                   263.420194                     2.925414   \n",
       "8                   116.245451                     2.951270   \n",
       "9                    75.850203                     2.678862   \n",
       "10                  637.426102                     2.863481   \n",
       "\n",
       "    Avg Days Shipping Real  Avg Late Delivery Risk  Total Late Delivery Risk  \n",
       "0                 3.504776                0.547471                     26825  \n",
       "1                 3.390123                0.565432                       229  \n",
       "2                 3.562192                0.544423                      1103  \n",
       "3                 3.494593                0.547748                     36623  \n",
       "4                 3.505042                0.555466                      1377  \n",
       "5                 3.492461                0.547263                      7949  \n",
       "6                 3.488501                0.547803                     18198  \n",
       "7                 3.458564                0.558011                       202  \n",
       "8                 3.525397                0.554925                      5375  \n",
       "9                 3.388211                0.589431                       290  \n",
       "10                3.449147                0.550171                       806  "
      ]
     },
     "execution_count": 128,
     "metadata": {},
     "output_type": "execute_result"
    }
   ],
   "source": [
    "pd.set_option('display.max_columns', None)\n",
    "department_group = schain.groupby('Department Name').agg({\n",
    "    'Sales': ['sum', 'mean'],\n",
    "    'Sales per customer': 'mean',\n",
    "    'Days for shipment (scheduled)': 'mean',\n",
    "    'Days for shipping (real)': 'mean',\n",
    "    'Late_delivery_risk': ['mean', 'sum']\n",
    "}).reset_index()\n",
    "\n",
    "department_group.columns = ['Department Name', 'Total Sales', 'Average Sales', 'Average Sales per Customer', \n",
    "                            'Avg Days Shipment Scheduled', 'Avg Days Shipping Real', \n",
    "                            'Avg Late Delivery Risk', 'Total Late Delivery Risk']\n",
    "\n",
    "department_group"
   ]
  },
  {
   "cell_type": "code",
   "execution_count": 129,
   "metadata": {},
   "outputs": [
    {
     "data": {
      "text/html": [
       "<div>\n",
       "<style scoped>\n",
       "    .dataframe tbody tr th:only-of-type {\n",
       "        vertical-align: middle;\n",
       "    }\n",
       "\n",
       "    .dataframe tbody tr th {\n",
       "        vertical-align: top;\n",
       "    }\n",
       "\n",
       "    .dataframe thead th {\n",
       "        text-align: right;\n",
       "    }\n",
       "</style>\n",
       "<table border=\"1\" class=\"dataframe\">\n",
       "  <thead>\n",
       "    <tr style=\"text-align: right;\">\n",
       "      <th></th>\n",
       "      <th>Department Name</th>\n",
       "      <th>Total Orders</th>\n",
       "      <th>SUSPECTED_FRAUD Orders</th>\n",
       "      <th>% SUSPECTED_FRAUD</th>\n",
       "    </tr>\n",
       "  </thead>\n",
       "  <tbody>\n",
       "    <tr>\n",
       "      <th>0</th>\n",
       "      <td>Apparel</td>\n",
       "      <td>48998</td>\n",
       "      <td>1127</td>\n",
       "      <td>2.300094</td>\n",
       "    </tr>\n",
       "    <tr>\n",
       "      <th>1</th>\n",
       "      <td>Book Shop</td>\n",
       "      <td>405</td>\n",
       "      <td>11</td>\n",
       "      <td>2.716049</td>\n",
       "    </tr>\n",
       "    <tr>\n",
       "      <th>2</th>\n",
       "      <td>Discs Shop</td>\n",
       "      <td>2026</td>\n",
       "      <td>39</td>\n",
       "      <td>1.924975</td>\n",
       "    </tr>\n",
       "    <tr>\n",
       "      <th>3</th>\n",
       "      <td>Fan Shop</td>\n",
       "      <td>66861</td>\n",
       "      <td>1483</td>\n",
       "      <td>2.218034</td>\n",
       "    </tr>\n",
       "    <tr>\n",
       "      <th>4</th>\n",
       "      <td>Fitness</td>\n",
       "      <td>2479</td>\n",
       "      <td>54</td>\n",
       "      <td>2.178298</td>\n",
       "    </tr>\n",
       "    <tr>\n",
       "      <th>5</th>\n",
       "      <td>Footwear</td>\n",
       "      <td>14525</td>\n",
       "      <td>328</td>\n",
       "      <td>2.258176</td>\n",
       "    </tr>\n",
       "    <tr>\n",
       "      <th>6</th>\n",
       "      <td>Golf</td>\n",
       "      <td>33220</td>\n",
       "      <td>744</td>\n",
       "      <td>2.239615</td>\n",
       "    </tr>\n",
       "    <tr>\n",
       "      <th>7</th>\n",
       "      <td>Health and Beauty</td>\n",
       "      <td>362</td>\n",
       "      <td>11</td>\n",
       "      <td>3.038674</td>\n",
       "    </tr>\n",
       "    <tr>\n",
       "      <th>8</th>\n",
       "      <td>Outdoors</td>\n",
       "      <td>9686</td>\n",
       "      <td>222</td>\n",
       "      <td>2.291968</td>\n",
       "    </tr>\n",
       "    <tr>\n",
       "      <th>9</th>\n",
       "      <td>Pet Shop</td>\n",
       "      <td>492</td>\n",
       "      <td>11</td>\n",
       "      <td>2.235772</td>\n",
       "    </tr>\n",
       "    <tr>\n",
       "      <th>10</th>\n",
       "      <td>Technology</td>\n",
       "      <td>1465</td>\n",
       "      <td>32</td>\n",
       "      <td>2.184300</td>\n",
       "    </tr>\n",
       "  </tbody>\n",
       "</table>\n",
       "</div>"
      ],
      "text/plain": [
       "       Department Name  Total Orders  SUSPECTED_FRAUD Orders  \\\n",
       "0              Apparel         48998                    1127   \n",
       "1            Book Shop           405                      11   \n",
       "2           Discs Shop          2026                      39   \n",
       "3             Fan Shop         66861                    1483   \n",
       "4              Fitness          2479                      54   \n",
       "5             Footwear         14525                     328   \n",
       "6                 Golf         33220                     744   \n",
       "7   Health and Beauty            362                      11   \n",
       "8             Outdoors          9686                     222   \n",
       "9             Pet Shop           492                      11   \n",
       "10          Technology          1465                      32   \n",
       "\n",
       "    % SUSPECTED_FRAUD  \n",
       "0            2.300094  \n",
       "1            2.716049  \n",
       "2            1.924975  \n",
       "3            2.218034  \n",
       "4            2.178298  \n",
       "5            2.258176  \n",
       "6            2.239615  \n",
       "7            3.038674  \n",
       "8            2.291968  \n",
       "9            2.235772  \n",
       "10           2.184300  "
      ]
     },
     "execution_count": 129,
     "metadata": {},
     "output_type": "execute_result"
    }
   ],
   "source": [
    "fraud_statuses = ['SUSPECTED_FRAUD']\n",
    "\n",
    "schain['SUSPECTED_FRAUD'] = schain['Order Status'].isin(fraud_statuses)\n",
    "\n",
    "fraud_group = schain.groupby('Department Name').agg({\n",
    "    'Order Status': 'count',  # Total number of orders\n",
    "    'SUSPECTED_FRAUD': 'sum'  # Total number of suspected fraudulent orders\n",
    "}).reset_index()\n",
    "\n",
    "fraud_group.columns = ['Department Name', 'Total Orders', 'SUSPECTED_FRAUD Orders']\n",
    "\n",
    "fraud_group['% SUSPECTED_FRAUD'] = (fraud_group['SUSPECTED_FRAUD Orders'] / fraud_group['Total Orders']) * 100\n",
    "\n",
    "# Print the result\n",
    "fraud_group"
   ]
  },
  {
   "cell_type": "code",
   "execution_count": 130,
   "metadata": {},
   "outputs": [
    {
     "data": {
      "application/vnd.plotly.v1+json": {
       "config": {
        "plotlyServerURL": "https://plot.ly"
       },
       "data": [
        {
         "branchvalues": "total",
         "customdata": [
          [
           7976255.3412318695,
           146.28462824344626,
           2.932833993224213,
           3.5047757051308217,
           0.5474713253602188
          ],
          [
           12587.399967599998,
           27.909679093185183,
           2.8567901234567903,
           3.3901234567901235,
           0.5654320987654321
          ],
          [
           228887.72970846,
           101.51821294144374,
           3.0128331688055283,
           3.5621915103652517,
           0.5444225074037512
          ],
          [
           17113870.9400085,
           230.00825159759768,
           2.9346106100716414,
           3.4945932606452192,
           0.5477483136656646
          ],
          [
           397050.89187645,
           144.07352234933845,
           2.9209358612343688,
           3.5050423557886243,
           0.5554659136748689
          ],
          [
           4006498.76768976,
           247.81196753797934,
           2.9317728055077454,
           3.492461273666093,
           0.547263339070568
          ],
          [
           4609028.24208808,
           124.68696440089735,
           2.9228175797712224,
           3.4885009030704395,
           0.5478025285972306
          ],
          [
           106080.48307699998,
           263.4201941654696,
           2.925414364640884,
           3.458563535911602,
           0.5580110497237569
          ],
          [
           1253351.449835466,
           116.24545109103356,
           2.9512698740450136,
           3.5253974809002684,
           0.5549246334916375
          ],
          [
           41524.80075276,
           75.85020294010162,
           2.678861788617886,
           3.388211382113821,
           0.5894308943089431
          ],
          [
           1039598.9671439,
           637.4261015918089,
           2.863481228668942,
           3.449146757679181,
           0.5501706484641639
          ]
         ],
         "domain": {
          "x": [
           0,
           1
          ],
          "y": [
           0,
           1
          ]
         },
         "hovertemplate": "labels=%{label}<br>Total Sales_sum=%{value}<br>parent=%{parent}<br>id=%{id}<br>Total Sales=%{color:.1f}<br>Average Sales per Customer=%{customdata[1]:.1f}<br>Avg Days Shipment Scheduled=%{customdata[2]:.1f}<br>Avg Days Shipping Real=%{customdata[3]:.1f}<br>Avg Late Delivery Risk=%{customdata[4]:.1f}<extra></extra>",
         "ids": [
          "Apparel",
          "Book Shop",
          "Discs Shop",
          "Fan Shop",
          "Fitness",
          "Footwear",
          "Golf",
          "Health and Beauty ",
          "Outdoors",
          "Pet Shop",
          "Technology"
         ],
         "labels": [
          "Apparel",
          "Book Shop",
          "Discs Shop",
          "Fan Shop",
          "Fitness",
          "Footwear",
          "Golf",
          "Health and Beauty ",
          "Outdoors",
          "Pet Shop",
          "Technology"
         ],
         "marker": {
          "coloraxis": "coloraxis",
          "colors": [
           7976255.3412318695,
           12587.399967599998,
           228887.72970846,
           17113870.9400085,
           397050.89187645,
           4006498.76768976,
           4609028.24208808,
           106080.48307699998,
           1253351.449835466,
           41524.80075276,
           1039598.9671439
          ]
         },
         "name": "",
         "parents": [
          "",
          "",
          "",
          "",
          "",
          "",
          "",
          "",
          "",
          "",
          ""
         ],
         "type": "treemap",
         "values": [
          7976255.3412318695,
          12587.3999676,
          228887.72970846,
          17113870.9400085,
          397050.89187645,
          4006498.76768976,
          4609028.24208808,
          106080.483077,
          1253351.449835466,
          41524.80075276,
          1039598.9671439
         ]
        }
       ],
       "layout": {
        "coloraxis": {
         "colorbar": {
          "title": {
           "text": "Total Sales"
          }
         },
         "colorscale": [
          [
           0,
           "#0d0887"
          ],
          [
           0.1111111111111111,
           "#46039f"
          ],
          [
           0.2222222222222222,
           "#7201a8"
          ],
          [
           0.3333333333333333,
           "#9c179e"
          ],
          [
           0.4444444444444444,
           "#bd3786"
          ],
          [
           0.5555555555555556,
           "#d8576b"
          ],
          [
           0.6666666666666666,
           "#ed7953"
          ],
          [
           0.7777777777777778,
           "#fb9f3a"
          ],
          [
           0.8888888888888888,
           "#fdca26"
          ],
          [
           1,
           "#f0f921"
          ]
         ]
        },
        "legend": {
         "tracegroupgap": 0
        },
        "template": {
         "data": {
          "bar": [
           {
            "error_x": {
             "color": "#2a3f5f"
            },
            "error_y": {
             "color": "#2a3f5f"
            },
            "marker": {
             "line": {
              "color": "#E5ECF6",
              "width": 0.5
             },
             "pattern": {
              "fillmode": "overlay",
              "size": 10,
              "solidity": 0.2
             }
            },
            "type": "bar"
           }
          ],
          "barpolar": [
           {
            "marker": {
             "line": {
              "color": "#E5ECF6",
              "width": 0.5
             },
             "pattern": {
              "fillmode": "overlay",
              "size": 10,
              "solidity": 0.2
             }
            },
            "type": "barpolar"
           }
          ],
          "carpet": [
           {
            "aaxis": {
             "endlinecolor": "#2a3f5f",
             "gridcolor": "white",
             "linecolor": "white",
             "minorgridcolor": "white",
             "startlinecolor": "#2a3f5f"
            },
            "baxis": {
             "endlinecolor": "#2a3f5f",
             "gridcolor": "white",
             "linecolor": "white",
             "minorgridcolor": "white",
             "startlinecolor": "#2a3f5f"
            },
            "type": "carpet"
           }
          ],
          "choropleth": [
           {
            "colorbar": {
             "outlinewidth": 0,
             "ticks": ""
            },
            "type": "choropleth"
           }
          ],
          "contour": [
           {
            "colorbar": {
             "outlinewidth": 0,
             "ticks": ""
            },
            "colorscale": [
             [
              0,
              "#0d0887"
             ],
             [
              0.1111111111111111,
              "#46039f"
             ],
             [
              0.2222222222222222,
              "#7201a8"
             ],
             [
              0.3333333333333333,
              "#9c179e"
             ],
             [
              0.4444444444444444,
              "#bd3786"
             ],
             [
              0.5555555555555556,
              "#d8576b"
             ],
             [
              0.6666666666666666,
              "#ed7953"
             ],
             [
              0.7777777777777778,
              "#fb9f3a"
             ],
             [
              0.8888888888888888,
              "#fdca26"
             ],
             [
              1,
              "#f0f921"
             ]
            ],
            "type": "contour"
           }
          ],
          "contourcarpet": [
           {
            "colorbar": {
             "outlinewidth": 0,
             "ticks": ""
            },
            "type": "contourcarpet"
           }
          ],
          "heatmap": [
           {
            "colorbar": {
             "outlinewidth": 0,
             "ticks": ""
            },
            "colorscale": [
             [
              0,
              "#0d0887"
             ],
             [
              0.1111111111111111,
              "#46039f"
             ],
             [
              0.2222222222222222,
              "#7201a8"
             ],
             [
              0.3333333333333333,
              "#9c179e"
             ],
             [
              0.4444444444444444,
              "#bd3786"
             ],
             [
              0.5555555555555556,
              "#d8576b"
             ],
             [
              0.6666666666666666,
              "#ed7953"
             ],
             [
              0.7777777777777778,
              "#fb9f3a"
             ],
             [
              0.8888888888888888,
              "#fdca26"
             ],
             [
              1,
              "#f0f921"
             ]
            ],
            "type": "heatmap"
           }
          ],
          "heatmapgl": [
           {
            "colorbar": {
             "outlinewidth": 0,
             "ticks": ""
            },
            "colorscale": [
             [
              0,
              "#0d0887"
             ],
             [
              0.1111111111111111,
              "#46039f"
             ],
             [
              0.2222222222222222,
              "#7201a8"
             ],
             [
              0.3333333333333333,
              "#9c179e"
             ],
             [
              0.4444444444444444,
              "#bd3786"
             ],
             [
              0.5555555555555556,
              "#d8576b"
             ],
             [
              0.6666666666666666,
              "#ed7953"
             ],
             [
              0.7777777777777778,
              "#fb9f3a"
             ],
             [
              0.8888888888888888,
              "#fdca26"
             ],
             [
              1,
              "#f0f921"
             ]
            ],
            "type": "heatmapgl"
           }
          ],
          "histogram": [
           {
            "marker": {
             "pattern": {
              "fillmode": "overlay",
              "size": 10,
              "solidity": 0.2
             }
            },
            "type": "histogram"
           }
          ],
          "histogram2d": [
           {
            "colorbar": {
             "outlinewidth": 0,
             "ticks": ""
            },
            "colorscale": [
             [
              0,
              "#0d0887"
             ],
             [
              0.1111111111111111,
              "#46039f"
             ],
             [
              0.2222222222222222,
              "#7201a8"
             ],
             [
              0.3333333333333333,
              "#9c179e"
             ],
             [
              0.4444444444444444,
              "#bd3786"
             ],
             [
              0.5555555555555556,
              "#d8576b"
             ],
             [
              0.6666666666666666,
              "#ed7953"
             ],
             [
              0.7777777777777778,
              "#fb9f3a"
             ],
             [
              0.8888888888888888,
              "#fdca26"
             ],
             [
              1,
              "#f0f921"
             ]
            ],
            "type": "histogram2d"
           }
          ],
          "histogram2dcontour": [
           {
            "colorbar": {
             "outlinewidth": 0,
             "ticks": ""
            },
            "colorscale": [
             [
              0,
              "#0d0887"
             ],
             [
              0.1111111111111111,
              "#46039f"
             ],
             [
              0.2222222222222222,
              "#7201a8"
             ],
             [
              0.3333333333333333,
              "#9c179e"
             ],
             [
              0.4444444444444444,
              "#bd3786"
             ],
             [
              0.5555555555555556,
              "#d8576b"
             ],
             [
              0.6666666666666666,
              "#ed7953"
             ],
             [
              0.7777777777777778,
              "#fb9f3a"
             ],
             [
              0.8888888888888888,
              "#fdca26"
             ],
             [
              1,
              "#f0f921"
             ]
            ],
            "type": "histogram2dcontour"
           }
          ],
          "mesh3d": [
           {
            "colorbar": {
             "outlinewidth": 0,
             "ticks": ""
            },
            "type": "mesh3d"
           }
          ],
          "parcoords": [
           {
            "line": {
             "colorbar": {
              "outlinewidth": 0,
              "ticks": ""
             }
            },
            "type": "parcoords"
           }
          ],
          "pie": [
           {
            "automargin": true,
            "type": "pie"
           }
          ],
          "scatter": [
           {
            "fillpattern": {
             "fillmode": "overlay",
             "size": 10,
             "solidity": 0.2
            },
            "type": "scatter"
           }
          ],
          "scatter3d": [
           {
            "line": {
             "colorbar": {
              "outlinewidth": 0,
              "ticks": ""
             }
            },
            "marker": {
             "colorbar": {
              "outlinewidth": 0,
              "ticks": ""
             }
            },
            "type": "scatter3d"
           }
          ],
          "scattercarpet": [
           {
            "marker": {
             "colorbar": {
              "outlinewidth": 0,
              "ticks": ""
             }
            },
            "type": "scattercarpet"
           }
          ],
          "scattergeo": [
           {
            "marker": {
             "colorbar": {
              "outlinewidth": 0,
              "ticks": ""
             }
            },
            "type": "scattergeo"
           }
          ],
          "scattergl": [
           {
            "marker": {
             "colorbar": {
              "outlinewidth": 0,
              "ticks": ""
             }
            },
            "type": "scattergl"
           }
          ],
          "scattermapbox": [
           {
            "marker": {
             "colorbar": {
              "outlinewidth": 0,
              "ticks": ""
             }
            },
            "type": "scattermapbox"
           }
          ],
          "scatterpolar": [
           {
            "marker": {
             "colorbar": {
              "outlinewidth": 0,
              "ticks": ""
             }
            },
            "type": "scatterpolar"
           }
          ],
          "scatterpolargl": [
           {
            "marker": {
             "colorbar": {
              "outlinewidth": 0,
              "ticks": ""
             }
            },
            "type": "scatterpolargl"
           }
          ],
          "scatterternary": [
           {
            "marker": {
             "colorbar": {
              "outlinewidth": 0,
              "ticks": ""
             }
            },
            "type": "scatterternary"
           }
          ],
          "surface": [
           {
            "colorbar": {
             "outlinewidth": 0,
             "ticks": ""
            },
            "colorscale": [
             [
              0,
              "#0d0887"
             ],
             [
              0.1111111111111111,
              "#46039f"
             ],
             [
              0.2222222222222222,
              "#7201a8"
             ],
             [
              0.3333333333333333,
              "#9c179e"
             ],
             [
              0.4444444444444444,
              "#bd3786"
             ],
             [
              0.5555555555555556,
              "#d8576b"
             ],
             [
              0.6666666666666666,
              "#ed7953"
             ],
             [
              0.7777777777777778,
              "#fb9f3a"
             ],
             [
              0.8888888888888888,
              "#fdca26"
             ],
             [
              1,
              "#f0f921"
             ]
            ],
            "type": "surface"
           }
          ],
          "table": [
           {
            "cells": {
             "fill": {
              "color": "#EBF0F8"
             },
             "line": {
              "color": "white"
             }
            },
            "header": {
             "fill": {
              "color": "#C8D4E3"
             },
             "line": {
              "color": "white"
             }
            },
            "type": "table"
           }
          ]
         },
         "layout": {
          "annotationdefaults": {
           "arrowcolor": "#2a3f5f",
           "arrowhead": 0,
           "arrowwidth": 1
          },
          "autotypenumbers": "strict",
          "coloraxis": {
           "colorbar": {
            "outlinewidth": 0,
            "ticks": ""
           }
          },
          "colorscale": {
           "diverging": [
            [
             0,
             "#8e0152"
            ],
            [
             0.1,
             "#c51b7d"
            ],
            [
             0.2,
             "#de77ae"
            ],
            [
             0.3,
             "#f1b6da"
            ],
            [
             0.4,
             "#fde0ef"
            ],
            [
             0.5,
             "#f7f7f7"
            ],
            [
             0.6,
             "#e6f5d0"
            ],
            [
             0.7,
             "#b8e186"
            ],
            [
             0.8,
             "#7fbc41"
            ],
            [
             0.9,
             "#4d9221"
            ],
            [
             1,
             "#276419"
            ]
           ],
           "sequential": [
            [
             0,
             "#0d0887"
            ],
            [
             0.1111111111111111,
             "#46039f"
            ],
            [
             0.2222222222222222,
             "#7201a8"
            ],
            [
             0.3333333333333333,
             "#9c179e"
            ],
            [
             0.4444444444444444,
             "#bd3786"
            ],
            [
             0.5555555555555556,
             "#d8576b"
            ],
            [
             0.6666666666666666,
             "#ed7953"
            ],
            [
             0.7777777777777778,
             "#fb9f3a"
            ],
            [
             0.8888888888888888,
             "#fdca26"
            ],
            [
             1,
             "#f0f921"
            ]
           ],
           "sequentialminus": [
            [
             0,
             "#0d0887"
            ],
            [
             0.1111111111111111,
             "#46039f"
            ],
            [
             0.2222222222222222,
             "#7201a8"
            ],
            [
             0.3333333333333333,
             "#9c179e"
            ],
            [
             0.4444444444444444,
             "#bd3786"
            ],
            [
             0.5555555555555556,
             "#d8576b"
            ],
            [
             0.6666666666666666,
             "#ed7953"
            ],
            [
             0.7777777777777778,
             "#fb9f3a"
            ],
            [
             0.8888888888888888,
             "#fdca26"
            ],
            [
             1,
             "#f0f921"
            ]
           ]
          },
          "colorway": [
           "#636efa",
           "#EF553B",
           "#00cc96",
           "#ab63fa",
           "#FFA15A",
           "#19d3f3",
           "#FF6692",
           "#B6E880",
           "#FF97FF",
           "#FECB52"
          ],
          "font": {
           "color": "#2a3f5f"
          },
          "geo": {
           "bgcolor": "white",
           "lakecolor": "white",
           "landcolor": "#E5ECF6",
           "showlakes": true,
           "showland": true,
           "subunitcolor": "white"
          },
          "hoverlabel": {
           "align": "left"
          },
          "hovermode": "closest",
          "mapbox": {
           "style": "light"
          },
          "paper_bgcolor": "white",
          "plot_bgcolor": "#E5ECF6",
          "polar": {
           "angularaxis": {
            "gridcolor": "white",
            "linecolor": "white",
            "ticks": ""
           },
           "bgcolor": "#E5ECF6",
           "radialaxis": {
            "gridcolor": "white",
            "linecolor": "white",
            "ticks": ""
           }
          },
          "scene": {
           "xaxis": {
            "backgroundcolor": "#E5ECF6",
            "gridcolor": "white",
            "gridwidth": 2,
            "linecolor": "white",
            "showbackground": true,
            "ticks": "",
            "zerolinecolor": "white"
           },
           "yaxis": {
            "backgroundcolor": "#E5ECF6",
            "gridcolor": "white",
            "gridwidth": 2,
            "linecolor": "white",
            "showbackground": true,
            "ticks": "",
            "zerolinecolor": "white"
           },
           "zaxis": {
            "backgroundcolor": "#E5ECF6",
            "gridcolor": "white",
            "gridwidth": 2,
            "linecolor": "white",
            "showbackground": true,
            "ticks": "",
            "zerolinecolor": "white"
           }
          },
          "shapedefaults": {
           "line": {
            "color": "#2a3f5f"
           }
          },
          "ternary": {
           "aaxis": {
            "gridcolor": "white",
            "linecolor": "white",
            "ticks": ""
           },
           "baxis": {
            "gridcolor": "white",
            "linecolor": "white",
            "ticks": ""
           },
           "bgcolor": "#E5ECF6",
           "caxis": {
            "gridcolor": "white",
            "linecolor": "white",
            "ticks": ""
           }
          },
          "title": {
           "x": 0.05
          },
          "xaxis": {
           "automargin": true,
           "gridcolor": "white",
           "linecolor": "white",
           "ticks": "",
           "title": {
            "standoff": 15
           },
           "zerolinecolor": "white",
           "zerolinewidth": 2
          },
          "yaxis": {
           "automargin": true,
           "gridcolor": "white",
           "linecolor": "white",
           "ticks": "",
           "title": {
            "standoff": 15
           },
           "zerolinecolor": "white",
           "zerolinewidth": 2
          }
         }
        },
        "title": {
         "text": "Total Sales by Department"
        }
       }
      }
     },
     "metadata": {},
     "output_type": "display_data"
    },
    {
     "data": {
      "application/vnd.plotly.v1+json": {
       "config": {
        "plotlyServerURL": "https://plot.ly"
       },
       "data": [
        {
         "hovertemplate": "Shipment Type=Avg Days Shipment Scheduled<br>Department Name=%{x}<br>Average Days=%{y:.1f}<extra></extra>",
         "legendgroup": "Avg Days Shipment Scheduled",
         "line": {
          "color": "#636efa",
          "dash": "solid"
         },
         "marker": {
          "symbol": "circle"
         },
         "mode": "lines",
         "name": "Avg Days Shipment Scheduled",
         "orientation": "v",
         "showlegend": true,
         "type": "scatter",
         "x": [
          "Apparel",
          "Book Shop",
          "Discs Shop",
          "Fan Shop",
          "Fitness",
          "Footwear",
          "Golf",
          "Health and Beauty ",
          "Outdoors",
          "Pet Shop",
          "Technology"
         ],
         "xaxis": "x",
         "y": [
          2.932833993224213,
          2.8567901234567903,
          3.0128331688055283,
          2.9346106100716414,
          2.9209358612343688,
          2.9317728055077454,
          2.9228175797712224,
          2.925414364640884,
          2.9512698740450136,
          2.678861788617886,
          2.863481228668942
         ],
         "yaxis": "y"
        },
        {
         "hovertemplate": "Shipment Type=Avg Days Shipping Real<br>Department Name=%{x}<br>Average Days=%{y:.1f}<extra></extra>",
         "legendgroup": "Avg Days Shipping Real",
         "line": {
          "color": "#EF553B",
          "dash": "solid"
         },
         "marker": {
          "symbol": "circle"
         },
         "mode": "lines",
         "name": "Avg Days Shipping Real",
         "orientation": "v",
         "showlegend": true,
         "type": "scatter",
         "x": [
          "Apparel",
          "Book Shop",
          "Discs Shop",
          "Fan Shop",
          "Fitness",
          "Footwear",
          "Golf",
          "Health and Beauty ",
          "Outdoors",
          "Pet Shop",
          "Technology"
         ],
         "xaxis": "x",
         "y": [
          3.5047757051308217,
          3.3901234567901235,
          3.5621915103652517,
          3.4945932606452192,
          3.5050423557886243,
          3.492461273666093,
          3.4885009030704395,
          3.458563535911602,
          3.5253974809002684,
          3.388211382113821,
          3.449146757679181
         ],
         "yaxis": "y"
        }
       ],
       "layout": {
        "legend": {
         "title": {
          "text": "Shipment Type"
         },
         "tracegroupgap": 0
        },
        "template": {
         "data": {
          "bar": [
           {
            "error_x": {
             "color": "#2a3f5f"
            },
            "error_y": {
             "color": "#2a3f5f"
            },
            "marker": {
             "line": {
              "color": "#E5ECF6",
              "width": 0.5
             },
             "pattern": {
              "fillmode": "overlay",
              "size": 10,
              "solidity": 0.2
             }
            },
            "type": "bar"
           }
          ],
          "barpolar": [
           {
            "marker": {
             "line": {
              "color": "#E5ECF6",
              "width": 0.5
             },
             "pattern": {
              "fillmode": "overlay",
              "size": 10,
              "solidity": 0.2
             }
            },
            "type": "barpolar"
           }
          ],
          "carpet": [
           {
            "aaxis": {
             "endlinecolor": "#2a3f5f",
             "gridcolor": "white",
             "linecolor": "white",
             "minorgridcolor": "white",
             "startlinecolor": "#2a3f5f"
            },
            "baxis": {
             "endlinecolor": "#2a3f5f",
             "gridcolor": "white",
             "linecolor": "white",
             "minorgridcolor": "white",
             "startlinecolor": "#2a3f5f"
            },
            "type": "carpet"
           }
          ],
          "choropleth": [
           {
            "colorbar": {
             "outlinewidth": 0,
             "ticks": ""
            },
            "type": "choropleth"
           }
          ],
          "contour": [
           {
            "colorbar": {
             "outlinewidth": 0,
             "ticks": ""
            },
            "colorscale": [
             [
              0,
              "#0d0887"
             ],
             [
              0.1111111111111111,
              "#46039f"
             ],
             [
              0.2222222222222222,
              "#7201a8"
             ],
             [
              0.3333333333333333,
              "#9c179e"
             ],
             [
              0.4444444444444444,
              "#bd3786"
             ],
             [
              0.5555555555555556,
              "#d8576b"
             ],
             [
              0.6666666666666666,
              "#ed7953"
             ],
             [
              0.7777777777777778,
              "#fb9f3a"
             ],
             [
              0.8888888888888888,
              "#fdca26"
             ],
             [
              1,
              "#f0f921"
             ]
            ],
            "type": "contour"
           }
          ],
          "contourcarpet": [
           {
            "colorbar": {
             "outlinewidth": 0,
             "ticks": ""
            },
            "type": "contourcarpet"
           }
          ],
          "heatmap": [
           {
            "colorbar": {
             "outlinewidth": 0,
             "ticks": ""
            },
            "colorscale": [
             [
              0,
              "#0d0887"
             ],
             [
              0.1111111111111111,
              "#46039f"
             ],
             [
              0.2222222222222222,
              "#7201a8"
             ],
             [
              0.3333333333333333,
              "#9c179e"
             ],
             [
              0.4444444444444444,
              "#bd3786"
             ],
             [
              0.5555555555555556,
              "#d8576b"
             ],
             [
              0.6666666666666666,
              "#ed7953"
             ],
             [
              0.7777777777777778,
              "#fb9f3a"
             ],
             [
              0.8888888888888888,
              "#fdca26"
             ],
             [
              1,
              "#f0f921"
             ]
            ],
            "type": "heatmap"
           }
          ],
          "heatmapgl": [
           {
            "colorbar": {
             "outlinewidth": 0,
             "ticks": ""
            },
            "colorscale": [
             [
              0,
              "#0d0887"
             ],
             [
              0.1111111111111111,
              "#46039f"
             ],
             [
              0.2222222222222222,
              "#7201a8"
             ],
             [
              0.3333333333333333,
              "#9c179e"
             ],
             [
              0.4444444444444444,
              "#bd3786"
             ],
             [
              0.5555555555555556,
              "#d8576b"
             ],
             [
              0.6666666666666666,
              "#ed7953"
             ],
             [
              0.7777777777777778,
              "#fb9f3a"
             ],
             [
              0.8888888888888888,
              "#fdca26"
             ],
             [
              1,
              "#f0f921"
             ]
            ],
            "type": "heatmapgl"
           }
          ],
          "histogram": [
           {
            "marker": {
             "pattern": {
              "fillmode": "overlay",
              "size": 10,
              "solidity": 0.2
             }
            },
            "type": "histogram"
           }
          ],
          "histogram2d": [
           {
            "colorbar": {
             "outlinewidth": 0,
             "ticks": ""
            },
            "colorscale": [
             [
              0,
              "#0d0887"
             ],
             [
              0.1111111111111111,
              "#46039f"
             ],
             [
              0.2222222222222222,
              "#7201a8"
             ],
             [
              0.3333333333333333,
              "#9c179e"
             ],
             [
              0.4444444444444444,
              "#bd3786"
             ],
             [
              0.5555555555555556,
              "#d8576b"
             ],
             [
              0.6666666666666666,
              "#ed7953"
             ],
             [
              0.7777777777777778,
              "#fb9f3a"
             ],
             [
              0.8888888888888888,
              "#fdca26"
             ],
             [
              1,
              "#f0f921"
             ]
            ],
            "type": "histogram2d"
           }
          ],
          "histogram2dcontour": [
           {
            "colorbar": {
             "outlinewidth": 0,
             "ticks": ""
            },
            "colorscale": [
             [
              0,
              "#0d0887"
             ],
             [
              0.1111111111111111,
              "#46039f"
             ],
             [
              0.2222222222222222,
              "#7201a8"
             ],
             [
              0.3333333333333333,
              "#9c179e"
             ],
             [
              0.4444444444444444,
              "#bd3786"
             ],
             [
              0.5555555555555556,
              "#d8576b"
             ],
             [
              0.6666666666666666,
              "#ed7953"
             ],
             [
              0.7777777777777778,
              "#fb9f3a"
             ],
             [
              0.8888888888888888,
              "#fdca26"
             ],
             [
              1,
              "#f0f921"
             ]
            ],
            "type": "histogram2dcontour"
           }
          ],
          "mesh3d": [
           {
            "colorbar": {
             "outlinewidth": 0,
             "ticks": ""
            },
            "type": "mesh3d"
           }
          ],
          "parcoords": [
           {
            "line": {
             "colorbar": {
              "outlinewidth": 0,
              "ticks": ""
             }
            },
            "type": "parcoords"
           }
          ],
          "pie": [
           {
            "automargin": true,
            "type": "pie"
           }
          ],
          "scatter": [
           {
            "fillpattern": {
             "fillmode": "overlay",
             "size": 10,
             "solidity": 0.2
            },
            "type": "scatter"
           }
          ],
          "scatter3d": [
           {
            "line": {
             "colorbar": {
              "outlinewidth": 0,
              "ticks": ""
             }
            },
            "marker": {
             "colorbar": {
              "outlinewidth": 0,
              "ticks": ""
             }
            },
            "type": "scatter3d"
           }
          ],
          "scattercarpet": [
           {
            "marker": {
             "colorbar": {
              "outlinewidth": 0,
              "ticks": ""
             }
            },
            "type": "scattercarpet"
           }
          ],
          "scattergeo": [
           {
            "marker": {
             "colorbar": {
              "outlinewidth": 0,
              "ticks": ""
             }
            },
            "type": "scattergeo"
           }
          ],
          "scattergl": [
           {
            "marker": {
             "colorbar": {
              "outlinewidth": 0,
              "ticks": ""
             }
            },
            "type": "scattergl"
           }
          ],
          "scattermapbox": [
           {
            "marker": {
             "colorbar": {
              "outlinewidth": 0,
              "ticks": ""
             }
            },
            "type": "scattermapbox"
           }
          ],
          "scatterpolar": [
           {
            "marker": {
             "colorbar": {
              "outlinewidth": 0,
              "ticks": ""
             }
            },
            "type": "scatterpolar"
           }
          ],
          "scatterpolargl": [
           {
            "marker": {
             "colorbar": {
              "outlinewidth": 0,
              "ticks": ""
             }
            },
            "type": "scatterpolargl"
           }
          ],
          "scatterternary": [
           {
            "marker": {
             "colorbar": {
              "outlinewidth": 0,
              "ticks": ""
             }
            },
            "type": "scatterternary"
           }
          ],
          "surface": [
           {
            "colorbar": {
             "outlinewidth": 0,
             "ticks": ""
            },
            "colorscale": [
             [
              0,
              "#0d0887"
             ],
             [
              0.1111111111111111,
              "#46039f"
             ],
             [
              0.2222222222222222,
              "#7201a8"
             ],
             [
              0.3333333333333333,
              "#9c179e"
             ],
             [
              0.4444444444444444,
              "#bd3786"
             ],
             [
              0.5555555555555556,
              "#d8576b"
             ],
             [
              0.6666666666666666,
              "#ed7953"
             ],
             [
              0.7777777777777778,
              "#fb9f3a"
             ],
             [
              0.8888888888888888,
              "#fdca26"
             ],
             [
              1,
              "#f0f921"
             ]
            ],
            "type": "surface"
           }
          ],
          "table": [
           {
            "cells": {
             "fill": {
              "color": "#EBF0F8"
             },
             "line": {
              "color": "white"
             }
            },
            "header": {
             "fill": {
              "color": "#C8D4E3"
             },
             "line": {
              "color": "white"
             }
            },
            "type": "table"
           }
          ]
         },
         "layout": {
          "annotationdefaults": {
           "arrowcolor": "#2a3f5f",
           "arrowhead": 0,
           "arrowwidth": 1
          },
          "autotypenumbers": "strict",
          "coloraxis": {
           "colorbar": {
            "outlinewidth": 0,
            "ticks": ""
           }
          },
          "colorscale": {
           "diverging": [
            [
             0,
             "#8e0152"
            ],
            [
             0.1,
             "#c51b7d"
            ],
            [
             0.2,
             "#de77ae"
            ],
            [
             0.3,
             "#f1b6da"
            ],
            [
             0.4,
             "#fde0ef"
            ],
            [
             0.5,
             "#f7f7f7"
            ],
            [
             0.6,
             "#e6f5d0"
            ],
            [
             0.7,
             "#b8e186"
            ],
            [
             0.8,
             "#7fbc41"
            ],
            [
             0.9,
             "#4d9221"
            ],
            [
             1,
             "#276419"
            ]
           ],
           "sequential": [
            [
             0,
             "#0d0887"
            ],
            [
             0.1111111111111111,
             "#46039f"
            ],
            [
             0.2222222222222222,
             "#7201a8"
            ],
            [
             0.3333333333333333,
             "#9c179e"
            ],
            [
             0.4444444444444444,
             "#bd3786"
            ],
            [
             0.5555555555555556,
             "#d8576b"
            ],
            [
             0.6666666666666666,
             "#ed7953"
            ],
            [
             0.7777777777777778,
             "#fb9f3a"
            ],
            [
             0.8888888888888888,
             "#fdca26"
            ],
            [
             1,
             "#f0f921"
            ]
           ],
           "sequentialminus": [
            [
             0,
             "#0d0887"
            ],
            [
             0.1111111111111111,
             "#46039f"
            ],
            [
             0.2222222222222222,
             "#7201a8"
            ],
            [
             0.3333333333333333,
             "#9c179e"
            ],
            [
             0.4444444444444444,
             "#bd3786"
            ],
            [
             0.5555555555555556,
             "#d8576b"
            ],
            [
             0.6666666666666666,
             "#ed7953"
            ],
            [
             0.7777777777777778,
             "#fb9f3a"
            ],
            [
             0.8888888888888888,
             "#fdca26"
            ],
            [
             1,
             "#f0f921"
            ]
           ]
          },
          "colorway": [
           "#636efa",
           "#EF553B",
           "#00cc96",
           "#ab63fa",
           "#FFA15A",
           "#19d3f3",
           "#FF6692",
           "#B6E880",
           "#FF97FF",
           "#FECB52"
          ],
          "font": {
           "color": "#2a3f5f"
          },
          "geo": {
           "bgcolor": "white",
           "lakecolor": "white",
           "landcolor": "#E5ECF6",
           "showlakes": true,
           "showland": true,
           "subunitcolor": "white"
          },
          "hoverlabel": {
           "align": "left"
          },
          "hovermode": "closest",
          "mapbox": {
           "style": "light"
          },
          "paper_bgcolor": "white",
          "plot_bgcolor": "#E5ECF6",
          "polar": {
           "angularaxis": {
            "gridcolor": "white",
            "linecolor": "white",
            "ticks": ""
           },
           "bgcolor": "#E5ECF6",
           "radialaxis": {
            "gridcolor": "white",
            "linecolor": "white",
            "ticks": ""
           }
          },
          "scene": {
           "xaxis": {
            "backgroundcolor": "#E5ECF6",
            "gridcolor": "white",
            "gridwidth": 2,
            "linecolor": "white",
            "showbackground": true,
            "ticks": "",
            "zerolinecolor": "white"
           },
           "yaxis": {
            "backgroundcolor": "#E5ECF6",
            "gridcolor": "white",
            "gridwidth": 2,
            "linecolor": "white",
            "showbackground": true,
            "ticks": "",
            "zerolinecolor": "white"
           },
           "zaxis": {
            "backgroundcolor": "#E5ECF6",
            "gridcolor": "white",
            "gridwidth": 2,
            "linecolor": "white",
            "showbackground": true,
            "ticks": "",
            "zerolinecolor": "white"
           }
          },
          "shapedefaults": {
           "line": {
            "color": "#2a3f5f"
           }
          },
          "ternary": {
           "aaxis": {
            "gridcolor": "white",
            "linecolor": "white",
            "ticks": ""
           },
           "baxis": {
            "gridcolor": "white",
            "linecolor": "white",
            "ticks": ""
           },
           "bgcolor": "#E5ECF6",
           "caxis": {
            "gridcolor": "white",
            "linecolor": "white",
            "ticks": ""
           }
          },
          "title": {
           "x": 0.05
          },
          "xaxis": {
           "automargin": true,
           "gridcolor": "white",
           "linecolor": "white",
           "ticks": "",
           "title": {
            "standoff": 15
           },
           "zerolinecolor": "white",
           "zerolinewidth": 2
          },
          "yaxis": {
           "automargin": true,
           "gridcolor": "white",
           "linecolor": "white",
           "ticks": "",
           "title": {
            "standoff": 15
           },
           "zerolinecolor": "white",
           "zerolinewidth": 2
          }
         }
        },
        "title": {
         "text": "Average Days for Shipment: Scheduled vs Real"
        },
        "xaxis": {
         "anchor": "y",
         "domain": [
          0,
          1
         ],
         "title": {
          "text": "Department Name"
         }
        },
        "yaxis": {
         "anchor": "x",
         "domain": [
          0,
          1
         ],
         "title": {
          "text": "Average Days"
         }
        }
       }
      }
     },
     "metadata": {},
     "output_type": "display_data"
    },
    {
     "data": {
      "application/vnd.plotly.v1+json": {
       "config": {
        "plotlyServerURL": "https://plot.ly"
       },
       "data": [
        {
         "alignmentgroup": "True",
         "hovertemplate": "Department Name=%{x}<br>Late Delivery Risk=%{marker.color:.1f}<extra></extra>",
         "legendgroup": "",
         "marker": {
          "color": [
           26825,
           229,
           1103,
           36623,
           1377,
           7949,
           18198,
           202,
           5375,
           290,
           806
          ],
          "coloraxis": "coloraxis",
          "pattern": {
           "shape": ""
          }
         },
         "name": "",
         "offsetgroup": "",
         "orientation": "v",
         "showlegend": false,
         "textposition": "auto",
         "type": "bar",
         "x": [
          "Apparel",
          "Book Shop",
          "Discs Shop",
          "Fan Shop",
          "Fitness",
          "Footwear",
          "Golf",
          "Health and Beauty ",
          "Outdoors",
          "Pet Shop",
          "Technology"
         ],
         "xaxis": "x",
         "y": [
          26825,
          229,
          1103,
          36623,
          1377,
          7949,
          18198,
          202,
          5375,
          290,
          806
         ],
         "yaxis": "y"
        }
       ],
       "layout": {
        "barmode": "relative",
        "coloraxis": {
         "colorbar": {
          "title": {
           "text": "Late Delivery Risk"
          }
         },
         "colorscale": [
          [
           0,
           "#0d0887"
          ],
          [
           0.1111111111111111,
           "#46039f"
          ],
          [
           0.2222222222222222,
           "#7201a8"
          ],
          [
           0.3333333333333333,
           "#9c179e"
          ],
          [
           0.4444444444444444,
           "#bd3786"
          ],
          [
           0.5555555555555556,
           "#d8576b"
          ],
          [
           0.6666666666666666,
           "#ed7953"
          ],
          [
           0.7777777777777778,
           "#fb9f3a"
          ],
          [
           0.8888888888888888,
           "#fdca26"
          ],
          [
           1,
           "#f0f921"
          ]
         ]
        },
        "legend": {
         "tracegroupgap": 0
        },
        "template": {
         "data": {
          "bar": [
           {
            "error_x": {
             "color": "#2a3f5f"
            },
            "error_y": {
             "color": "#2a3f5f"
            },
            "marker": {
             "line": {
              "color": "#E5ECF6",
              "width": 0.5
             },
             "pattern": {
              "fillmode": "overlay",
              "size": 10,
              "solidity": 0.2
             }
            },
            "type": "bar"
           }
          ],
          "barpolar": [
           {
            "marker": {
             "line": {
              "color": "#E5ECF6",
              "width": 0.5
             },
             "pattern": {
              "fillmode": "overlay",
              "size": 10,
              "solidity": 0.2
             }
            },
            "type": "barpolar"
           }
          ],
          "carpet": [
           {
            "aaxis": {
             "endlinecolor": "#2a3f5f",
             "gridcolor": "white",
             "linecolor": "white",
             "minorgridcolor": "white",
             "startlinecolor": "#2a3f5f"
            },
            "baxis": {
             "endlinecolor": "#2a3f5f",
             "gridcolor": "white",
             "linecolor": "white",
             "minorgridcolor": "white",
             "startlinecolor": "#2a3f5f"
            },
            "type": "carpet"
           }
          ],
          "choropleth": [
           {
            "colorbar": {
             "outlinewidth": 0,
             "ticks": ""
            },
            "type": "choropleth"
           }
          ],
          "contour": [
           {
            "colorbar": {
             "outlinewidth": 0,
             "ticks": ""
            },
            "colorscale": [
             [
              0,
              "#0d0887"
             ],
             [
              0.1111111111111111,
              "#46039f"
             ],
             [
              0.2222222222222222,
              "#7201a8"
             ],
             [
              0.3333333333333333,
              "#9c179e"
             ],
             [
              0.4444444444444444,
              "#bd3786"
             ],
             [
              0.5555555555555556,
              "#d8576b"
             ],
             [
              0.6666666666666666,
              "#ed7953"
             ],
             [
              0.7777777777777778,
              "#fb9f3a"
             ],
             [
              0.8888888888888888,
              "#fdca26"
             ],
             [
              1,
              "#f0f921"
             ]
            ],
            "type": "contour"
           }
          ],
          "contourcarpet": [
           {
            "colorbar": {
             "outlinewidth": 0,
             "ticks": ""
            },
            "type": "contourcarpet"
           }
          ],
          "heatmap": [
           {
            "colorbar": {
             "outlinewidth": 0,
             "ticks": ""
            },
            "colorscale": [
             [
              0,
              "#0d0887"
             ],
             [
              0.1111111111111111,
              "#46039f"
             ],
             [
              0.2222222222222222,
              "#7201a8"
             ],
             [
              0.3333333333333333,
              "#9c179e"
             ],
             [
              0.4444444444444444,
              "#bd3786"
             ],
             [
              0.5555555555555556,
              "#d8576b"
             ],
             [
              0.6666666666666666,
              "#ed7953"
             ],
             [
              0.7777777777777778,
              "#fb9f3a"
             ],
             [
              0.8888888888888888,
              "#fdca26"
             ],
             [
              1,
              "#f0f921"
             ]
            ],
            "type": "heatmap"
           }
          ],
          "heatmapgl": [
           {
            "colorbar": {
             "outlinewidth": 0,
             "ticks": ""
            },
            "colorscale": [
             [
              0,
              "#0d0887"
             ],
             [
              0.1111111111111111,
              "#46039f"
             ],
             [
              0.2222222222222222,
              "#7201a8"
             ],
             [
              0.3333333333333333,
              "#9c179e"
             ],
             [
              0.4444444444444444,
              "#bd3786"
             ],
             [
              0.5555555555555556,
              "#d8576b"
             ],
             [
              0.6666666666666666,
              "#ed7953"
             ],
             [
              0.7777777777777778,
              "#fb9f3a"
             ],
             [
              0.8888888888888888,
              "#fdca26"
             ],
             [
              1,
              "#f0f921"
             ]
            ],
            "type": "heatmapgl"
           }
          ],
          "histogram": [
           {
            "marker": {
             "pattern": {
              "fillmode": "overlay",
              "size": 10,
              "solidity": 0.2
             }
            },
            "type": "histogram"
           }
          ],
          "histogram2d": [
           {
            "colorbar": {
             "outlinewidth": 0,
             "ticks": ""
            },
            "colorscale": [
             [
              0,
              "#0d0887"
             ],
             [
              0.1111111111111111,
              "#46039f"
             ],
             [
              0.2222222222222222,
              "#7201a8"
             ],
             [
              0.3333333333333333,
              "#9c179e"
             ],
             [
              0.4444444444444444,
              "#bd3786"
             ],
             [
              0.5555555555555556,
              "#d8576b"
             ],
             [
              0.6666666666666666,
              "#ed7953"
             ],
             [
              0.7777777777777778,
              "#fb9f3a"
             ],
             [
              0.8888888888888888,
              "#fdca26"
             ],
             [
              1,
              "#f0f921"
             ]
            ],
            "type": "histogram2d"
           }
          ],
          "histogram2dcontour": [
           {
            "colorbar": {
             "outlinewidth": 0,
             "ticks": ""
            },
            "colorscale": [
             [
              0,
              "#0d0887"
             ],
             [
              0.1111111111111111,
              "#46039f"
             ],
             [
              0.2222222222222222,
              "#7201a8"
             ],
             [
              0.3333333333333333,
              "#9c179e"
             ],
             [
              0.4444444444444444,
              "#bd3786"
             ],
             [
              0.5555555555555556,
              "#d8576b"
             ],
             [
              0.6666666666666666,
              "#ed7953"
             ],
             [
              0.7777777777777778,
              "#fb9f3a"
             ],
             [
              0.8888888888888888,
              "#fdca26"
             ],
             [
              1,
              "#f0f921"
             ]
            ],
            "type": "histogram2dcontour"
           }
          ],
          "mesh3d": [
           {
            "colorbar": {
             "outlinewidth": 0,
             "ticks": ""
            },
            "type": "mesh3d"
           }
          ],
          "parcoords": [
           {
            "line": {
             "colorbar": {
              "outlinewidth": 0,
              "ticks": ""
             }
            },
            "type": "parcoords"
           }
          ],
          "pie": [
           {
            "automargin": true,
            "type": "pie"
           }
          ],
          "scatter": [
           {
            "fillpattern": {
             "fillmode": "overlay",
             "size": 10,
             "solidity": 0.2
            },
            "type": "scatter"
           }
          ],
          "scatter3d": [
           {
            "line": {
             "colorbar": {
              "outlinewidth": 0,
              "ticks": ""
             }
            },
            "marker": {
             "colorbar": {
              "outlinewidth": 0,
              "ticks": ""
             }
            },
            "type": "scatter3d"
           }
          ],
          "scattercarpet": [
           {
            "marker": {
             "colorbar": {
              "outlinewidth": 0,
              "ticks": ""
             }
            },
            "type": "scattercarpet"
           }
          ],
          "scattergeo": [
           {
            "marker": {
             "colorbar": {
              "outlinewidth": 0,
              "ticks": ""
             }
            },
            "type": "scattergeo"
           }
          ],
          "scattergl": [
           {
            "marker": {
             "colorbar": {
              "outlinewidth": 0,
              "ticks": ""
             }
            },
            "type": "scattergl"
           }
          ],
          "scattermapbox": [
           {
            "marker": {
             "colorbar": {
              "outlinewidth": 0,
              "ticks": ""
             }
            },
            "type": "scattermapbox"
           }
          ],
          "scatterpolar": [
           {
            "marker": {
             "colorbar": {
              "outlinewidth": 0,
              "ticks": ""
             }
            },
            "type": "scatterpolar"
           }
          ],
          "scatterpolargl": [
           {
            "marker": {
             "colorbar": {
              "outlinewidth": 0,
              "ticks": ""
             }
            },
            "type": "scatterpolargl"
           }
          ],
          "scatterternary": [
           {
            "marker": {
             "colorbar": {
              "outlinewidth": 0,
              "ticks": ""
             }
            },
            "type": "scatterternary"
           }
          ],
          "surface": [
           {
            "colorbar": {
             "outlinewidth": 0,
             "ticks": ""
            },
            "colorscale": [
             [
              0,
              "#0d0887"
             ],
             [
              0.1111111111111111,
              "#46039f"
             ],
             [
              0.2222222222222222,
              "#7201a8"
             ],
             [
              0.3333333333333333,
              "#9c179e"
             ],
             [
              0.4444444444444444,
              "#bd3786"
             ],
             [
              0.5555555555555556,
              "#d8576b"
             ],
             [
              0.6666666666666666,
              "#ed7953"
             ],
             [
              0.7777777777777778,
              "#fb9f3a"
             ],
             [
              0.8888888888888888,
              "#fdca26"
             ],
             [
              1,
              "#f0f921"
             ]
            ],
            "type": "surface"
           }
          ],
          "table": [
           {
            "cells": {
             "fill": {
              "color": "#EBF0F8"
             },
             "line": {
              "color": "white"
             }
            },
            "header": {
             "fill": {
              "color": "#C8D4E3"
             },
             "line": {
              "color": "white"
             }
            },
            "type": "table"
           }
          ]
         },
         "layout": {
          "annotationdefaults": {
           "arrowcolor": "#2a3f5f",
           "arrowhead": 0,
           "arrowwidth": 1
          },
          "autotypenumbers": "strict",
          "coloraxis": {
           "colorbar": {
            "outlinewidth": 0,
            "ticks": ""
           }
          },
          "colorscale": {
           "diverging": [
            [
             0,
             "#8e0152"
            ],
            [
             0.1,
             "#c51b7d"
            ],
            [
             0.2,
             "#de77ae"
            ],
            [
             0.3,
             "#f1b6da"
            ],
            [
             0.4,
             "#fde0ef"
            ],
            [
             0.5,
             "#f7f7f7"
            ],
            [
             0.6,
             "#e6f5d0"
            ],
            [
             0.7,
             "#b8e186"
            ],
            [
             0.8,
             "#7fbc41"
            ],
            [
             0.9,
             "#4d9221"
            ],
            [
             1,
             "#276419"
            ]
           ],
           "sequential": [
            [
             0,
             "#0d0887"
            ],
            [
             0.1111111111111111,
             "#46039f"
            ],
            [
             0.2222222222222222,
             "#7201a8"
            ],
            [
             0.3333333333333333,
             "#9c179e"
            ],
            [
             0.4444444444444444,
             "#bd3786"
            ],
            [
             0.5555555555555556,
             "#d8576b"
            ],
            [
             0.6666666666666666,
             "#ed7953"
            ],
            [
             0.7777777777777778,
             "#fb9f3a"
            ],
            [
             0.8888888888888888,
             "#fdca26"
            ],
            [
             1,
             "#f0f921"
            ]
           ],
           "sequentialminus": [
            [
             0,
             "#0d0887"
            ],
            [
             0.1111111111111111,
             "#46039f"
            ],
            [
             0.2222222222222222,
             "#7201a8"
            ],
            [
             0.3333333333333333,
             "#9c179e"
            ],
            [
             0.4444444444444444,
             "#bd3786"
            ],
            [
             0.5555555555555556,
             "#d8576b"
            ],
            [
             0.6666666666666666,
             "#ed7953"
            ],
            [
             0.7777777777777778,
             "#fb9f3a"
            ],
            [
             0.8888888888888888,
             "#fdca26"
            ],
            [
             1,
             "#f0f921"
            ]
           ]
          },
          "colorway": [
           "#636efa",
           "#EF553B",
           "#00cc96",
           "#ab63fa",
           "#FFA15A",
           "#19d3f3",
           "#FF6692",
           "#B6E880",
           "#FF97FF",
           "#FECB52"
          ],
          "font": {
           "color": "#2a3f5f"
          },
          "geo": {
           "bgcolor": "white",
           "lakecolor": "white",
           "landcolor": "#E5ECF6",
           "showlakes": true,
           "showland": true,
           "subunitcolor": "white"
          },
          "hoverlabel": {
           "align": "left"
          },
          "hovermode": "closest",
          "mapbox": {
           "style": "light"
          },
          "paper_bgcolor": "white",
          "plot_bgcolor": "#E5ECF6",
          "polar": {
           "angularaxis": {
            "gridcolor": "white",
            "linecolor": "white",
            "ticks": ""
           },
           "bgcolor": "#E5ECF6",
           "radialaxis": {
            "gridcolor": "white",
            "linecolor": "white",
            "ticks": ""
           }
          },
          "scene": {
           "xaxis": {
            "backgroundcolor": "#E5ECF6",
            "gridcolor": "white",
            "gridwidth": 2,
            "linecolor": "white",
            "showbackground": true,
            "ticks": "",
            "zerolinecolor": "white"
           },
           "yaxis": {
            "backgroundcolor": "#E5ECF6",
            "gridcolor": "white",
            "gridwidth": 2,
            "linecolor": "white",
            "showbackground": true,
            "ticks": "",
            "zerolinecolor": "white"
           },
           "zaxis": {
            "backgroundcolor": "#E5ECF6",
            "gridcolor": "white",
            "gridwidth": 2,
            "linecolor": "white",
            "showbackground": true,
            "ticks": "",
            "zerolinecolor": "white"
           }
          },
          "shapedefaults": {
           "line": {
            "color": "#2a3f5f"
           }
          },
          "ternary": {
           "aaxis": {
            "gridcolor": "white",
            "linecolor": "white",
            "ticks": ""
           },
           "baxis": {
            "gridcolor": "white",
            "linecolor": "white",
            "ticks": ""
           },
           "bgcolor": "#E5ECF6",
           "caxis": {
            "gridcolor": "white",
            "linecolor": "white",
            "ticks": ""
           }
          },
          "title": {
           "x": 0.05
          },
          "xaxis": {
           "automargin": true,
           "gridcolor": "white",
           "linecolor": "white",
           "ticks": "",
           "title": {
            "standoff": 15
           },
           "zerolinecolor": "white",
           "zerolinewidth": 2
          },
          "yaxis": {
           "automargin": true,
           "gridcolor": "white",
           "linecolor": "white",
           "ticks": "",
           "title": {
            "standoff": 15
           },
           "zerolinecolor": "white",
           "zerolinewidth": 2
          }
         }
        },
        "title": {
         "text": "Total Late Delivery Risk by Department"
        },
        "xaxis": {
         "anchor": "y",
         "domain": [
          0,
          1
         ],
         "title": {
          "text": "Department Name"
         }
        },
        "yaxis": {
         "anchor": "x",
         "domain": [
          0,
          1
         ],
         "title": {
          "text": "Late Delivery Risk"
         }
        }
       }
      }
     },
     "metadata": {},
     "output_type": "display_data"
    }
   ],
   "source": [
    "\n",
    "fig = px.treemap(\n",
    "    department_group,\n",
    "    path=['Department Name'],\n",
    "    values='Total Sales',   \n",
    "    color='Total Sales',  \n",
    "    title='Total Sales by Department',\n",
    "    labels={'Total Sales': 'Total Sales'},\n",
    "    hover_data={\n",
    "        'Total Sales': ':.1f', \n",
    "        'Average Sales per Customer': ':.1f', \n",
    "        'Avg Days Shipment Scheduled': ':.1f', \n",
    "        'Avg Days Shipping Real': ':.1f', \n",
    "        'Avg Late Delivery Risk': ':.1f'\n",
    "    }\n",
    ")\n",
    "\n",
    "fig.show()\n",
    "\n",
    "# Interactive Plot for Average Days for Shipment (Scheduled vs Real)\n",
    "fig2 = px.line(department_group, x='Department Name', \n",
    "               y=['Avg Days Shipment Scheduled', 'Avg Days Shipping Real'], \n",
    "               title='Average Days for Shipment: Scheduled vs Real', \n",
    "               labels={'value':'Average Days', 'variable':'Shipment Type'}, \n",
    "               hover_data={'value': ':.1f'})\n",
    "\n",
    "fig2.show()\n",
    "\n",
    "# Interactive Plot for Late Delivery Risk\n",
    "fig3 = px.bar(department_group, x='Department Name', y='Total Late Delivery Risk', \n",
    "              color='Total Late Delivery Risk', title='Total Late Delivery Risk by Department',\n",
    "              labels={'Total Late Delivery Risk':'Late Delivery Risk'},\n",
    "              hover_data={'Total Late Delivery Risk': ':.1f'})\n",
    "\n",
    "fig3.show()"
   ]
  },
  {
   "cell_type": "code",
   "execution_count": 131,
   "metadata": {},
   "outputs": [
    {
     "data": {
      "image/png": "[encoded data removed]",
      "text/plain": [
       "<Figure size 1200x600 with 2 Axes>"
      ]
     },
     "metadata": {},
     "output_type": "display_data"
    }
   ],
   "source": [
    "fig, ax1 = plt.subplots(figsize=(12, 6))\n",
    "\n",
    "# Plotting Total Sales\n",
    "ax1.bar(department_group['Department Name'], department_group['Total Sales'], color='lightblue', label='Total Sales')\n",
    "ax1.set_xlabel('Department Name')\n",
    "ax1.set_ylabel('Total Sales', color='blue')\n",
    "ax1.tick_params(axis='y', labelcolor='blue')\n",
    "\n",
    "# Plotting Average Late Delivery Risk on the secondary y-axis\n",
    "ax2 = ax1.twinx()\n",
    "ax2.plot(department_group['Department Name'], department_group['Avg Late Delivery Risk'], color='red', marker='o', label='Avg Late Delivery Risk')\n",
    "ax2.set_ylabel('Avg Late Delivery Risk', color='red')\n",
    "ax2.tick_params(axis='y', labelcolor='red')\n",
    "\n",
    "# Adding title and legend\n",
    "plt.title('Department Total Sales and Average Late Delivery Risk')\n",
    "fig.tight_layout()\n",
    "plt.legend(loc='upper left')\n",
    "plt.show()"
   ]
  },
  {
   "cell_type": "markdown",
   "metadata": {},
   "source": [
    "# Department Trend Analysis Conclusions\n",
    "\n",
    "## Conclusion 1: Total Sales by Department\n",
    "**Observation**:  \n",
    "The Fan Shop leads in total sales, which correlates with the highest late delivery risk. Scheduled shipment times average 2.93 days, while actual delivery takes about 3.49 days, indicating a delay of approximately 0.56 days.\n",
    "\n",
    "**Assumptions/Questions**:\n",
    "- Does higher sales volume lead to increased strain on supply chains, contributing to delays?\n",
    "- Which products are most frequently ordered in each department, and how much do they contribute to overall sales?\n",
    "- What percentage of total sales is driven by these commonly ordered products?\n",
    "\n",
    "## Conclusion 2: Shipping Delays\n",
    "**Observation**:  \n",
    "Across departments, the average shipping time is approximately 0.6 days longer than scheduled.\n",
    "\n",
    "**Assumptions/Questions**:\n",
    "- What are the primary causes of shipment delays? Could these factors be adjusted to align scheduled and actual delivery times more closely?\n",
    "- If reducing delays is not feasible, how do these delays impact customer satisfaction and overall business performance?\n",
    "\n",
    "## Analysis Breakdown\n",
    "- **Total Sales by Department**: Analyzing total sales figures to understand revenue distribution across departments.\n",
    "- **Average Sales per Customer**: Assessing customer value to identify which departments generate the most revenue per transaction.\n",
    "- **Average Days for Shipment (Scheduled vs. Real)**: Comparing scheduled vs. actual delivery times to identify discrepancies and potential areas for improvement in logistics.\n",
    "- **Late Delivery Risk**: Evaluating the average and total late delivery risks to pinpoint departments that face higher risks of delays.\n",
    "\n",
    "## Data Highlights\n",
    "- **Suspected Fraud**: Monitoring the percentage of suspected fraud orders per department to assess risk.\n",
    "- **Late Delivery Risk**: Identifying departments like the Fan Shop, which, despite high sales, also faces significant delivery delays.\n"
   ]
  },
  {
   "cell_type": "markdown",
   "metadata": {},
   "source": [
    "### Customer Segment Trend Analysis"
   ]
  },
  {
   "cell_type": "code",
   "execution_count": 132,
   "metadata": {},
   "outputs": [],
   "source": [
    "schain['Year'] = schain['order date (DateOrders)'].dt.year\n",
    "\n",
    "# Create a 'Month_Year' column by extracting the month number and year from 'order date (DateOrders)'\n",
    "schain['Month_Year'] = schain['order date (DateOrders)'].dt.month.astype(str).str.zfill(2) + '/' + schain['order date (DateOrders)'].dt.year.astype(str)\n",
    "\n",
    "# Now, group by 'Customer Segment', 'Customer State', 'Year', and 'Month_Year'\n",
    "customer_segment_group = schain.groupby(['Customer Segment', 'Year', 'Month_Year']).agg({\n",
    "    'Sales': 'sum',\n",
    "    'Product Price': 'mean',  \n",
    "    'Customer Id': 'count',  \n",
    "    'Order Item Quantity': 'sum'\n",
    "}).reset_index()\n",
    "\n",
    "# Rename columns for clarity\n",
    "customer_segment_group.columns = ['Customer Segment', 'Year', 'Month_Year', 'Total Sales', 'Average Product Price', 'Customer Count', 'Products Purchased Total']\n",
    "\n",
    "# Round the results for easier readability\n",
    "customer_segment_group = customer_segment_group.round(1)"
   ]
  },
  {
   "cell_type": "code",
   "execution_count": 133,
   "metadata": {},
   "outputs": [
    {
     "data": {
      "application/vnd.plotly.v1+json": {
       "config": {
        "plotlyServerURL": "https://plot.ly"
       },
       "data": [
        {
         "alignmentgroup": "True",
         "hovertemplate": "Customer Segment=Consumer<br>Month_Year=%{x}<br>Total Sales=%{y:.1f}<extra></extra>",
         "legendgroup": "Consumer",
         "marker": {
          "color": "#636efa",
          "pattern": {
           "shape": ""
          }
         },
         "name": "Consumer",
         "offsetgroup": "Consumer",
         "orientation": "v",
         "showlegend": true,
         "textposition": "auto",
         "type": "bar",
         "x": [
          "2015-01-01T00:00:00",
          "2015-02-01T00:00:00",
          "2015-03-01T00:00:00",
          "2015-04-01T00:00:00",
          "2015-05-01T00:00:00",
          "2015-06-01T00:00:00",
          "2015-07-01T00:00:00",
          "2015-08-01T00:00:00",
          "2015-09-01T00:00:00",
          "2015-10-01T00:00:00",
          "2015-11-01T00:00:00",
          "2015-12-01T00:00:00",
          "2016-01-01T00:00:00",
          "2016-02-01T00:00:00",
          "2016-03-01T00:00:00",
          "2016-04-01T00:00:00",
          "2016-05-01T00:00:00",
          "2016-06-01T00:00:00",
          "2016-07-01T00:00:00",
          "2016-08-01T00:00:00",
          "2016-09-01T00:00:00",
          "2016-10-01T00:00:00",
          "2016-11-01T00:00:00",
          "2016-12-01T00:00:00",
          "2017-01-01T00:00:00",
          "2017-02-01T00:00:00",
          "2017-03-01T00:00:00",
          "2017-04-01T00:00:00",
          "2017-05-01T00:00:00",
          "2017-06-01T00:00:00",
          "2017-07-01T00:00:00",
          "2017-08-01T00:00:00",
          "2017-09-01T00:00:00",
          "2017-10-01T00:00:00",
          "2017-11-01T00:00:00",
          "2017-12-01T00:00:00",
          "2018-01-01T00:00:00"
         ],
         "xaxis": "x",
         "y": [
          547482.5,
          476562.8,
          548665.7,
          546105.9,
          529553.3,
          535247.8,
          527297.4,
          530694.3,
          535371.1,
          528978.1,
          533532.7,
          535432.6,
          527335.2,
          504990.8,
          539812.6,
          514511.2,
          539841.2,
          521058.8,
          554767.9,
          562308.4,
          534414.3,
          564420.3,
          548520,
          541428.8,
          552258.9,
          491386.4,
          508047.4,
          553031.5,
          555613.6,
          507861.8,
          589456.7,
          592000.3,
          588507.7,
          562802.9,
          324809.3,
          278849.8,
          162830.2
         ],
         "yaxis": "y"
        },
        {
         "alignmentgroup": "True",
         "hovertemplate": "Customer Segment=Home Office<br>Month_Year=%{x}<br>Total Sales=%{y:.1f}<extra></extra>",
         "legendgroup": "Home Office",
         "marker": {
          "color": "#EF553B",
          "pattern": {
           "shape": ""
          }
         },
         "name": "Home Office",
         "offsetgroup": "Home Office",
         "orientation": "v",
         "showlegend": true,
         "textposition": "auto",
         "type": "bar",
         "x": [
          "2015-01-01T00:00:00",
          "2015-02-01T00:00:00",
          "2015-03-01T00:00:00",
          "2015-04-01T00:00:00",
          "2015-05-01T00:00:00",
          "2015-06-01T00:00:00",
          "2015-07-01T00:00:00",
          "2015-08-01T00:00:00",
          "2015-09-01T00:00:00",
          "2015-10-01T00:00:00",
          "2015-11-01T00:00:00",
          "2015-12-01T00:00:00",
          "2016-01-01T00:00:00",
          "2016-02-01T00:00:00",
          "2016-03-01T00:00:00",
          "2016-04-01T00:00:00",
          "2016-05-01T00:00:00",
          "2016-06-01T00:00:00",
          "2016-07-01T00:00:00",
          "2016-08-01T00:00:00",
          "2016-09-01T00:00:00",
          "2016-10-01T00:00:00",
          "2016-11-01T00:00:00",
          "2016-12-01T00:00:00",
          "2017-01-01T00:00:00",
          "2017-02-01T00:00:00",
          "2017-03-01T00:00:00",
          "2017-04-01T00:00:00",
          "2017-05-01T00:00:00",
          "2017-06-01T00:00:00",
          "2017-07-01T00:00:00",
          "2017-08-01T00:00:00",
          "2017-09-01T00:00:00",
          "2017-10-01T00:00:00",
          "2017-11-01T00:00:00",
          "2017-12-01T00:00:00",
          "2018-01-01T00:00:00"
         ],
         "xaxis": "x",
         "y": [
          186133.9,
          175676,
          181367.1,
          175467.6,
          187596.1,
          175454.2,
          180332,
          176719.3,
          176238.4,
          193865.4,
          191772.4,
          186379.3,
          188668.3,
          179591.8,
          188952.7,
          157387.4,
          174640.3,
          181985.1,
          201795.5,
          182267.1,
          174586.3,
          170498,
          192236.3,
          186275.7,
          170601.4,
          175249.3,
          204588.7,
          189358.8,
          194465.9,
          205157.1,
          180498.8,
          195058.4,
          214623.1,
          189221.6,
          98909.5,
          72829.7,
          64089.7
         ],
         "yaxis": "y"
        },
        {
         "alignmentgroup": "True",
         "hovertemplate": "Customer Segment=Corporate<br>Month_Year=%{x}<br>Total Sales=%{y:.1f}<extra></extra>",
         "legendgroup": "Corporate",
         "marker": {
          "color": "#00cc96",
          "pattern": {
           "shape": ""
          }
         },
         "name": "Corporate",
         "offsetgroup": "Corporate",
         "orientation": "v",
         "showlegend": true,
         "textposition": "auto",
         "type": "bar",
         "x": [
          "2015-01-01T00:00:00",
          "2015-02-01T00:00:00",
          "2015-03-01T00:00:00",
          "2015-04-01T00:00:00",
          "2015-05-01T00:00:00",
          "2015-06-01T00:00:00",
          "2015-07-01T00:00:00",
          "2015-08-01T00:00:00",
          "2015-09-01T00:00:00",
          "2015-10-01T00:00:00",
          "2015-11-01T00:00:00",
          "2015-12-01T00:00:00",
          "2016-01-01T00:00:00",
          "2016-02-01T00:00:00",
          "2016-03-01T00:00:00",
          "2016-04-01T00:00:00",
          "2016-05-01T00:00:00",
          "2016-06-01T00:00:00",
          "2016-07-01T00:00:00",
          "2016-08-01T00:00:00",
          "2016-09-01T00:00:00",
          "2016-10-01T00:00:00",
          "2016-11-01T00:00:00",
          "2016-12-01T00:00:00",
          "2017-01-01T00:00:00",
          "2017-02-01T00:00:00",
          "2017-03-01T00:00:00",
          "2017-04-01T00:00:00",
          "2017-05-01T00:00:00",
          "2017-06-01T00:00:00",
          "2017-07-01T00:00:00",
          "2017-08-01T00:00:00",
          "2017-09-01T00:00:00",
          "2017-10-01T00:00:00",
          "2017-11-01T00:00:00",
          "2017-12-01T00:00:00",
          "2018-01-01T00:00:00"
         ],
         "xaxis": "x",
         "y": [
          317973.7,
          274771.1,
          321220.9,
          292889.8,
          333329,
          313304.1,
          330451.8,
          322081.1,
          306729,
          326310.7,
          303815.1,
          336029,
          330304.8,
          283960.3,
          297087.8,
          329313,
          314918.7,
          300015.7,
          289152.2,
          303624.8,
          293396.4,
          313212.3,
          306833.9,
          309703.7,
          306837.7,
          325899.2,
          335368.7,
          295931.4,
          355405.8,
          319067.7,
          334417.8,
          322278.6,
          340644.3,
          321969.6,
          203195.6,
          152231.3,
          104730.2
         ],
         "yaxis": "y"
        }
       ],
       "layout": {
        "barmode": "relative",
        "legend": {
         "title": {
          "text": "Customer Segment"
         },
         "tracegroupgap": 0
        },
        "template": {
         "data": {
          "bar": [
           {
            "error_x": {
             "color": "#2a3f5f"
            },
            "error_y": {
             "color": "#2a3f5f"
            },
            "marker": {
             "line": {
              "color": "#E5ECF6",
              "width": 0.5
             },
             "pattern": {
              "fillmode": "overlay",
              "size": 10,
              "solidity": 0.2
             }
            },
            "type": "bar"
           }
          ],
          "barpolar": [
           {
            "marker": {
             "line": {
              "color": "#E5ECF6",
              "width": 0.5
             },
             "pattern": {
              "fillmode": "overlay",
              "size": 10,
              "solidity": 0.2
             }
            },
            "type": "barpolar"
           }
          ],
          "carpet": [
           {
            "aaxis": {
             "endlinecolor": "#2a3f5f",
             "gridcolor": "white",
             "linecolor": "white",
             "minorgridcolor": "white",
             "startlinecolor": "#2a3f5f"
            },
            "baxis": {
             "endlinecolor": "#2a3f5f",
             "gridcolor": "white",
             "linecolor": "white",
             "minorgridcolor": "white",
             "startlinecolor": "#2a3f5f"
            },
            "type": "carpet"
           }
          ],
          "choropleth": [
           {
            "colorbar": {
             "outlinewidth": 0,
             "ticks": ""
            },
            "type": "choropleth"
           }
          ],
          "contour": [
           {
            "colorbar": {
             "outlinewidth": 0,
             "ticks": ""
            },
            "colorscale": [
             [
              0,
              "#0d0887"
             ],
             [
              0.1111111111111111,
              "#46039f"
             ],
             [
              0.2222222222222222,
              "#7201a8"
             ],
             [
              0.3333333333333333,
              "#9c179e"
             ],
             [
              0.4444444444444444,
              "#bd3786"
             ],
             [
              0.5555555555555556,
              "#d8576b"
             ],
             [
              0.6666666666666666,
              "#ed7953"
             ],
             [
              0.7777777777777778,
              "#fb9f3a"
             ],
             [
              0.8888888888888888,
              "#fdca26"
             ],
             [
              1,
              "#f0f921"
             ]
            ],
            "type": "contour"
           }
          ],
          "contourcarpet": [
           {
            "colorbar": {
             "outlinewidth": 0,
             "ticks": ""
            },
            "type": "contourcarpet"
           }
          ],
          "heatmap": [
           {
            "colorbar": {
             "outlinewidth": 0,
             "ticks": ""
            },
            "colorscale": [
             [
              0,
              "#0d0887"
             ],
             [
              0.1111111111111111,
              "#46039f"
             ],
             [
              0.2222222222222222,
              "#7201a8"
             ],
             [
              0.3333333333333333,
              "#9c179e"
             ],
             [
              0.4444444444444444,
              "#bd3786"
             ],
             [
              0.5555555555555556,
              "#d8576b"
             ],
             [
              0.6666666666666666,
              "#ed7953"
             ],
             [
              0.7777777777777778,
              "#fb9f3a"
             ],
             [
              0.8888888888888888,
              "#fdca26"
             ],
             [
              1,
              "#f0f921"
             ]
            ],
            "type": "heatmap"
           }
          ],
          "heatmapgl": [
           {
            "colorbar": {
             "outlinewidth": 0,
             "ticks": ""
            },
            "colorscale": [
             [
              0,
              "#0d0887"
             ],
             [
              0.1111111111111111,
              "#46039f"
             ],
             [
              0.2222222222222222,
              "#7201a8"
             ],
             [
              0.3333333333333333,
              "#9c179e"
             ],
             [
              0.4444444444444444,
              "#bd3786"
             ],
             [
              0.5555555555555556,
              "#d8576b"
             ],
             [
              0.6666666666666666,
              "#ed7953"
             ],
             [
              0.7777777777777778,
              "#fb9f3a"
             ],
             [
              0.8888888888888888,
              "#fdca26"
             ],
             [
              1,
              "#f0f921"
             ]
            ],
            "type": "heatmapgl"
           }
          ],
          "histogram": [
           {
            "marker": {
             "pattern": {
              "fillmode": "overlay",
              "size": 10,
              "solidity": 0.2
             }
            },
            "type": "histogram"
           }
          ],
          "histogram2d": [
           {
            "colorbar": {
             "outlinewidth": 0,
             "ticks": ""
            },
            "colorscale": [
             [
              0,
              "#0d0887"
             ],
             [
              0.1111111111111111,
              "#46039f"
             ],
             [
              0.2222222222222222,
              "#7201a8"
             ],
             [
              0.3333333333333333,
              "#9c179e"
             ],
             [
              0.4444444444444444,
              "#bd3786"
             ],
             [
              0.5555555555555556,
              "#d8576b"
             ],
             [
              0.6666666666666666,
              "#ed7953"
             ],
             [
              0.7777777777777778,
              "#fb9f3a"
             ],
             [
              0.8888888888888888,
              "#fdca26"
             ],
             [
              1,
              "#f0f921"
             ]
            ],
            "type": "histogram2d"
           }
          ],
          "histogram2dcontour": [
           {
            "colorbar": {
             "outlinewidth": 0,
             "ticks": ""
            },
            "colorscale": [
             [
              0,
              "#0d0887"
             ],
             [
              0.1111111111111111,
              "#46039f"
             ],
             [
              0.2222222222222222,
              "#7201a8"
             ],
             [
              0.3333333333333333,
              "#9c179e"
             ],
             [
              0.4444444444444444,
              "#bd3786"
             ],
             [
              0.5555555555555556,
              "#d8576b"
             ],
             [
              0.6666666666666666,
              "#ed7953"
             ],
             [
              0.7777777777777778,
              "#fb9f3a"
             ],
             [
              0.8888888888888888,
              "#fdca26"
             ],
             [
              1,
              "#f0f921"
             ]
            ],
            "type": "histogram2dcontour"
           }
          ],
          "mesh3d": [
           {
            "colorbar": {
             "outlinewidth": 0,
             "ticks": ""
            },
            "type": "mesh3d"
           }
          ],
          "parcoords": [
           {
            "line": {
             "colorbar": {
              "outlinewidth": 0,
              "ticks": ""
             }
            },
            "type": "parcoords"
           }
          ],
          "pie": [
           {
            "automargin": true,
            "type": "pie"
           }
          ],
          "scatter": [
           {
            "fillpattern": {
             "fillmode": "overlay",
             "size": 10,
             "solidity": 0.2
            },
            "type": "scatter"
           }
          ],
          "scatter3d": [
           {
            "line": {
             "colorbar": {
              "outlinewidth": 0,
              "ticks": ""
             }
            },
            "marker": {
             "colorbar": {
              "outlinewidth": 0,
              "ticks": ""
             }
            },
            "type": "scatter3d"
           }
          ],
          "scattercarpet": [
           {
            "marker": {
             "colorbar": {
              "outlinewidth": 0,
              "ticks": ""
             }
            },
            "type": "scattercarpet"
           }
          ],
          "scattergeo": [
           {
            "marker": {
             "colorbar": {
              "outlinewidth": 0,
              "ticks": ""
             }
            },
            "type": "scattergeo"
           }
          ],
          "scattergl": [
           {
            "marker": {
             "colorbar": {
              "outlinewidth": 0,
              "ticks": ""
             }
            },
            "type": "scattergl"
           }
          ],
          "scattermapbox": [
           {
            "marker": {
             "colorbar": {
              "outlinewidth": 0,
              "ticks": ""
             }
            },
            "type": "scattermapbox"
           }
          ],
          "scatterpolar": [
           {
            "marker": {
             "colorbar": {
              "outlinewidth": 0,
              "ticks": ""
             }
            },
            "type": "scatterpolar"
           }
          ],
          "scatterpolargl": [
           {
            "marker": {
             "colorbar": {
              "outlinewidth": 0,
              "ticks": ""
             }
            },
            "type": "scatterpolargl"
           }
          ],
          "scatterternary": [
           {
            "marker": {
             "colorbar": {
              "outlinewidth": 0,
              "ticks": ""
             }
            },
            "type": "scatterternary"
           }
          ],
          "surface": [
           {
            "colorbar": {
             "outlinewidth": 0,
             "ticks": ""
            },
            "colorscale": [
             [
              0,
              "#0d0887"
             ],
             [
              0.1111111111111111,
              "#46039f"
             ],
             [
              0.2222222222222222,
              "#7201a8"
             ],
             [
              0.3333333333333333,
              "#9c179e"
             ],
             [
              0.4444444444444444,
              "#bd3786"
             ],
             [
              0.5555555555555556,
              "#d8576b"
             ],
             [
              0.6666666666666666,
              "#ed7953"
             ],
             [
              0.7777777777777778,
              "#fb9f3a"
             ],
             [
              0.8888888888888888,
              "#fdca26"
             ],
             [
              1,
              "#f0f921"
             ]
            ],
            "type": "surface"
           }
          ],
          "table": [
           {
            "cells": {
             "fill": {
              "color": "#EBF0F8"
             },
             "line": {
              "color": "white"
             }
            },
            "header": {
             "fill": {
              "color": "#C8D4E3"
             },
             "line": {
              "color": "white"
             }
            },
            "type": "table"
           }
          ]
         },
         "layout": {
          "annotationdefaults": {
           "arrowcolor": "#2a3f5f",
           "arrowhead": 0,
           "arrowwidth": 1
          },
          "autotypenumbers": "strict",
          "coloraxis": {
           "colorbar": {
            "outlinewidth": 0,
            "ticks": ""
           }
          },
          "colorscale": {
           "diverging": [
            [
             0,
             "#8e0152"
            ],
            [
             0.1,
             "#c51b7d"
            ],
            [
             0.2,
             "#de77ae"
            ],
            [
             0.3,
             "#f1b6da"
            ],
            [
             0.4,
             "#fde0ef"
            ],
            [
             0.5,
             "#f7f7f7"
            ],
            [
             0.6,
             "#e6f5d0"
            ],
            [
             0.7,
             "#b8e186"
            ],
            [
             0.8,
             "#7fbc41"
            ],
            [
             0.9,
             "#4d9221"
            ],
            [
             1,
             "#276419"
            ]
           ],
           "sequential": [
            [
             0,
             "#0d0887"
            ],
            [
             0.1111111111111111,
             "#46039f"
            ],
            [
             0.2222222222222222,
             "#7201a8"
            ],
            [
             0.3333333333333333,
             "#9c179e"
            ],
            [
             0.4444444444444444,
             "#bd3786"
            ],
            [
             0.5555555555555556,
             "#d8576b"
            ],
            [
             0.6666666666666666,
             "#ed7953"
            ],
            [
             0.7777777777777778,
             "#fb9f3a"
            ],
            [
             0.8888888888888888,
             "#fdca26"
            ],
            [
             1,
             "#f0f921"
            ]
           ],
           "sequentialminus": [
            [
             0,
             "#0d0887"
            ],
            [
             0.1111111111111111,
             "#46039f"
            ],
            [
             0.2222222222222222,
             "#7201a8"
            ],
            [
             0.3333333333333333,
             "#9c179e"
            ],
            [
             0.4444444444444444,
             "#bd3786"
            ],
            [
             0.5555555555555556,
             "#d8576b"
            ],
            [
             0.6666666666666666,
             "#ed7953"
            ],
            [
             0.7777777777777778,
             "#fb9f3a"
            ],
            [
             0.8888888888888888,
             "#fdca26"
            ],
            [
             1,
             "#f0f921"
            ]
           ]
          },
          "colorway": [
           "#636efa",
           "#EF553B",
           "#00cc96",
           "#ab63fa",
           "#FFA15A",
           "#19d3f3",
           "#FF6692",
           "#B6E880",
           "#FF97FF",
           "#FECB52"
          ],
          "font": {
           "color": "#2a3f5f"
          },
          "geo": {
           "bgcolor": "white",
           "lakecolor": "white",
           "landcolor": "#E5ECF6",
           "showlakes": true,
           "showland": true,
           "subunitcolor": "white"
          },
          "hoverlabel": {
           "align": "left"
          },
          "hovermode": "closest",
          "mapbox": {
           "style": "light"
          },
          "paper_bgcolor": "white",
          "plot_bgcolor": "#E5ECF6",
          "polar": {
           "angularaxis": {
            "gridcolor": "white",
            "linecolor": "white",
            "ticks": ""
           },
           "bgcolor": "#E5ECF6",
           "radialaxis": {
            "gridcolor": "white",
            "linecolor": "white",
            "ticks": ""
           }
          },
          "scene": {
           "xaxis": {
            "backgroundcolor": "#E5ECF6",
            "gridcolor": "white",
            "gridwidth": 2,
            "linecolor": "white",
            "showbackground": true,
            "ticks": "",
            "zerolinecolor": "white"
           },
           "yaxis": {
            "backgroundcolor": "#E5ECF6",
            "gridcolor": "white",
            "gridwidth": 2,
            "linecolor": "white",
            "showbackground": true,
            "ticks": "",
            "zerolinecolor": "white"
           },
           "zaxis": {
            "backgroundcolor": "#E5ECF6",
            "gridcolor": "white",
            "gridwidth": 2,
            "linecolor": "white",
            "showbackground": true,
            "ticks": "",
            "zerolinecolor": "white"
           }
          },
          "shapedefaults": {
           "line": {
            "color": "#2a3f5f"
           }
          },
          "ternary": {
           "aaxis": {
            "gridcolor": "white",
            "linecolor": "white",
            "ticks": ""
           },
           "baxis": {
            "gridcolor": "white",
            "linecolor": "white",
            "ticks": ""
           },
           "bgcolor": "#E5ECF6",
           "caxis": {
            "gridcolor": "white",
            "linecolor": "white",
            "ticks": ""
           }
          },
          "title": {
           "x": 0.05
          },
          "xaxis": {
           "automargin": true,
           "gridcolor": "white",
           "linecolor": "white",
           "ticks": "",
           "title": {
            "standoff": 15
           },
           "zerolinecolor": "white",
           "zerolinewidth": 2
          },
          "yaxis": {
           "automargin": true,
           "gridcolor": "white",
           "linecolor": "white",
           "ticks": "",
           "title": {
            "standoff": 15
           },
           "zerolinecolor": "white",
           "zerolinewidth": 2
          }
         }
        },
        "title": {
         "text": "Total Sales by Customer Segment (Month/Year)"
        },
        "xaxis": {
         "anchor": "y",
         "domain": [
          0,
          1
         ],
         "tickmode": "array",
         "ticktext": [
          "01 2015",
          "01 2015",
          "01 2015",
          "02 2015",
          "02 2015",
          "02 2015",
          "03 2015",
          "03 2015",
          "03 2015",
          "04 2015",
          "04 2015",
          "04 2015",
          "05 2015",
          "05 2015",
          "05 2015",
          "06 2015",
          "06 2015",
          "06 2015",
          "07 2015",
          "07 2015",
          "07 2015",
          "08 2015",
          "08 2015",
          "08 2015",
          "09 2015",
          "09 2015",
          "09 2015",
          "10 2015",
          "10 2015",
          "10 2015",
          "11 2015",
          "11 2015",
          "11 2015",
          "12 2015",
          "12 2015",
          "12 2015",
          "01 2016",
          "01 2016",
          "01 2016",
          "02 2016",
          "02 2016",
          "02 2016",
          "03 2016",
          "03 2016",
          "03 2016",
          "04 2016",
          "04 2016",
          "04 2016",
          "05 2016",
          "05 2016",
          "05 2016",
          "06 2016",
          "06 2016",
          "06 2016",
          "07 2016",
          "07 2016",
          "07 2016",
          "08 2016",
          "08 2016",
          "08 2016",
          "09 2016",
          "09 2016",
          "09 2016",
          "10 2016",
          "10 2016",
          "10 2016",
          "11 2016",
          "11 2016",
          "11 2016",
          "12 2016",
          "12 2016",
          "12 2016",
          "01 2017",
          "01 2017",
          "01 2017",
          "02 2017",
          "02 2017",
          "02 2017",
          "03 2017",
          "03 2017",
          "03 2017",
          "04 2017",
          "04 2017",
          "04 2017",
          "05 2017",
          "05 2017",
          "05 2017",
          "06 2017",
          "06 2017",
          "06 2017",
          "07 2017",
          "07 2017",
          "07 2017",
          "08 2017",
          "08 2017",
          "08 2017",
          "09 2017",
          "09 2017",
          "09 2017",
          "10 2017",
          "10 2017",
          "10 2017",
          "11 2017",
          "11 2017",
          "11 2017",
          "12 2017",
          "12 2017",
          "12 2017",
          "01 2018",
          "01 2018",
          "01 2018"
         ],
         "tickvals": [
          "2015-01-01T00:00:00",
          "2015-01-01T00:00:00",
          "2015-01-01T00:00:00",
          "2015-02-01T00:00:00",
          "2015-02-01T00:00:00",
          "2015-02-01T00:00:00",
          "2015-03-01T00:00:00",
          "2015-03-01T00:00:00",
          "2015-03-01T00:00:00",
          "2015-04-01T00:00:00",
          "2015-04-01T00:00:00",
          "2015-04-01T00:00:00",
          "2015-05-01T00:00:00",
          "2015-05-01T00:00:00",
          "2015-05-01T00:00:00",
          "2015-06-01T00:00:00",
          "2015-06-01T00:00:00",
          "2015-06-01T00:00:00",
          "2015-07-01T00:00:00",
          "2015-07-01T00:00:00",
          "2015-07-01T00:00:00",
          "2015-08-01T00:00:00",
          "2015-08-01T00:00:00",
          "2015-08-01T00:00:00",
          "2015-09-01T00:00:00",
          "2015-09-01T00:00:00",
          "2015-09-01T00:00:00",
          "2015-10-01T00:00:00",
          "2015-10-01T00:00:00",
          "2015-10-01T00:00:00",
          "2015-11-01T00:00:00",
          "2015-11-01T00:00:00",
          "2015-11-01T00:00:00",
          "2015-12-01T00:00:00",
          "2015-12-01T00:00:00",
          "2015-12-01T00:00:00",
          "2016-01-01T00:00:00",
          "2016-01-01T00:00:00",
          "2016-01-01T00:00:00",
          "2016-02-01T00:00:00",
          "2016-02-01T00:00:00",
          "2016-02-01T00:00:00",
          "2016-03-01T00:00:00",
          "2016-03-01T00:00:00",
          "2016-03-01T00:00:00",
          "2016-04-01T00:00:00",
          "2016-04-01T00:00:00",
          "2016-04-01T00:00:00",
          "2016-05-01T00:00:00",
          "2016-05-01T00:00:00",
          "2016-05-01T00:00:00",
          "2016-06-01T00:00:00",
          "2016-06-01T00:00:00",
          "2016-06-01T00:00:00",
          "2016-07-01T00:00:00",
          "2016-07-01T00:00:00",
          "2016-07-01T00:00:00",
          "2016-08-01T00:00:00",
          "2016-08-01T00:00:00",
          "2016-08-01T00:00:00",
          "2016-09-01T00:00:00",
          "2016-09-01T00:00:00",
          "2016-09-01T00:00:00",
          "2016-10-01T00:00:00",
          "2016-10-01T00:00:00",
          "2016-10-01T00:00:00",
          "2016-11-01T00:00:00",
          "2016-11-01T00:00:00",
          "2016-11-01T00:00:00",
          "2016-12-01T00:00:00",
          "2016-12-01T00:00:00",
          "2016-12-01T00:00:00",
          "2017-01-01T00:00:00",
          "2017-01-01T00:00:00",
          "2017-01-01T00:00:00",
          "2017-02-01T00:00:00",
          "2017-02-01T00:00:00",
          "2017-02-01T00:00:00",
          "2017-03-01T00:00:00",
          "2017-03-01T00:00:00",
          "2017-03-01T00:00:00",
          "2017-04-01T00:00:00",
          "2017-04-01T00:00:00",
          "2017-04-01T00:00:00",
          "2017-05-01T00:00:00",
          "2017-05-01T00:00:00",
          "2017-05-01T00:00:00",
          "2017-06-01T00:00:00",
          "2017-06-01T00:00:00",
          "2017-06-01T00:00:00",
          "2017-07-01T00:00:00",
          "2017-07-01T00:00:00",
          "2017-07-01T00:00:00",
          "2017-08-01T00:00:00",
          "2017-08-01T00:00:00",
          "2017-08-01T00:00:00",
          "2017-09-01T00:00:00",
          "2017-09-01T00:00:00",
          "2017-09-01T00:00:00",
          "2017-10-01T00:00:00",
          "2017-10-01T00:00:00",
          "2017-10-01T00:00:00",
          "2017-11-01T00:00:00",
          "2017-11-01T00:00:00",
          "2017-11-01T00:00:00",
          "2017-12-01T00:00:00",
          "2017-12-01T00:00:00",
          "2017-12-01T00:00:00",
          "2018-01-01T00:00:00",
          "2018-01-01T00:00:00",
          "2018-01-01T00:00:00"
         ],
         "title": {
          "text": "Month_Year"
         },
         "type": "category"
        },
        "yaxis": {
         "anchor": "x",
         "domain": [
          0,
          1
         ],
         "title": {
          "text": "Total Sales"
         }
        }
       }
      }
     },
     "metadata": {},
     "output_type": "display_data"
    },
    {
     "data": {
      "application/vnd.plotly.v1+json": {
       "config": {
        "plotlyServerURL": "https://plot.ly"
       },
       "data": [
        {
         "hovertemplate": "Customer Segment=Consumer<br>Month_Year=%{x}<br>Avg Product Price=%{marker.size:.1f}<extra></extra>",
         "legendgroup": "Consumer",
         "marker": {
          "color": "#636efa",
          "size": [
           132.6,
           131.5,
           125.6,
           134.7,
           126.1,
           133.4,
           130.8,
           128.9,
           132.2,
           131.4,
           132.4,
           132.5,
           130,
           132.8,
           133.7,
           132.1,
           129.4,
           135.1,
           133.2,
           132.1,
           131.8,
           130.6,
           135.2,
           129.4,
           129.1,
           130.8,
           131.8,
           133.7,
           140.3,
           144.1,
           142.5,
           142,
           158.1,
           482.2,
           311.4,
           244,
           152.3
          ],
          "sizemode": "area",
          "sizeref": 1.2055,
          "symbol": "circle"
         },
         "mode": "markers",
         "name": "Consumer",
         "orientation": "v",
         "showlegend": true,
         "type": "scatter",
         "x": [
          "2015-01-01T00:00:00",
          "2015-02-01T00:00:00",
          "2015-03-01T00:00:00",
          "2015-04-01T00:00:00",
          "2015-05-01T00:00:00",
          "2015-06-01T00:00:00",
          "2015-07-01T00:00:00",
          "2015-08-01T00:00:00",
          "2015-09-01T00:00:00",
          "2015-10-01T00:00:00",
          "2015-11-01T00:00:00",
          "2015-12-01T00:00:00",
          "2016-01-01T00:00:00",
          "2016-02-01T00:00:00",
          "2016-03-01T00:00:00",
          "2016-04-01T00:00:00",
          "2016-05-01T00:00:00",
          "2016-06-01T00:00:00",
          "2016-07-01T00:00:00",
          "2016-08-01T00:00:00",
          "2016-09-01T00:00:00",
          "2016-10-01T00:00:00",
          "2016-11-01T00:00:00",
          "2016-12-01T00:00:00",
          "2017-01-01T00:00:00",
          "2017-02-01T00:00:00",
          "2017-03-01T00:00:00",
          "2017-04-01T00:00:00",
          "2017-05-01T00:00:00",
          "2017-06-01T00:00:00",
          "2017-07-01T00:00:00",
          "2017-08-01T00:00:00",
          "2017-09-01T00:00:00",
          "2017-10-01T00:00:00",
          "2017-11-01T00:00:00",
          "2017-12-01T00:00:00",
          "2018-01-01T00:00:00"
         ],
         "xaxis": "x",
         "y": [
          132.6,
          131.5,
          125.6,
          134.7,
          126.1,
          133.4,
          130.8,
          128.9,
          132.2,
          131.4,
          132.4,
          132.5,
          130,
          132.8,
          133.7,
          132.1,
          129.4,
          135.1,
          133.2,
          132.1,
          131.8,
          130.6,
          135.2,
          129.4,
          129.1,
          130.8,
          131.8,
          133.7,
          140.3,
          144.1,
          142.5,
          142,
          158.1,
          482.2,
          311.4,
          244,
          152.3
         ],
         "yaxis": "y"
        },
        {
         "hovertemplate": "Customer Segment=Home Office<br>Month_Year=%{x}<br>Avg Product Price=%{marker.size:.1f}<extra></extra>",
         "legendgroup": "Home Office",
         "marker": {
          "color": "#EF553B",
          "size": [
           128.8,
           131.2,
           132,
           128.5,
           128.9,
           131.4,
           124.1,
           131.7,
           130.3,
           132.3,
           137.5,
           129.8,
           133,
           131.4,
           130.2,
           128.8,
           129.6,
           139.7,
           131.2,
           130.1,
           131,
           129.1,
           134.3,
           125.1,
           124.8,
           135.3,
           135.5,
           135.3,
           141.2,
           145.6,
           139.9,
           145.2,
           162.8,
           466.2,
           288.4,
           198.4,
           147.3
          ],
          "sizemode": "area",
          "sizeref": 1.2055,
          "symbol": "circle"
         },
         "mode": "markers",
         "name": "Home Office",
         "orientation": "v",
         "showlegend": true,
         "type": "scatter",
         "x": [
          "2015-01-01T00:00:00",
          "2015-02-01T00:00:00",
          "2015-03-01T00:00:00",
          "2015-04-01T00:00:00",
          "2015-05-01T00:00:00",
          "2015-06-01T00:00:00",
          "2015-07-01T00:00:00",
          "2015-08-01T00:00:00",
          "2015-09-01T00:00:00",
          "2015-10-01T00:00:00",
          "2015-11-01T00:00:00",
          "2015-12-01T00:00:00",
          "2016-01-01T00:00:00",
          "2016-02-01T00:00:00",
          "2016-03-01T00:00:00",
          "2016-04-01T00:00:00",
          "2016-05-01T00:00:00",
          "2016-06-01T00:00:00",
          "2016-07-01T00:00:00",
          "2016-08-01T00:00:00",
          "2016-09-01T00:00:00",
          "2016-10-01T00:00:00",
          "2016-11-01T00:00:00",
          "2016-12-01T00:00:00",
          "2017-01-01T00:00:00",
          "2017-02-01T00:00:00",
          "2017-03-01T00:00:00",
          "2017-04-01T00:00:00",
          "2017-05-01T00:00:00",
          "2017-06-01T00:00:00",
          "2017-07-01T00:00:00",
          "2017-08-01T00:00:00",
          "2017-09-01T00:00:00",
          "2017-10-01T00:00:00",
          "2017-11-01T00:00:00",
          "2017-12-01T00:00:00",
          "2018-01-01T00:00:00"
         ],
         "xaxis": "x",
         "y": [
          128.8,
          131.2,
          132,
          128.5,
          128.9,
          131.4,
          124.1,
          131.7,
          130.3,
          132.3,
          137.5,
          129.8,
          133,
          131.4,
          130.2,
          128.8,
          129.6,
          139.7,
          131.2,
          130.1,
          131,
          129.1,
          134.3,
          125.1,
          124.8,
          135.3,
          135.5,
          135.3,
          141.2,
          145.6,
          139.9,
          145.2,
          162.8,
          466.2,
          288.4,
          198.4,
          147.3
         ],
         "yaxis": "y"
        },
        {
         "hovertemplate": "Customer Segment=Corporate<br>Month_Year=%{x}<br>Avg Product Price=%{marker.size:.1f}<extra></extra>",
         "legendgroup": "Corporate",
         "marker": {
          "color": "#00cc96",
          "size": [
           128.8,
           128.4,
           131.3,
           132.8,
           132.6,
           136,
           130.4,
           130.5,
           132.1,
           131.5,
           128.8,
           131.5,
           134.5,
           133.3,
           131.4,
           130.3,
           132.2,
           129.2,
           129.3,
           130.9,
           126.1,
           126.7,
           133.6,
           132.3,
           133.8,
           132.7,
           130.1,
           136.1,
           147.8,
           142.6,
           141.1,
           140.1,
           159.9,
           451.7,
           303.7,
           247.9,
           169.2
          ],
          "sizemode": "area",
          "sizeref": 1.2055,
          "symbol": "circle"
         },
         "mode": "markers",
         "name": "Corporate",
         "orientation": "v",
         "showlegend": true,
         "type": "scatter",
         "x": [
          "2015-01-01T00:00:00",
          "2015-02-01T00:00:00",
          "2015-03-01T00:00:00",
          "2015-04-01T00:00:00",
          "2015-05-01T00:00:00",
          "2015-06-01T00:00:00",
          "2015-07-01T00:00:00",
          "2015-08-01T00:00:00",
          "2015-09-01T00:00:00",
          "2015-10-01T00:00:00",
          "2015-11-01T00:00:00",
          "2015-12-01T00:00:00",
          "2016-01-01T00:00:00",
          "2016-02-01T00:00:00",
          "2016-03-01T00:00:00",
          "2016-04-01T00:00:00",
          "2016-05-01T00:00:00",
          "2016-06-01T00:00:00",
          "2016-07-01T00:00:00",
          "2016-08-01T00:00:00",
          "2016-09-01T00:00:00",
          "2016-10-01T00:00:00",
          "2016-11-01T00:00:00",
          "2016-12-01T00:00:00",
          "2017-01-01T00:00:00",
          "2017-02-01T00:00:00",
          "2017-03-01T00:00:00",
          "2017-04-01T00:00:00",
          "2017-05-01T00:00:00",
          "2017-06-01T00:00:00",
          "2017-07-01T00:00:00",
          "2017-08-01T00:00:00",
          "2017-09-01T00:00:00",
          "2017-10-01T00:00:00",
          "2017-11-01T00:00:00",
          "2017-12-01T00:00:00",
          "2018-01-01T00:00:00"
         ],
         "xaxis": "x",
         "y": [
          128.8,
          128.4,
          131.3,
          132.8,
          132.6,
          136,
          130.4,
          130.5,
          132.1,
          131.5,
          128.8,
          131.5,
          134.5,
          133.3,
          131.4,
          130.3,
          132.2,
          129.2,
          129.3,
          130.9,
          126.1,
          126.7,
          133.6,
          132.3,
          133.8,
          132.7,
          130.1,
          136.1,
          147.8,
          142.6,
          141.1,
          140.1,
          159.9,
          451.7,
          303.7,
          247.9,
          169.2
         ],
         "yaxis": "y"
        }
       ],
       "layout": {
        "legend": {
         "itemsizing": "constant",
         "title": {
          "text": "Customer Segment"
         },
         "tracegroupgap": 0
        },
        "template": {
         "data": {
          "bar": [
           {
            "error_x": {
             "color": "#2a3f5f"
            },
            "error_y": {
             "color": "#2a3f5f"
            },
            "marker": {
             "line": {
              "color": "#E5ECF6",
              "width": 0.5
             },
             "pattern": {
              "fillmode": "overlay",
              "size": 10,
              "solidity": 0.2
             }
            },
            "type": "bar"
           }
          ],
          "barpolar": [
           {
            "marker": {
             "line": {
              "color": "#E5ECF6",
              "width": 0.5
             },
             "pattern": {
              "fillmode": "overlay",
              "size": 10,
              "solidity": 0.2
             }
            },
            "type": "barpolar"
           }
          ],
          "carpet": [
           {
            "aaxis": {
             "endlinecolor": "#2a3f5f",
             "gridcolor": "white",
             "linecolor": "white",
             "minorgridcolor": "white",
             "startlinecolor": "#2a3f5f"
            },
            "baxis": {
             "endlinecolor": "#2a3f5f",
             "gridcolor": "white",
             "linecolor": "white",
             "minorgridcolor": "white",
             "startlinecolor": "#2a3f5f"
            },
            "type": "carpet"
           }
          ],
          "choropleth": [
           {
            "colorbar": {
             "outlinewidth": 0,
             "ticks": ""
            },
            "type": "choropleth"
           }
          ],
          "contour": [
           {
            "colorbar": {
             "outlinewidth": 0,
             "ticks": ""
            },
            "colorscale": [
             [
              0,
              "#0d0887"
             ],
             [
              0.1111111111111111,
              "#46039f"
             ],
             [
              0.2222222222222222,
              "#7201a8"
             ],
             [
              0.3333333333333333,
              "#9c179e"
             ],
             [
              0.4444444444444444,
              "#bd3786"
             ],
             [
              0.5555555555555556,
              "#d8576b"
             ],
             [
              0.6666666666666666,
              "#ed7953"
             ],
             [
              0.7777777777777778,
              "#fb9f3a"
             ],
             [
              0.8888888888888888,
              "#fdca26"
             ],
             [
              1,
              "#f0f921"
             ]
            ],
            "type": "contour"
           }
          ],
          "contourcarpet": [
           {
            "colorbar": {
             "outlinewidth": 0,
             "ticks": ""
            },
            "type": "contourcarpet"
           }
          ],
          "heatmap": [
           {
            "colorbar": {
             "outlinewidth": 0,
             "ticks": ""
            },
            "colorscale": [
             [
              0,
              "#0d0887"
             ],
             [
              0.1111111111111111,
              "#46039f"
             ],
             [
              0.2222222222222222,
              "#7201a8"
             ],
             [
              0.3333333333333333,
              "#9c179e"
             ],
             [
              0.4444444444444444,
              "#bd3786"
             ],
             [
              0.5555555555555556,
              "#d8576b"
             ],
             [
              0.6666666666666666,
              "#ed7953"
             ],
             [
              0.7777777777777778,
              "#fb9f3a"
             ],
             [
              0.8888888888888888,
              "#fdca26"
             ],
             [
              1,
              "#f0f921"
             ]
            ],
            "type": "heatmap"
           }
          ],
          "heatmapgl": [
           {
            "colorbar": {
             "outlinewidth": 0,
             "ticks": ""
            },
            "colorscale": [
             [
              0,
              "#0d0887"
             ],
             [
              0.1111111111111111,
              "#46039f"
             ],
             [
              0.2222222222222222,
              "#7201a8"
             ],
             [
              0.3333333333333333,
              "#9c179e"
             ],
             [
              0.4444444444444444,
              "#bd3786"
             ],
             [
              0.5555555555555556,
              "#d8576b"
             ],
             [
              0.6666666666666666,
              "#ed7953"
             ],
             [
              0.7777777777777778,
              "#fb9f3a"
             ],
             [
              0.8888888888888888,
              "#fdca26"
             ],
             [
              1,
              "#f0f921"
             ]
            ],
            "type": "heatmapgl"
           }
          ],
          "histogram": [
           {
            "marker": {
             "pattern": {
              "fillmode": "overlay",
              "size": 10,
              "solidity": 0.2
             }
            },
            "type": "histogram"
           }
          ],
          "histogram2d": [
           {
            "colorbar": {
             "outlinewidth": 0,
             "ticks": ""
            },
            "colorscale": [
             [
              0,
              "#0d0887"
             ],
             [
              0.1111111111111111,
              "#46039f"
             ],
             [
              0.2222222222222222,
              "#7201a8"
             ],
             [
              0.3333333333333333,
              "#9c179e"
             ],
             [
              0.4444444444444444,
              "#bd3786"
             ],
             [
              0.5555555555555556,
              "#d8576b"
             ],
             [
              0.6666666666666666,
              "#ed7953"
             ],
             [
              0.7777777777777778,
              "#fb9f3a"
             ],
             [
              0.8888888888888888,
              "#fdca26"
             ],
             [
              1,
              "#f0f921"
             ]
            ],
            "type": "histogram2d"
           }
          ],
          "histogram2dcontour": [
           {
            "colorbar": {
             "outlinewidth": 0,
             "ticks": ""
            },
            "colorscale": [
             [
              0,
              "#0d0887"
             ],
             [
              0.1111111111111111,
              "#46039f"
             ],
             [
              0.2222222222222222,
              "#7201a8"
             ],
             [
              0.3333333333333333,
              "#9c179e"
             ],
             [
              0.4444444444444444,
              "#bd3786"
             ],
             [
              0.5555555555555556,
              "#d8576b"
             ],
             [
              0.6666666666666666,
              "#ed7953"
             ],
             [
              0.7777777777777778,
              "#fb9f3a"
             ],
             [
              0.8888888888888888,
              "#fdca26"
             ],
             [
              1,
              "#f0f921"
             ]
            ],
            "type": "histogram2dcontour"
           }
          ],
          "mesh3d": [
           {
            "colorbar": {
             "outlinewidth": 0,
             "ticks": ""
            },
            "type": "mesh3d"
           }
          ],
          "parcoords": [
           {
            "line": {
             "colorbar": {
              "outlinewidth": 0,
              "ticks": ""
             }
            },
            "type": "parcoords"
           }
          ],
          "pie": [
           {
            "automargin": true,
            "type": "pie"
           }
          ],
          "scatter": [
           {
            "fillpattern": {
             "fillmode": "overlay",
             "size": 10,
             "solidity": 0.2
            },
            "type": "scatter"
           }
          ],
          "scatter3d": [
           {
            "line": {
             "colorbar": {
              "outlinewidth": 0,
              "ticks": ""
             }
            },
            "marker": {
             "colorbar": {
              "outlinewidth": 0,
              "ticks": ""
             }
            },
            "type": "scatter3d"
           }
          ],
          "scattercarpet": [
           {
            "marker": {
             "colorbar": {
              "outlinewidth": 0,
              "ticks": ""
             }
            },
            "type": "scattercarpet"
           }
          ],
          "scattergeo": [
           {
            "marker": {
             "colorbar": {
              "outlinewidth": 0,
              "ticks": ""
             }
            },
            "type": "scattergeo"
           }
          ],
          "scattergl": [
           {
            "marker": {
             "colorbar": {
              "outlinewidth": 0,
              "ticks": ""
             }
            },
            "type": "scattergl"
           }
          ],
          "scattermapbox": [
           {
            "marker": {
             "colorbar": {
              "outlinewidth": 0,
              "ticks": ""
             }
            },
            "type": "scattermapbox"
           }
          ],
          "scatterpolar": [
           {
            "marker": {
             "colorbar": {
              "outlinewidth": 0,
              "ticks": ""
             }
            },
            "type": "scatterpolar"
           }
          ],
          "scatterpolargl": [
           {
            "marker": {
             "colorbar": {
              "outlinewidth": 0,
              "ticks": ""
             }
            },
            "type": "scatterpolargl"
           }
          ],
          "scatterternary": [
           {
            "marker": {
             "colorbar": {
              "outlinewidth": 0,
              "ticks": ""
             }
            },
            "type": "scatterternary"
           }
          ],
          "surface": [
           {
            "colorbar": {
             "outlinewidth": 0,
             "ticks": ""
            },
            "colorscale": [
             [
              0,
              "#0d0887"
             ],
             [
              0.1111111111111111,
              "#46039f"
             ],
             [
              0.2222222222222222,
              "#7201a8"
             ],
             [
              0.3333333333333333,
              "#9c179e"
             ],
             [
              0.4444444444444444,
              "#bd3786"
             ],
             [
              0.5555555555555556,
              "#d8576b"
             ],
             [
              0.6666666666666666,
              "#ed7953"
             ],
             [
              0.7777777777777778,
              "#fb9f3a"
             ],
             [
              0.8888888888888888,
              "#fdca26"
             ],
             [
              1,
              "#f0f921"
             ]
            ],
            "type": "surface"
           }
          ],
          "table": [
           {
            "cells": {
             "fill": {
              "color": "#EBF0F8"
             },
             "line": {
              "color": "white"
             }
            },
            "header": {
             "fill": {
              "color": "#C8D4E3"
             },
             "line": {
              "color": "white"
             }
            },
            "type": "table"
           }
          ]
         },
         "layout": {
          "annotationdefaults": {
           "arrowcolor": "#2a3f5f",
           "arrowhead": 0,
           "arrowwidth": 1
          },
          "autotypenumbers": "strict",
          "coloraxis": {
           "colorbar": {
            "outlinewidth": 0,
            "ticks": ""
           }
          },
          "colorscale": {
           "diverging": [
            [
             0,
             "#8e0152"
            ],
            [
             0.1,
             "#c51b7d"
            ],
            [
             0.2,
             "#de77ae"
            ],
            [
             0.3,
             "#f1b6da"
            ],
            [
             0.4,
             "#fde0ef"
            ],
            [
             0.5,
             "#f7f7f7"
            ],
            [
             0.6,
             "#e6f5d0"
            ],
            [
             0.7,
             "#b8e186"
            ],
            [
             0.8,
             "#7fbc41"
            ],
            [
             0.9,
             "#4d9221"
            ],
            [
             1,
             "#276419"
            ]
           ],
           "sequential": [
            [
             0,
             "#0d0887"
            ],
            [
             0.1111111111111111,
             "#46039f"
            ],
            [
             0.2222222222222222,
             "#7201a8"
            ],
            [
             0.3333333333333333,
             "#9c179e"
            ],
            [
             0.4444444444444444,
             "#bd3786"
            ],
            [
             0.5555555555555556,
             "#d8576b"
            ],
            [
             0.6666666666666666,
             "#ed7953"
            ],
            [
             0.7777777777777778,
             "#fb9f3a"
            ],
            [
             0.8888888888888888,
             "#fdca26"
            ],
            [
             1,
             "#f0f921"
            ]
           ],
           "sequentialminus": [
            [
             0,
             "#0d0887"
            ],
            [
             0.1111111111111111,
             "#46039f"
            ],
            [
             0.2222222222222222,
             "#7201a8"
            ],
            [
             0.3333333333333333,
             "#9c179e"
            ],
            [
             0.4444444444444444,
             "#bd3786"
            ],
            [
             0.5555555555555556,
             "#d8576b"
            ],
            [
             0.6666666666666666,
             "#ed7953"
            ],
            [
             0.7777777777777778,
             "#fb9f3a"
            ],
            [
             0.8888888888888888,
             "#fdca26"
            ],
            [
             1,
             "#f0f921"
            ]
           ]
          },
          "colorway": [
           "#636efa",
           "#EF553B",
           "#00cc96",
           "#ab63fa",
           "#FFA15A",
           "#19d3f3",
           "#FF6692",
           "#B6E880",
           "#FF97FF",
           "#FECB52"
          ],
          "font": {
           "color": "#2a3f5f"
          },
          "geo": {
           "bgcolor": "white",
           "lakecolor": "white",
           "landcolor": "#E5ECF6",
           "showlakes": true,
           "showland": true,
           "subunitcolor": "white"
          },
          "hoverlabel": {
           "align": "left"
          },
          "hovermode": "closest",
          "mapbox": {
           "style": "light"
          },
          "paper_bgcolor": "white",
          "plot_bgcolor": "#E5ECF6",
          "polar": {
           "angularaxis": {
            "gridcolor": "white",
            "linecolor": "white",
            "ticks": ""
           },
           "bgcolor": "#E5ECF6",
           "radialaxis": {
            "gridcolor": "white",
            "linecolor": "white",
            "ticks": ""
           }
          },
          "scene": {
           "xaxis": {
            "backgroundcolor": "#E5ECF6",
            "gridcolor": "white",
            "gridwidth": 2,
            "linecolor": "white",
            "showbackground": true,
            "ticks": "",
            "zerolinecolor": "white"
           },
           "yaxis": {
            "backgroundcolor": "#E5ECF6",
            "gridcolor": "white",
            "gridwidth": 2,
            "linecolor": "white",
            "showbackground": true,
            "ticks": "",
            "zerolinecolor": "white"
           },
           "zaxis": {
            "backgroundcolor": "#E5ECF6",
            "gridcolor": "white",
            "gridwidth": 2,
            "linecolor": "white",
            "showbackground": true,
            "ticks": "",
            "zerolinecolor": "white"
           }
          },
          "shapedefaults": {
           "line": {
            "color": "#2a3f5f"
           }
          },
          "ternary": {
           "aaxis": {
            "gridcolor": "white",
            "linecolor": "white",
            "ticks": ""
           },
           "baxis": {
            "gridcolor": "white",
            "linecolor": "white",
            "ticks": ""
           },
           "bgcolor": "#E5ECF6",
           "caxis": {
            "gridcolor": "white",
            "linecolor": "white",
            "ticks": ""
           }
          },
          "title": {
           "x": 0.05
          },
          "xaxis": {
           "automargin": true,
           "gridcolor": "white",
           "linecolor": "white",
           "ticks": "",
           "title": {
            "standoff": 15
           },
           "zerolinecolor": "white",
           "zerolinewidth": 2
          },
          "yaxis": {
           "automargin": true,
           "gridcolor": "white",
           "linecolor": "white",
           "ticks": "",
           "title": {
            "standoff": 15
           },
           "zerolinecolor": "white",
           "zerolinewidth": 2
          }
         }
        },
        "title": {
         "text": "Average Product Price by Customer Segment (Month/Year)"
        },
        "xaxis": {
         "anchor": "y",
         "domain": [
          0,
          1
         ],
         "tickmode": "array",
         "ticktext": [
          "01 2015",
          "01 2015",
          "01 2015",
          "02 2015",
          "02 2015",
          "02 2015",
          "03 2015",
          "03 2015",
          "03 2015",
          "04 2015",
          "04 2015",
          "04 2015",
          "05 2015",
          "05 2015",
          "05 2015",
          "06 2015",
          "06 2015",
          "06 2015",
          "07 2015",
          "07 2015",
          "07 2015",
          "08 2015",
          "08 2015",
          "08 2015",
          "09 2015",
          "09 2015",
          "09 2015",
          "10 2015",
          "10 2015",
          "10 2015",
          "11 2015",
          "11 2015",
          "11 2015",
          "12 2015",
          "12 2015",
          "12 2015",
          "01 2016",
          "01 2016",
          "01 2016",
          "02 2016",
          "02 2016",
          "02 2016",
          "03 2016",
          "03 2016",
          "03 2016",
          "04 2016",
          "04 2016",
          "04 2016",
          "05 2016",
          "05 2016",
          "05 2016",
          "06 2016",
          "06 2016",
          "06 2016",
          "07 2016",
          "07 2016",
          "07 2016",
          "08 2016",
          "08 2016",
          "08 2016",
          "09 2016",
          "09 2016",
          "09 2016",
          "10 2016",
          "10 2016",
          "10 2016",
          "11 2016",
          "11 2016",
          "11 2016",
          "12 2016",
          "12 2016",
          "12 2016",
          "01 2017",
          "01 2017",
          "01 2017",
          "02 2017",
          "02 2017",
          "02 2017",
          "03 2017",
          "03 2017",
          "03 2017",
          "04 2017",
          "04 2017",
          "04 2017",
          "05 2017",
          "05 2017",
          "05 2017",
          "06 2017",
          "06 2017",
          "06 2017",
          "07 2017",
          "07 2017",
          "07 2017",
          "08 2017",
          "08 2017",
          "08 2017",
          "09 2017",
          "09 2017",
          "09 2017",
          "10 2017",
          "10 2017",
          "10 2017",
          "11 2017",
          "11 2017",
          "11 2017",
          "12 2017",
          "12 2017",
          "12 2017",
          "01 2018",
          "01 2018",
          "01 2018"
         ],
         "tickvals": [
          "2015-01-01T00:00:00",
          "2015-01-01T00:00:00",
          "2015-01-01T00:00:00",
          "2015-02-01T00:00:00",
          "2015-02-01T00:00:00",
          "2015-02-01T00:00:00",
          "2015-03-01T00:00:00",
          "2015-03-01T00:00:00",
          "2015-03-01T00:00:00",
          "2015-04-01T00:00:00",
          "2015-04-01T00:00:00",
          "2015-04-01T00:00:00",
          "2015-05-01T00:00:00",
          "2015-05-01T00:00:00",
          "2015-05-01T00:00:00",
          "2015-06-01T00:00:00",
          "2015-06-01T00:00:00",
          "2015-06-01T00:00:00",
          "2015-07-01T00:00:00",
          "2015-07-01T00:00:00",
          "2015-07-01T00:00:00",
          "2015-08-01T00:00:00",
          "2015-08-01T00:00:00",
          "2015-08-01T00:00:00",
          "2015-09-01T00:00:00",
          "2015-09-01T00:00:00",
          "2015-09-01T00:00:00",
          "2015-10-01T00:00:00",
          "2015-10-01T00:00:00",
          "2015-10-01T00:00:00",
          "2015-11-01T00:00:00",
          "2015-11-01T00:00:00",
          "2015-11-01T00:00:00",
          "2015-12-01T00:00:00",
          "2015-12-01T00:00:00",
          "2015-12-01T00:00:00",
          "2016-01-01T00:00:00",
          "2016-01-01T00:00:00",
          "2016-01-01T00:00:00",
          "2016-02-01T00:00:00",
          "2016-02-01T00:00:00",
          "2016-02-01T00:00:00",
          "2016-03-01T00:00:00",
          "2016-03-01T00:00:00",
          "2016-03-01T00:00:00",
          "2016-04-01T00:00:00",
          "2016-04-01T00:00:00",
          "2016-04-01T00:00:00",
          "2016-05-01T00:00:00",
          "2016-05-01T00:00:00",
          "2016-05-01T00:00:00",
          "2016-06-01T00:00:00",
          "2016-06-01T00:00:00",
          "2016-06-01T00:00:00",
          "2016-07-01T00:00:00",
          "2016-07-01T00:00:00",
          "2016-07-01T00:00:00",
          "2016-08-01T00:00:00",
          "2016-08-01T00:00:00",
          "2016-08-01T00:00:00",
          "2016-09-01T00:00:00",
          "2016-09-01T00:00:00",
          "2016-09-01T00:00:00",
          "2016-10-01T00:00:00",
          "2016-10-01T00:00:00",
          "2016-10-01T00:00:00",
          "2016-11-01T00:00:00",
          "2016-11-01T00:00:00",
          "2016-11-01T00:00:00",
          "2016-12-01T00:00:00",
          "2016-12-01T00:00:00",
          "2016-12-01T00:00:00",
          "2017-01-01T00:00:00",
          "2017-01-01T00:00:00",
          "2017-01-01T00:00:00",
          "2017-02-01T00:00:00",
          "2017-02-01T00:00:00",
          "2017-02-01T00:00:00",
          "2017-03-01T00:00:00",
          "2017-03-01T00:00:00",
          "2017-03-01T00:00:00",
          "2017-04-01T00:00:00",
          "2017-04-01T00:00:00",
          "2017-04-01T00:00:00",
          "2017-05-01T00:00:00",
          "2017-05-01T00:00:00",
          "2017-05-01T00:00:00",
          "2017-06-01T00:00:00",
          "2017-06-01T00:00:00",
          "2017-06-01T00:00:00",
          "2017-07-01T00:00:00",
          "2017-07-01T00:00:00",
          "2017-07-01T00:00:00",
          "2017-08-01T00:00:00",
          "2017-08-01T00:00:00",
          "2017-08-01T00:00:00",
          "2017-09-01T00:00:00",
          "2017-09-01T00:00:00",
          "2017-09-01T00:00:00",
          "2017-10-01T00:00:00",
          "2017-10-01T00:00:00",
          "2017-10-01T00:00:00",
          "2017-11-01T00:00:00",
          "2017-11-01T00:00:00",
          "2017-11-01T00:00:00",
          "2017-12-01T00:00:00",
          "2017-12-01T00:00:00",
          "2017-12-01T00:00:00",
          "2018-01-01T00:00:00",
          "2018-01-01T00:00:00",
          "2018-01-01T00:00:00"
         ],
         "title": {
          "text": "Month_Year"
         },
         "type": "category"
        },
        "yaxis": {
         "anchor": "x",
         "domain": [
          0,
          1
         ],
         "title": {
          "text": "Avg Product Price"
         }
        }
       }
      }
     },
     "metadata": {},
     "output_type": "display_data"
    }
   ],
   "source": [
    "\n",
    "customer_segment_group['Month_Year'] = pd.to_datetime(customer_segment_group['Month_Year'], format='%m/%Y')\n",
    "customer_segment_group = customer_segment_group.sort_values(by=['Month_Year'])\n",
    "\n",
    "# Create the bar plot (fig1) for Total Sales by Customer Segment (Month/Year)\n",
    "fig1 = px.bar(\n",
    "    customer_segment_group, \n",
    "    x='Month_Year', \n",
    "    y='Total Sales', \n",
    "    color='Customer Segment', \n",
    "    title='Total Sales by Customer Segment (Month/Year)', \n",
    "    labels={'Total Sales': 'Total Sales'},\n",
    "    hover_data={'Total Sales': ':.1f'}\n",
    ")\n",
    "\n",
    "# Update x-axis to handle the month/year as categories\n",
    "fig1.update_xaxes(type='category', tickmode='array', tickvals=customer_segment_group['Month_Year'], ticktext=customer_segment_group['Month_Year'].dt.strftime('%m %Y'))\n",
    "\n",
    "fig1.show()\n",
    "\n",
    "# Create the scatter plot (fig2) for Average Product Price by Customer Segment (Month/Year)\n",
    "fig2 = px.scatter(\n",
    "    customer_segment_group, \n",
    "    x='Month_Year', \n",
    "    y='Average Product Price', \n",
    "    size='Average Product Price', \n",
    "    color='Customer Segment',\n",
    "    title='Average Product Price by Customer Segment (Month/Year)', \n",
    "    labels={'Average Product Price': 'Avg Product Price'},\n",
    "    hover_data={'Average Product Price': ':.1f'}\n",
    ")\n",
    "\n",
    "# Ensure x-axis is properly formatted for categorical display\n",
    "fig2.update_xaxes(type='category', tickmode='array', tickvals=customer_segment_group['Month_Year'], ticktext=customer_segment_group['Month_Year'].dt.strftime('%m %Y'))\n",
    "\n",
    "fig2.show()"
   ]
  },
  {
   "cell_type": "code",
   "execution_count": 134,
   "metadata": {},
   "outputs": [
    {
     "data": {
      "application/vnd.plotly.v1+json": {
       "config": {
        "plotlyServerURL": "https://plot.ly"
       },
       "data": [
        {
         "coloraxis": "coloraxis",
         "customdata": [
          [
           357.1000061,
           "Consumer"
          ],
          [
           252.8800049,
           "Consumer"
          ],
          [
           6804.43011114,
           "Consumer"
          ],
          [
           27277.89049537,
           "Consumer"
          ],
          [
           339945.34635847,
           "Consumer"
          ],
          [
           3015482.928029498,
           "Consumer"
          ],
          [
           165908.78313925,
           "Consumer"
          ],
          [
           124432.9521825,
           "Consumer"
          ],
          [
           64680.54107099,
           "Consumer"
          ],
          [
           32111.02065016,
           "Consumer"
          ],
          [
           624620.291917901,
           "Consumer"
          ],
          [
           232025.34446224,
           "Consumer"
          ],
          [
           116403.09236071,
           "Consumer"
          ],
          [
           8988.7302285,
           "Consumer"
          ],
          [
           27917.41061621,
           "Consumer"
          ],
          [
           820524.886104102,
           "Consumer"
          ],
          [
           61107.08123877,
           "Consumer"
          ],
          [
           53565.65088662,
           "Consumer"
          ],
          [
           45301.96079482,
           "Consumer"
          ],
          [
           107288.81209444,
           "Consumer"
          ],
          [
           179686.52314289,
           "Consumer"
          ],
          [
           271702.82516039,
           "Consumer"
          ],
          [
           366680.90701335,
           "Consumer"
          ],
          [
           94181.43175881,
           "Consumer"
          ],
          [
           160774.3632195,
           "Consumer"
          ],
          [
           12488.49017937,
           "Consumer"
          ],
          [
           195105.96360067,
           "Consumer"
          ],
          [
           28972.30052137,
           "Consumer"
          ],
          [
           330536.76621941,
           "Consumer"
          ],
          [
           111839.59233884,
           "Consumer"
          ],
          [
           153765.21308022,
           "Consumer"
          ],
          [
           1210521.682599842,
           "Consumer"
          ],
          [
           455956.18841912,
           "Consumer"
          ],
          [
           35349.20069624,
           "Consumer"
          ],
          [
           165871.033118801,
           "Consumer"
          ],
          [
           372870.71699756,
           "Consumer"
          ],
          [
           7292280.759871021,
           "Consumer"
          ],
          [
           35232.25063327,
           "Consumer"
          ],
          [
           75693.44162224,
           "Consumer"
          ],
          [
           179974.733369221,
           "Consumer"
          ],
          [
           957503.168592132,
           "Consumer"
          ],
          [
           101647.02198801,
           "Consumer"
          ],
          [
           208321.333921791,
           "Consumer"
          ],
          [
           95097.43176274,
           "Consumer"
          ],
          [
           103441.81214111,
           "Consumer"
          ],
          [
           25297.8704527,
           "Consumer"
          ]
         ],
         "geo": "geo",
         "hovertemplate": "<b>%{hovertext}</b><br><br>Customer Segment=%{customdata[1]}<br>Customer State=%{location}<br>Sales=%{z:.1f}<extra></extra>",
         "hovertext": [
          "91732",
          "95758",
          "AL",
          "AR",
          "AZ",
          "CA",
          "CO",
          "CT",
          "DC",
          "DE",
          "FL",
          "GA",
          "HI",
          "IA",
          "ID",
          "IL",
          "IN",
          "KS",
          "KY",
          "LA",
          "MA",
          "MD",
          "MI",
          "MN",
          "MO",
          "MT",
          "NC",
          "ND",
          "NJ",
          "NM",
          "NV",
          "NY",
          "OH",
          "OK",
          "OR",
          "PA",
          "PR",
          "RI",
          "SC",
          "TN",
          "TX",
          "UT",
          "VA",
          "WA",
          "WI",
          "WV"
         ],
         "locationmode": "USA-states",
         "locations": [
          "91732",
          "95758",
          "AL",
          "AR",
          "AZ",
          "CA",
          "CO",
          "CT",
          "DC",
          "DE",
          "FL",
          "GA",
          "HI",
          "IA",
          "ID",
          "IL",
          "IN",
          "KS",
          "KY",
          "LA",
          "MA",
          "MD",
          "MI",
          "MN",
          "MO",
          "MT",
          "NC",
          "ND",
          "NJ",
          "NM",
          "NV",
          "NY",
          "OH",
          "OK",
          "OR",
          "PA",
          "PR",
          "RI",
          "SC",
          "TN",
          "TX",
          "UT",
          "VA",
          "WA",
          "WI",
          "WV"
         ],
         "name": "",
         "type": "choropleth",
         "z": [
          357.1000061,
          252.8800049,
          6804.43011114,
          27277.89049537,
          339945.34635847,
          3015482.928029498,
          165908.78313925,
          124432.9521825,
          64680.54107099,
          32111.02065016,
          624620.291917901,
          232025.34446224,
          116403.09236071,
          8988.7302285,
          27917.41061621,
          820524.886104102,
          61107.08123877,
          53565.65088662,
          45301.96079482,
          107288.81209444,
          179686.52314289,
          271702.82516039,
          366680.90701335,
          94181.43175881,
          160774.3632195,
          12488.49017937,
          195105.96360067,
          28972.30052137,
          330536.76621941,
          111839.59233884,
          153765.21308022,
          1210521.682599842,
          455956.18841912,
          35349.20069624,
          165871.033118801,
          372870.71699756,
          7292280.759871021,
          35232.25063327,
          75693.44162224,
          179974.733369221,
          957503.168592132,
          101647.02198801,
          208321.333921791,
          95097.43176274,
          103441.81214111,
          25297.8704527
         ]
        }
       ],
       "frames": [
        {
         "data": [
          {
           "coloraxis": "coloraxis",
           "customdata": [
            [
             357.1000061,
             "Consumer"
            ],
            [
             252.8800049,
             "Consumer"
            ],
            [
             6804.43011114,
             "Consumer"
            ],
            [
             27277.89049537,
             "Consumer"
            ],
            [
             339945.34635847,
             "Consumer"
            ],
            [
             3015482.928029498,
             "Consumer"
            ],
            [
             165908.78313925,
             "Consumer"
            ],
            [
             124432.9521825,
             "Consumer"
            ],
            [
             64680.54107099,
             "Consumer"
            ],
            [
             32111.02065016,
             "Consumer"
            ],
            [
             624620.291917901,
             "Consumer"
            ],
            [
             232025.34446224,
             "Consumer"
            ],
            [
             116403.09236071,
             "Consumer"
            ],
            [
             8988.7302285,
             "Consumer"
            ],
            [
             27917.41061621,
             "Consumer"
            ],
            [
             820524.886104102,
             "Consumer"
            ],
            [
             61107.08123877,
             "Consumer"
            ],
            [
             53565.65088662,
             "Consumer"
            ],
            [
             45301.96079482,
             "Consumer"
            ],
            [
             107288.81209444,
             "Consumer"
            ],
            [
             179686.52314289,
             "Consumer"
            ],
            [
             271702.82516039,
             "Consumer"
            ],
            [
             366680.90701335,
             "Consumer"
            ],
            [
             94181.43175881,
             "Consumer"
            ],
            [
             160774.3632195,
             "Consumer"
            ],
            [
             12488.49017937,
             "Consumer"
            ],
            [
             195105.96360067,
             "Consumer"
            ],
            [
             28972.30052137,
             "Consumer"
            ],
            [
             330536.76621941,
             "Consumer"
            ],
            [
             111839.59233884,
             "Consumer"
            ],
            [
             153765.21308022,
             "Consumer"
            ],
            [
             1210521.682599842,
             "Consumer"
            ],
            [
             455956.18841912,
             "Consumer"
            ],
            [
             35349.20069624,
             "Consumer"
            ],
            [
             165871.033118801,
             "Consumer"
            ],
            [
             372870.71699756,
             "Consumer"
            ],
            [
             7292280.759871021,
             "Consumer"
            ],
            [
             35232.25063327,
             "Consumer"
            ],
            [
             75693.44162224,
             "Consumer"
            ],
            [
             179974.733369221,
             "Consumer"
            ],
            [
             957503.168592132,
             "Consumer"
            ],
            [
             101647.02198801,
             "Consumer"
            ],
            [
             208321.333921791,
             "Consumer"
            ],
            [
             95097.43176274,
             "Consumer"
            ],
            [
             103441.81214111,
             "Consumer"
            ],
            [
             25297.8704527,
             "Consumer"
            ]
           ],
           "geo": "geo",
           "hovertemplate": "<b>%{hovertext}</b><br><br>Customer Segment=%{customdata[1]}<br>Customer State=%{location}<br>Sales=%{z:.1f}<extra></extra>",
           "hovertext": [
            "91732",
            "95758",
            "AL",
            "AR",
            "AZ",
            "CA",
            "CO",
            "CT",
            "DC",
            "DE",
            "FL",
            "GA",
            "HI",
            "IA",
            "ID",
            "IL",
            "IN",
            "KS",
            "KY",
            "LA",
            "MA",
            "MD",
            "MI",
            "MN",
            "MO",
            "MT",
            "NC",
            "ND",
            "NJ",
            "NM",
            "NV",
            "NY",
            "OH",
            "OK",
            "OR",
            "PA",
            "PR",
            "RI",
            "SC",
            "TN",
            "TX",
            "UT",
            "VA",
            "WA",
            "WI",
            "WV"
           ],
           "locationmode": "USA-states",
           "locations": [
            "91732",
            "95758",
            "AL",
            "AR",
            "AZ",
            "CA",
            "CO",
            "CT",
            "DC",
            "DE",
            "FL",
            "GA",
            "HI",
            "IA",
            "ID",
            "IL",
            "IN",
            "KS",
            "KY",
            "LA",
            "MA",
            "MD",
            "MI",
            "MN",
            "MO",
            "MT",
            "NC",
            "ND",
            "NJ",
            "NM",
            "NV",
            "NY",
            "OH",
            "OK",
            "OR",
            "PA",
            "PR",
            "RI",
            "SC",
            "TN",
            "TX",
            "UT",
            "VA",
            "WA",
            "WI",
            "WV"
           ],
           "name": "",
           "type": "choropleth",
           "z": [
            357.1000061,
            252.8800049,
            6804.43011114,
            27277.89049537,
            339945.34635847,
            3015482.928029498,
            165908.78313925,
            124432.9521825,
            64680.54107099,
            32111.02065016,
            624620.291917901,
            232025.34446224,
            116403.09236071,
            8988.7302285,
            27917.41061621,
            820524.886104102,
            61107.08123877,
            53565.65088662,
            45301.96079482,
            107288.81209444,
            179686.52314289,
            271702.82516039,
            366680.90701335,
            94181.43175881,
            160774.3632195,
            12488.49017937,
            195105.96360067,
            28972.30052137,
            330536.76621941,
            111839.59233884,
            153765.21308022,
            1210521.682599842,
            455956.18841912,
            35349.20069624,
            165871.033118801,
            372870.71699756,
            7292280.759871021,
            35232.25063327,
            75693.44162224,
            179974.733369221,
            957503.168592132,
            101647.02198801,
            208321.333921791,
            95097.43176274,
            103441.81214111,
            25297.8704527
           ]
          }
         ],
         "name": "Consumer"
        },
        {
         "data": [
          {
           "coloraxis": "coloraxis",
           "customdata": [
            [
             39.75,
             "Corporate"
            ],
            [
             1882.43005372,
             "Corporate"
            ],
            [
             1476.980035771,
             "Corporate"
            ],
            [
             141280.67268157098,
             "Corporate"
            ],
            [
             1899611.127256441,
             "Corporate"
            ],
            [
             171871.99326462,
             "Corporate"
            ],
            [
             60844.19123077,
             "Corporate"
            ],
            [
             36097.16075849,
             "Corporate"
            ],
            [
             13202.33018873,
             "Corporate"
            ],
            [
             287907.755632361,
             "Corporate"
            ],
            [
             169240.333252771,
             "Corporate"
            ],
            [
             100909.36201306099,
             "Corporate"
            ],
            [
             2981.82006642,
             "Corporate"
            ],
            [
             1209.6200371,
             "Corporate"
            ],
            [
             435299.578314682,
             "Corporate"
            ],
            [
             33359.41059265,
             "Corporate"
            ],
            [
             34621.75071616,
             "Corporate"
            ],
            [
             37358.93078933,
             "Corporate"
            ],
            [
             64114.62131559,
             "Corporate"
            ],
            [
             95982.68178927,
             "Corporate"
            ],
            [
             137216.3125118,
             "Corporate"
            ],
            [
             258682.49485138,
             "Corporate"
            ],
            [
             42067.79079509,
             "Corporate"
            ],
            [
             68541.74128936,
             "Corporate"
            ],
            [
             5782.12012109,
             "Corporate"
            ],
            [
             136585.7026041,
             "Corporate"
            ],
            [
             13087.83016312,
             "Corporate"
            ],
            [
             198936.73367768,
             "Corporate"
            ],
            [
             57665.59106915,
             "Corporate"
            ],
            [
             81721.79132938,
             "Corporate"
            ],
            [
             702626.673315861,
             "Corporate"
            ],
            [
             256832.524782471,
             "Corporate"
            ],
            [
             10097.03019148,
             "Corporate"
            ],
            [
             105044.55197822,
             "Corporate"
            ],
            [
             245698.35475189,
             "Corporate"
            ],
            [
             4245835.110119161,
             "Corporate"
            ],
            [
             13443.29036165,
             "Corporate"
            ],
            [
             46948.00093604,
             "Corporate"
            ],
            [
             87246.9915759,
             "Corporate"
            ],
            [
             588293.63121895,
             "Corporate"
            ],
            [
             61736.12115533,
             "Corporate"
            ],
            [
             126327.22249499,
             "Corporate"
            ],
            [
             36254.33071123,
             "Corporate"
            ],
            [
             36818.21071857,
             "Corporate"
            ],
            [
             15624.19027743,
             "Corporate"
            ]
           ],
           "geo": "geo",
           "hovertemplate": "<b>%{hovertext}</b><br><br>Customer Segment=%{customdata[1]}<br>Customer State=%{location}<br>Sales=%{z:.1f}<extra></extra>",
           "hovertext": [
            "95758",
            "AL",
            "AR",
            "AZ",
            "CA",
            "CO",
            "CT",
            "DC",
            "DE",
            "FL",
            "GA",
            "HI",
            "IA",
            "ID",
            "IL",
            "IN",
            "KS",
            "KY",
            "LA",
            "MA",
            "MD",
            "MI",
            "MN",
            "MO",
            "MT",
            "NC",
            "ND",
            "NJ",
            "NM",
            "NV",
            "NY",
            "OH",
            "OK",
            "OR",
            "PA",
            "PR",
            "RI",
            "SC",
            "TN",
            "TX",
            "UT",
            "VA",
            "WA",
            "WI",
            "WV"
           ],
           "locationmode": "USA-states",
           "locations": [
            "95758",
            "AL",
            "AR",
            "AZ",
            "CA",
            "CO",
            "CT",
            "DC",
            "DE",
            "FL",
            "GA",
            "HI",
            "IA",
            "ID",
            "IL",
            "IN",
            "KS",
            "KY",
            "LA",
            "MA",
            "MD",
            "MI",
            "MN",
            "MO",
            "MT",
            "NC",
            "ND",
            "NJ",
            "NM",
            "NV",
            "NY",
            "OH",
            "OK",
            "OR",
            "PA",
            "PR",
            "RI",
            "SC",
            "TN",
            "TX",
            "UT",
            "VA",
            "WA",
            "WI",
            "WV"
           ],
           "name": "",
           "type": "choropleth",
           "z": [
            39.75,
            1882.43005372,
            1476.980035771,
            141280.67268157098,
            1899611.127256441,
            171871.99326462,
            60844.19123077,
            36097.16075849,
            13202.33018873,
            287907.755632361,
            169240.333252771,
            100909.36201306099,
            2981.82006642,
            1209.6200371,
            435299.578314682,
            33359.41059265,
            34621.75071616,
            37358.93078933,
            64114.62131559,
            95982.68178927,
            137216.3125118,
            258682.49485138,
            42067.79079509,
            68541.74128936,
            5782.12012109,
            136585.7026041,
            13087.83016312,
            198936.73367768,
            57665.59106915,
            81721.79132938,
            702626.673315861,
            256832.524782471,
            10097.03019148,
            105044.55197822,
            245698.35475189,
            4245835.110119161,
            13443.29036165,
            46948.00093604,
            87246.9915759,
            588293.63121895,
            61736.12115533,
            126327.22249499,
            36254.33071123,
            36818.21071857,
            15624.19027743
           ]
          }
         ],
         "name": "Corporate"
        },
        {
         "data": [
          {
           "coloraxis": "coloraxis",
           "customdata": [
            [
             3525.5500871,
             "Home Office"
            ],
            [
             130747.36264364,
             "Home Office"
            ],
            [
             1013939.959727922,
             "Home Office"
            ],
            [
             47525.90098198,
             "Home Office"
            ],
            [
             43357.37085973,
             "Home Office"
            ],
            [
             18146.01033581,
             "Home Office"
            ],
            [
             11417.220234,
             "Home Office"
            ],
            [
             198230.363911581,
             "Home Office"
            ],
            [
             100290.53206831,
             "Home Office"
            ],
            [
             38497.39070728,
             "Home Office"
            ],
            [
             2378.77006154,
             "Home Office"
            ],
            [
             3816.5500794199997,
             "Home Office"
            ],
            [
             305820.06584407,
             "Home Office"
            ],
            [
             22226.14040772,
             "Home Office"
            ],
            [
             7242.63012308,
             "Home Office"
            ],
            [
             18136.13040474,
             "Home Office"
            ],
            [
             21891.6603397,
             "Home Office"
            ],
            [
             53206.74108231,
             "Home Office"
            ],
            [
             80595.44152884,
             "Home Office"
            ],
            [
             157037.91326017,
             "Home Office"
            ],
            [
             9914.170133579999,
             "Home Office"
            ],
            [
             46788.3409207,
             "Home Office"
            ],
            [
             544.12001706,
             "Home Office"
            ],
            [
             69313.591435671,
             "Home Office"
            ],
            [
             1177.68002322,
             "Home Office"
            ],
            [
             124679.04246946,
             "Home Office"
            ],
            [
             26921.28046428,
             "Home Office"
            ],
            [
             63282.64118253,
             "Home Office"
            ],
            [
             388176.79750707,
             "Home Office"
            ],
            [
             120392.14231696,
             "Home Office"
            ],
            [
             3658.23006434,
             "Home Office"
            ],
            [
             65019.46130496,
             "Home Office"
            ],
            [
             153629.94280737,
             "Home Office"
            ],
            [
             2612125.899297412,
             "Home Office"
            ],
            [
             1621.27003862,
             "Home Office"
            ],
            [
             14960.19028675,
             "Home Office"
            ],
            [
             45221.21093681,
             "Home Office"
            ],
            [
             323949.29600386,
             "Home Office"
            ],
            [
             31569.53067655,
             "Home Office"
            ],
            [
             45050.49091391,
             "Home Office"
            ],
            [
             50793.73090747,
             "Home Office"
            ],
            [
             38197.79070653,
             "Home Office"
            ],
            [
             5521.46011165,
             "Home Office"
            ]
           ],
           "geo": "geo",
           "hovertemplate": "<b>%{hovertext}</b><br><br>Customer Segment=%{customdata[1]}<br>Customer State=%{location}<br>Sales=%{z:.1f}<extra></extra>",
           "hovertext": [
            "AR",
            "AZ",
            "CA",
            "CO",
            "CT",
            "DC",
            "DE",
            "FL",
            "GA",
            "HI",
            "IA",
            "ID",
            "IL",
            "IN",
            "KS",
            "KY",
            "LA",
            "MA",
            "MD",
            "MI",
            "MN",
            "MO",
            "MT",
            "NC",
            "ND",
            "NJ",
            "NM",
            "NV",
            "NY",
            "OH",
            "OK",
            "OR",
            "PA",
            "PR",
            "RI",
            "SC",
            "TN",
            "TX",
            "UT",
            "VA",
            "WA",
            "WI",
            "WV"
           ],
           "locationmode": "USA-states",
           "locations": [
            "AR",
            "AZ",
            "CA",
            "CO",
            "CT",
            "DC",
            "DE",
            "FL",
            "GA",
            "HI",
            "IA",
            "ID",
            "IL",
            "IN",
            "KS",
            "KY",
            "LA",
            "MA",
            "MD",
            "MI",
            "MN",
            "MO",
            "MT",
            "NC",
            "ND",
            "NJ",
            "NM",
            "NV",
            "NY",
            "OH",
            "OK",
            "OR",
            "PA",
            "PR",
            "RI",
            "SC",
            "TN",
            "TX",
            "UT",
            "VA",
            "WA",
            "WI",
            "WV"
           ],
           "name": "",
           "type": "choropleth",
           "z": [
            3525.5500871,
            130747.36264364,
            1013939.959727922,
            47525.90098198,
            43357.37085973,
            18146.01033581,
            11417.220234,
            198230.363911581,
            100290.53206831,
            38497.39070728,
            2378.77006154,
            3816.5500794199997,
            305820.06584407,
            22226.14040772,
            7242.63012308,
            18136.13040474,
            21891.6603397,
            53206.74108231,
            80595.44152884,
            157037.91326017,
            9914.170133579999,
            46788.3409207,
            544.12001706,
            69313.591435671,
            1177.68002322,
            124679.04246946,
            26921.28046428,
            63282.64118253,
            388176.79750707,
            120392.14231696,
            3658.23006434,
            65019.46130496,
            153629.94280737,
            2612125.899297412,
            1621.27003862,
            14960.19028675,
            45221.21093681,
            323949.29600386,
            31569.53067655,
            45050.49091391,
            50793.73090747,
            38197.79070653,
            5521.46011165
           ]
          }
         ],
         "name": "Home Office"
        }
       ],
       "layout": {
        "coloraxis": {
         "colorbar": {
          "title": {
           "text": "Sales"
          }
         },
         "colorscale": [
          [
           0,
           "#0d0887"
          ],
          [
           0.1111111111111111,
           "#46039f"
          ],
          [
           0.2222222222222222,
           "#7201a8"
          ],
          [
           0.3333333333333333,
           "#9c179e"
          ],
          [
           0.4444444444444444,
           "#bd3786"
          ],
          [
           0.5555555555555556,
           "#d8576b"
          ],
          [
           0.6666666666666666,
           "#ed7953"
          ],
          [
           0.7777777777777778,
           "#fb9f3a"
          ],
          [
           0.8888888888888888,
           "#fdca26"
          ],
          [
           1,
           "#f0f921"
          ]
         ]
        },
        "geo": {
         "center": {},
         "domain": {
          "x": [
           0,
           1
          ],
          "y": [
           0,
           1
          ]
         },
         "scope": "usa"
        },
        "legend": {
         "tracegroupgap": 0
        },
        "sliders": [
         {
          "active": 0,
          "currentvalue": {
           "prefix": "Customer Segment="
          },
          "len": 0.9,
          "pad": {
           "b": 10,
           "t": 60
          },
          "steps": [
           {
            "args": [
             [
              "Consumer"
             ],
             {
              "frame": {
               "duration": 0,
               "redraw": true
              },
              "fromcurrent": true,
              "mode": "immediate",
              "transition": {
               "duration": 0,
               "easing": "linear"
              }
             }
            ],
            "label": "Consumer",
            "method": "animate"
           },
           {
            "args": [
             [
              "Corporate"
             ],
             {
              "frame": {
               "duration": 0,
               "redraw": true
              },
              "fromcurrent": true,
              "mode": "immediate",
              "transition": {
               "duration": 0,
               "easing": "linear"
              }
             }
            ],
            "label": "Corporate",
            "method": "animate"
           },
           {
            "args": [
             [
              "Home Office"
             ],
             {
              "frame": {
               "duration": 0,
               "redraw": true
              },
              "fromcurrent": true,
              "mode": "immediate",
              "transition": {
               "duration": 0,
               "easing": "linear"
              }
             }
            ],
            "label": "Home Office",
            "method": "animate"
           }
          ],
          "x": 0.1,
          "xanchor": "left",
          "y": 0,
          "yanchor": "top"
         }
        ],
        "template": {
         "data": {
          "bar": [
           {
            "error_x": {
             "color": "#2a3f5f"
            },
            "error_y": {
             "color": "#2a3f5f"
            },
            "marker": {
             "line": {
              "color": "#E5ECF6",
              "width": 0.5
             },
             "pattern": {
              "fillmode": "overlay",
              "size": 10,
              "solidity": 0.2
             }
            },
            "type": "bar"
           }
          ],
          "barpolar": [
           {
            "marker": {
             "line": {
              "color": "#E5ECF6",
              "width": 0.5
             },
             "pattern": {
              "fillmode": "overlay",
              "size": 10,
              "solidity": 0.2
             }
            },
            "type": "barpolar"
           }
          ],
          "carpet": [
           {
            "aaxis": {
             "endlinecolor": "#2a3f5f",
             "gridcolor": "white",
             "linecolor": "white",
             "minorgridcolor": "white",
             "startlinecolor": "#2a3f5f"
            },
            "baxis": {
             "endlinecolor": "#2a3f5f",
             "gridcolor": "white",
             "linecolor": "white",
             "minorgridcolor": "white",
             "startlinecolor": "#2a3f5f"
            },
            "type": "carpet"
           }
          ],
          "choropleth": [
           {
            "colorbar": {
             "outlinewidth": 0,
             "ticks": ""
            },
            "type": "choropleth"
           }
          ],
          "contour": [
           {
            "colorbar": {
             "outlinewidth": 0,
             "ticks": ""
            },
            "colorscale": [
             [
              0,
              "#0d0887"
             ],
             [
              0.1111111111111111,
              "#46039f"
             ],
             [
              0.2222222222222222,
              "#7201a8"
             ],
             [
              0.3333333333333333,
              "#9c179e"
             ],
             [
              0.4444444444444444,
              "#bd3786"
             ],
             [
              0.5555555555555556,
              "#d8576b"
             ],
             [
              0.6666666666666666,
              "#ed7953"
             ],
             [
              0.7777777777777778,
              "#fb9f3a"
             ],
             [
              0.8888888888888888,
              "#fdca26"
             ],
             [
              1,
              "#f0f921"
             ]
            ],
            "type": "contour"
           }
          ],
          "contourcarpet": [
           {
            "colorbar": {
             "outlinewidth": 0,
             "ticks": ""
            },
            "type": "contourcarpet"
           }
          ],
          "heatmap": [
           {
            "colorbar": {
             "outlinewidth": 0,
             "ticks": ""
            },
            "colorscale": [
             [
              0,
              "#0d0887"
             ],
             [
              0.1111111111111111,
              "#46039f"
             ],
             [
              0.2222222222222222,
              "#7201a8"
             ],
             [
              0.3333333333333333,
              "#9c179e"
             ],
             [
              0.4444444444444444,
              "#bd3786"
             ],
             [
              0.5555555555555556,
              "#d8576b"
             ],
             [
              0.6666666666666666,
              "#ed7953"
             ],
             [
              0.7777777777777778,
              "#fb9f3a"
             ],
             [
              0.8888888888888888,
              "#fdca26"
             ],
             [
              1,
              "#f0f921"
             ]
            ],
            "type": "heatmap"
           }
          ],
          "heatmapgl": [
           {
            "colorbar": {
             "outlinewidth": 0,
             "ticks": ""
            },
            "colorscale": [
             [
              0,
              "#0d0887"
             ],
             [
              0.1111111111111111,
              "#46039f"
             ],
             [
              0.2222222222222222,
              "#7201a8"
             ],
             [
              0.3333333333333333,
              "#9c179e"
             ],
             [
              0.4444444444444444,
              "#bd3786"
             ],
             [
              0.5555555555555556,
              "#d8576b"
             ],
             [
              0.6666666666666666,
              "#ed7953"
             ],
             [
              0.7777777777777778,
              "#fb9f3a"
             ],
             [
              0.8888888888888888,
              "#fdca26"
             ],
             [
              1,
              "#f0f921"
             ]
            ],
            "type": "heatmapgl"
           }
          ],
          "histogram": [
           {
            "marker": {
             "pattern": {
              "fillmode": "overlay",
              "size": 10,
              "solidity": 0.2
             }
            },
            "type": "histogram"
           }
          ],
          "histogram2d": [
           {
            "colorbar": {
             "outlinewidth": 0,
             "ticks": ""
            },
            "colorscale": [
             [
              0,
              "#0d0887"
             ],
             [
              0.1111111111111111,
              "#46039f"
             ],
             [
              0.2222222222222222,
              "#7201a8"
             ],
             [
              0.3333333333333333,
              "#9c179e"
             ],
             [
              0.4444444444444444,
              "#bd3786"
             ],
             [
              0.5555555555555556,
              "#d8576b"
             ],
             [
              0.6666666666666666,
              "#ed7953"
             ],
             [
              0.7777777777777778,
              "#fb9f3a"
             ],
             [
              0.8888888888888888,
              "#fdca26"
             ],
             [
              1,
              "#f0f921"
             ]
            ],
            "type": "histogram2d"
           }
          ],
          "histogram2dcontour": [
           {
            "colorbar": {
             "outlinewidth": 0,
             "ticks": ""
            },
            "colorscale": [
             [
              0,
              "#0d0887"
             ],
             [
              0.1111111111111111,
              "#46039f"
             ],
             [
              0.2222222222222222,
              "#7201a8"
             ],
             [
              0.3333333333333333,
              "#9c179e"
             ],
             [
              0.4444444444444444,
              "#bd3786"
             ],
             [
              0.5555555555555556,
              "#d8576b"
             ],
             [
              0.6666666666666666,
              "#ed7953"
             ],
             [
              0.7777777777777778,
              "#fb9f3a"
             ],
             [
              0.8888888888888888,
              "#fdca26"
             ],
             [
              1,
              "#f0f921"
             ]
            ],
            "type": "histogram2dcontour"
           }
          ],
          "mesh3d": [
           {
            "colorbar": {
             "outlinewidth": 0,
             "ticks": ""
            },
            "type": "mesh3d"
           }
          ],
          "parcoords": [
           {
            "line": {
             "colorbar": {
              "outlinewidth": 0,
              "ticks": ""
             }
            },
            "type": "parcoords"
           }
          ],
          "pie": [
           {
            "automargin": true,
            "type": "pie"
           }
          ],
          "scatter": [
           {
            "fillpattern": {
             "fillmode": "overlay",
             "size": 10,
             "solidity": 0.2
            },
            "type": "scatter"
           }
          ],
          "scatter3d": [
           {
            "line": {
             "colorbar": {
              "outlinewidth": 0,
              "ticks": ""
             }
            },
            "marker": {
             "colorbar": {
              "outlinewidth": 0,
              "ticks": ""
             }
            },
            "type": "scatter3d"
           }
          ],
          "scattercarpet": [
           {
            "marker": {
             "colorbar": {
              "outlinewidth": 0,
              "ticks": ""
             }
            },
            "type": "scattercarpet"
           }
          ],
          "scattergeo": [
           {
            "marker": {
             "colorbar": {
              "outlinewidth": 0,
              "ticks": ""
             }
            },
            "type": "scattergeo"
           }
          ],
          "scattergl": [
           {
            "marker": {
             "colorbar": {
              "outlinewidth": 0,
              "ticks": ""
             }
            },
            "type": "scattergl"
           }
          ],
          "scattermapbox": [
           {
            "marker": {
             "colorbar": {
              "outlinewidth": 0,
              "ticks": ""
             }
            },
            "type": "scattermapbox"
           }
          ],
          "scatterpolar": [
           {
            "marker": {
             "colorbar": {
              "outlinewidth": 0,
              "ticks": ""
             }
            },
            "type": "scatterpolar"
           }
          ],
          "scatterpolargl": [
           {
            "marker": {
             "colorbar": {
              "outlinewidth": 0,
              "ticks": ""
             }
            },
            "type": "scatterpolargl"
           }
          ],
          "scatterternary": [
           {
            "marker": {
             "colorbar": {
              "outlinewidth": 0,
              "ticks": ""
             }
            },
            "type": "scatterternary"
           }
          ],
          "surface": [
           {
            "colorbar": {
             "outlinewidth": 0,
             "ticks": ""
            },
            "colorscale": [
             [
              0,
              "#0d0887"
             ],
             [
              0.1111111111111111,
              "#46039f"
             ],
             [
              0.2222222222222222,
              "#7201a8"
             ],
             [
              0.3333333333333333,
              "#9c179e"
             ],
             [
              0.4444444444444444,
              "#bd3786"
             ],
             [
              0.5555555555555556,
              "#d8576b"
             ],
             [
              0.6666666666666666,
              "#ed7953"
             ],
             [
              0.7777777777777778,
              "#fb9f3a"
             ],
             [
              0.8888888888888888,
              "#fdca26"
             ],
             [
              1,
              "#f0f921"
             ]
            ],
            "type": "surface"
           }
          ],
          "table": [
           {
            "cells": {
             "fill": {
              "color": "#EBF0F8"
             },
             "line": {
              "color": "white"
             }
            },
            "header": {
             "fill": {
              "color": "#C8D4E3"
             },
             "line": {
              "color": "white"
             }
            },
            "type": "table"
           }
          ]
         },
         "layout": {
          "annotationdefaults": {
           "arrowcolor": "#2a3f5f",
           "arrowhead": 0,
           "arrowwidth": 1
          },
          "autotypenumbers": "strict",
          "coloraxis": {
           "colorbar": {
            "outlinewidth": 0,
            "ticks": ""
           }
          },
          "colorscale": {
           "diverging": [
            [
             0,
             "#8e0152"
            ],
            [
             0.1,
             "#c51b7d"
            ],
            [
             0.2,
             "#de77ae"
            ],
            [
             0.3,
             "#f1b6da"
            ],
            [
             0.4,
             "#fde0ef"
            ],
            [
             0.5,
             "#f7f7f7"
            ],
            [
             0.6,
             "#e6f5d0"
            ],
            [
             0.7,
             "#b8e186"
            ],
            [
             0.8,
             "#7fbc41"
            ],
            [
             0.9,
             "#4d9221"
            ],
            [
             1,
             "#276419"
            ]
           ],
           "sequential": [
            [
             0,
             "#0d0887"
            ],
            [
             0.1111111111111111,
             "#46039f"
            ],
            [
             0.2222222222222222,
             "#7201a8"
            ],
            [
             0.3333333333333333,
             "#9c179e"
            ],
            [
             0.4444444444444444,
             "#bd3786"
            ],
            [
             0.5555555555555556,
             "#d8576b"
            ],
            [
             0.6666666666666666,
             "#ed7953"
            ],
            [
             0.7777777777777778,
             "#fb9f3a"
            ],
            [
             0.8888888888888888,
             "#fdca26"
            ],
            [
             1,
             "#f0f921"
            ]
           ],
           "sequentialminus": [
            [
             0,
             "#0d0887"
            ],
            [
             0.1111111111111111,
             "#46039f"
            ],
            [
             0.2222222222222222,
             "#7201a8"
            ],
            [
             0.3333333333333333,
             "#9c179e"
            ],
            [
             0.4444444444444444,
             "#bd3786"
            ],
            [
             0.5555555555555556,
             "#d8576b"
            ],
            [
             0.6666666666666666,
             "#ed7953"
            ],
            [
             0.7777777777777778,
             "#fb9f3a"
            ],
            [
             0.8888888888888888,
             "#fdca26"
            ],
            [
             1,
             "#f0f921"
            ]
           ]
          },
          "colorway": [
           "#636efa",
           "#EF553B",
           "#00cc96",
           "#ab63fa",
           "#FFA15A",
           "#19d3f3",
           "#FF6692",
           "#B6E880",
           "#FF97FF",
           "#FECB52"
          ],
          "font": {
           "color": "#2a3f5f"
          },
          "geo": {
           "bgcolor": "white",
           "lakecolor": "white",
           "landcolor": "#E5ECF6",
           "showlakes": true,
           "showland": true,
           "subunitcolor": "white"
          },
          "hoverlabel": {
           "align": "left"
          },
          "hovermode": "closest",
          "mapbox": {
           "style": "light"
          },
          "paper_bgcolor": "white",
          "plot_bgcolor": "#E5ECF6",
          "polar": {
           "angularaxis": {
            "gridcolor": "white",
            "linecolor": "white",
            "ticks": ""
           },
           "bgcolor": "#E5ECF6",
           "radialaxis": {
            "gridcolor": "white",
            "linecolor": "white",
            "ticks": ""
           }
          },
          "scene": {
           "xaxis": {
            "backgroundcolor": "#E5ECF6",
            "gridcolor": "white",
            "gridwidth": 2,
            "linecolor": "white",
            "showbackground": true,
            "ticks": "",
            "zerolinecolor": "white"
           },
           "yaxis": {
            "backgroundcolor": "#E5ECF6",
            "gridcolor": "white",
            "gridwidth": 2,
            "linecolor": "white",
            "showbackground": true,
            "ticks": "",
            "zerolinecolor": "white"
           },
           "zaxis": {
            "backgroundcolor": "#E5ECF6",
            "gridcolor": "white",
            "gridwidth": 2,
            "linecolor": "white",
            "showbackground": true,
            "ticks": "",
            "zerolinecolor": "white"
           }
          },
          "shapedefaults": {
           "line": {
            "color": "#2a3f5f"
           }
          },
          "ternary": {
           "aaxis": {
            "gridcolor": "white",
            "linecolor": "white",
            "ticks": ""
           },
           "baxis": {
            "gridcolor": "white",
            "linecolor": "white",
            "ticks": ""
           },
           "bgcolor": "#E5ECF6",
           "caxis": {
            "gridcolor": "white",
            "linecolor": "white",
            "ticks": ""
           }
          },
          "title": {
           "x": 0.05
          },
          "xaxis": {
           "automargin": true,
           "gridcolor": "white",
           "linecolor": "white",
           "ticks": "",
           "title": {
            "standoff": 15
           },
           "zerolinecolor": "white",
           "zerolinewidth": 2
          },
          "yaxis": {
           "automargin": true,
           "gridcolor": "white",
           "linecolor": "white",
           "ticks": "",
           "title": {
            "standoff": 15
           },
           "zerolinecolor": "white",
           "zerolinewidth": 2
          }
         }
        },
        "title": {
         "text": "Total Sales by Customer Segment and State"
        },
        "updatemenus": [
         {
          "buttons": [
           {
            "args": [
             null,
             {
              "frame": {
               "duration": 500,
               "redraw": true
              },
              "fromcurrent": true,
              "mode": "immediate",
              "transition": {
               "duration": 500,
               "easing": "linear"
              }
             }
            ],
            "label": "&#9654;",
            "method": "animate"
           },
           {
            "args": [
             [
              null
             ],
             {
              "frame": {
               "duration": 0,
               "redraw": true
              },
              "fromcurrent": true,
              "mode": "immediate",
              "transition": {
               "duration": 0,
               "easing": "linear"
              }
             }
            ],
            "label": "&#9724;",
            "method": "animate"
           }
          ],
          "direction": "left",
          "pad": {
           "r": 10,
           "t": 70
          },
          "showactive": false,
          "type": "buttons",
          "x": 0.1,
          "xanchor": "right",
          "y": 0,
          "yanchor": "top"
         }
        ]
       }
      }
     },
     "metadata": {},
     "output_type": "display_data"
    }
   ],
   "source": [
    "customer_segment_group = schain.groupby(['Customer Segment', 'Customer State']).agg({\n",
    "    'Sales': 'sum'  # Aggregate Sales by state and customer segment\n",
    "}).reset_index()\n",
    "\n",
    "# Create the choropleth map for total sales by state and customer segment\n",
    "fig = px.choropleth(\n",
    "    customer_segment_group, \n",
    "    locations=\"Customer State\",  # Locations corresponds to the 'Customer State' column\n",
    "    locationmode='USA-states',  # This will interpret the 'Customer State' as U.S. states\n",
    "    color=\"Sales\",  # Sales will determine the color\n",
    "    hover_name=\"Customer State\",  # Display the state name on hover\n",
    "    hover_data={\n",
    "        \"Sales\": ':.1f',  # Show the total sales on hover\n",
    "        \"Customer Segment\": True  # Display the customer segment on hover\n",
    "    },\n",
    "    title=\"Total Sales by Customer Segment and State\",  # Map title\n",
    "    color_continuous_scale=px.colors.sequential.Plasma,  # Set a color scale for sales\n",
    "    scope=\"usa\",  # Focus the map on the USA\n",
    "    animation_frame=\"Customer Segment\"  # Create animation by Customer Segment\n",
    ")\n",
    "\n",
    "# Show the interactive map\n",
    "fig.show()"
   ]
  },
  {
   "cell_type": "markdown",
   "metadata": {},
   "source": [
    "# Customer Segment Trend Analysis Conclusions\n",
    "\n",
    "## Conclusions 1  Total Sales and Trends by Segment\n",
    "\n",
    "- **Consumer Segment**: The total sales for the Consumer segment fluctuate throughout the years, peaking at around 468,440.0 in October 2017 and experiencing dips, especially in February 2017 (277,787.3). The general trend shows stable performance, with occasional spikes and drops.\n",
    "- **Corporate Segment**: The Corporate segment follows a similar pattern but with generally lower peaks and more consistent sales. Sales peaked at 340,644.3 in September 2017 but also experienced noticeable drops in December 2017 and January 2018, reflecting possible seasonal effects or other disruptions.\n",
    "- **Home Office Segment**: This segment shows a lower overall sales range, with a noticeable decline in November 2017 and December 2017. Sales were significantly lower in January 2018, with just 64,089.7, indicating potential end-of-year issues or seasonality.\n",
    "\n",
    "## Conclusion 2 Sales per Customer and Product Price\n",
    "\n",
    "- **Consumer Segment**: Average product prices in the Consumer segment hover around 130-135 but fluctuate from 124.6 in March 2015 to 168.1 in September 2017, indicating changes in the types of products sold or pricing strategies.\n",
    "- **Corporate Segment**: Prices in the Corporate segment are somewhat steady, fluctuating between 126.1 and 159.9, which suggests a consistent but slightly higher average product price compared to the Consumer segment. A notable outlier is October 2017, where the average product price reached 451.7, likely due to larger or more expensive products sold during that month.\n",
    "- **Home Office Segment**: Prices are generally consistent, ranging between 124.8 and 147.3, with a peak at 466.2 in October 2017, aligning with the trend in the other segments.\n",
    "\n",
    "## Conclusion 3 Customer Count and Product Purchases\n",
    "\n",
    "- **Consumer Segment**: The Consumer segment generally shows a high customer count (ranging from 1,400 to 1,800), correlating with a consistent number of products purchased, which typically aligns with 3,500 to 3,900 products per month.\n",
    "- **Corporate Segment**: Customer count is relatively steady, ranging from 1,400 to 1,700, but with fewer products purchased per customer in comparison to the Consumer segment. This suggests that Corporate customers might be purchasing in bulk, with fewer but larger transactions.\n",
    "- **Home Office Segment**: Customer count is lower compared to the other segments, with a range between 350 and 1,000, reflecting smaller operations or a more niche audience. Products purchased also range between 1,700 to 2,200, aligning with the lower sales volume.\n",
    "\n",
    "## Data Highlights\n",
    "### 4. Seasonality and Performance Analysis\n",
    "- **Seasonal Drops**: Across all segments, there are noticeable dips in February 2017, November 2017, and December 2017, which could be due to post-holiday lulls or seasonal buying behavior.\n",
    "- **End-of-Year Drop for Home Office**: The Home Office segment sees a significant drop in both November and December 2017, indicating either fewer customers or reduced product demand during these months, possibly due to end-of-year budget constraints or holiday season impacts.\n",
    "\n",
    "### 5. Outliers and Abnormal Data\n",
    "\n",
    "- **Consumer Segment (October 2017)**: The drastic sales spike of 468,440.0 with an average product price of 690.9 in October 2017 is an outlier and suggests a special event, promotion, or large bulk purchase that boosted sales.\n",
    "- **Corporate Segment (October 2017)**: The high average price of 451.7 in October 2017, alongside 702 customers and 776 products, indicates either premium product sales or bulk purchases during that period.\n",
    "- **Home Office Segment (October 2017)**: The October 2017 data in the Home Office segment shows an abnormal price spike of 466.2, paired with a sharp reduction in the number of customers and products purchased. This may indicate limited sales or a highly-specialized product offering in that period.\n"
   ]
  },
  {
   "cell_type": "markdown",
   "metadata": {},
   "source": [
    "### Delivery Trend Analysis"
   ]
  },
  {
   "cell_type": "code",
   "execution_count": 135,
   "metadata": {},
   "outputs": [
    {
     "data": {
      "text/html": [
       "<div>\n",
       "<style scoped>\n",
       "    .dataframe tbody tr th:only-of-type {\n",
       "        vertical-align: middle;\n",
       "    }\n",
       "\n",
       "    .dataframe tbody tr th {\n",
       "        vertical-align: top;\n",
       "    }\n",
       "\n",
       "    .dataframe thead th {\n",
       "        text-align: right;\n",
       "    }\n",
       "</style>\n",
       "<table border=\"1\" class=\"dataframe\">\n",
       "  <thead>\n",
       "    <tr style=\"text-align: right;\">\n",
       "      <th></th>\n",
       "      <th>Delivery Status_</th>\n",
       "      <th>Sales_sum</th>\n",
       "      <th>Days for shipping (real)_mean</th>\n",
       "      <th>Days for shipping (real)_min</th>\n",
       "      <th>Days for shipping (real)_max</th>\n",
       "      <th>Days for shipment (scheduled)_mean</th>\n",
       "      <th>Days for shipment (scheduled)_min</th>\n",
       "      <th>Days for shipment (scheduled)_max</th>\n",
       "      <th>SUSPECTED_FRAUD_sum</th>\n",
       "      <th>Order Status_count</th>\n",
       "      <th>% Suspected Fraud</th>\n",
       "    </tr>\n",
       "  </thead>\n",
       "  <tbody>\n",
       "    <tr>\n",
       "      <th>0</th>\n",
       "      <td>Advance shipping</td>\n",
       "      <td>8.518008e+06</td>\n",
       "      <td>2.498149</td>\n",
       "      <td>2</td>\n",
       "      <td>3</td>\n",
       "      <td>4.000000</td>\n",
       "      <td>4</td>\n",
       "      <td>4</td>\n",
       "      <td>0</td>\n",
       "      <td>41592</td>\n",
       "      <td>0.000000</td>\n",
       "    </tr>\n",
       "    <tr>\n",
       "      <th>1</th>\n",
       "      <td>Late delivery</td>\n",
       "      <td>2.012640e+07</td>\n",
       "      <td>4.089253</td>\n",
       "      <td>1</td>\n",
       "      <td>6</td>\n",
       "      <td>2.471069</td>\n",
       "      <td>0</td>\n",
       "      <td>4</td>\n",
       "      <td>0</td>\n",
       "      <td>98977</td>\n",
       "      <td>0.000000</td>\n",
       "    </tr>\n",
       "    <tr>\n",
       "      <th>2</th>\n",
       "      <td>Shipping canceled</td>\n",
       "      <td>1.570305e+06</td>\n",
       "      <td>3.476657</td>\n",
       "      <td>0</td>\n",
       "      <td>6</td>\n",
       "      <td>2.903921</td>\n",
       "      <td>0</td>\n",
       "      <td>4</td>\n",
       "      <td>4062</td>\n",
       "      <td>7754</td>\n",
       "      <td>52.385865</td>\n",
       "    </tr>\n",
       "    <tr>\n",
       "      <th>3</th>\n",
       "      <td>Shipping on time</td>\n",
       "      <td>6.570026e+06</td>\n",
       "      <td>2.975214</td>\n",
       "      <td>0</td>\n",
       "      <td>4</td>\n",
       "      <td>2.975214</td>\n",
       "      <td>0</td>\n",
       "      <td>4</td>\n",
       "      <td>0</td>\n",
       "      <td>32196</td>\n",
       "      <td>0.000000</td>\n",
       "    </tr>\n",
       "  </tbody>\n",
       "</table>\n",
       "</div>"
      ],
      "text/plain": [
       "    Delivery Status_     Sales_sum  Days for shipping (real)_mean  \\\n",
       "0   Advance shipping  8.518008e+06                       2.498149   \n",
       "1      Late delivery  2.012640e+07                       4.089253   \n",
       "2  Shipping canceled  1.570305e+06                       3.476657   \n",
       "3   Shipping on time  6.570026e+06                       2.975214   \n",
       "\n",
       "   Days for shipping (real)_min  Days for shipping (real)_max  \\\n",
       "0                             2                             3   \n",
       "1                             1                             6   \n",
       "2                             0                             6   \n",
       "3                             0                             4   \n",
       "\n",
       "   Days for shipment (scheduled)_mean  Days for shipment (scheduled)_min  \\\n",
       "0                            4.000000                                  4   \n",
       "1                            2.471069                                  0   \n",
       "2                            2.903921                                  0   \n",
       "3                            2.975214                                  0   \n",
       "\n",
       "   Days for shipment (scheduled)_max  SUSPECTED_FRAUD_sum  Order Status_count  \\\n",
       "0                                  4                    0               41592   \n",
       "1                                  4                    0               98977   \n",
       "2                                  4                 4062                7754   \n",
       "3                                  4                    0               32196   \n",
       "\n",
       "   % Suspected Fraud  \n",
       "0           0.000000  \n",
       "1           0.000000  \n",
       "2          52.385865  \n",
       "3           0.000000  "
      ]
     },
     "execution_count": 135,
     "metadata": {},
     "output_type": "execute_result"
    }
   ],
   "source": [
    "# Group by Delivery Status and calculate summary statistics\n",
    "delivery_status_summary = schain.groupby('Delivery Status').agg({\n",
    "    'Sales': 'sum',\n",
    "    'Days for shipping (real)': ['mean','min', 'max'],\n",
    "    'Days for shipment (scheduled)': ['mean','min', 'max'],\n",
    "    'SUSPECTED_FRAUD': 'sum',\n",
    "    'Order Status': 'count'\n",
    "}).reset_index()\n",
    "\n",
    "delivery_status_summary.columns = ['_'.join(col).strip() if isinstance(col, tuple) else col for col in delivery_status_summary.columns.values]\n",
    "\n",
    "delivery_status_summary['% Suspected Fraud'] = (delivery_status_summary['SUSPECTED_FRAUD_sum'] / delivery_status_summary['Order Status_count']) * 100\n",
    "\n",
    "delivery_status_summary"
   ]
  },
  {
   "cell_type": "code",
   "execution_count": 136,
   "metadata": {},
   "outputs": [
    {
     "data": {
      "image/png": "[encoded data removed]",
      "text/plain": [
       "<Figure size 1200x600 with 2 Axes>"
      ]
     },
     "metadata": {},
     "output_type": "display_data"
    }
   ],
   "source": [
    "fig, ax1 = plt.subplots(figsize=(12, 6))\n",
    "\n",
    "# Plotting Sales sum\n",
    "sns.barplot(data=delivery_status_summary, x='Delivery Status_', y='Sales_sum', ax=ax1, color='b', alpha=0.6, label='Sales Sum')\n",
    "ax1.set_ylabel('Sales Sum', color='b')\n",
    "ax1.set_xlabel('Delivery Status')\n",
    "ax1.tick_params(axis='y', labelcolor='b')\n",
    "\n",
    "# Create a secondary y-axis for Days for shipping and % Suspected Fraud\n",
    "ax2 = ax1.twinx()\n",
    "\n",
    "# Plotting Days for shipping (real)_mean\n",
    "sns.lineplot(data=delivery_status_summary, x='Delivery Status_', y='Days for shipping (real)_mean', ax=ax2, color='g', marker='o', label='Days for Shipping (Real) Mean', linewidth=2)\n",
    "# Plotting Days for shipment (scheduled)_mean\n",
    "sns.lineplot(data=delivery_status_summary, x='Delivery Status_', y='Days for shipment (scheduled)_mean', ax=ax2, color='orange', marker='o', label='Days for Shipment (Scheduled) Mean', linewidth=2)\n",
    "\n",
    "# Plotting % Suspected Fraud\n",
    "sns.lineplot(data=delivery_status_summary, x='Delivery Status_', y='% Suspected Fraud', ax=ax2, color='r', marker='o', label='% Suspected Fraud', linewidth=2)\n",
    "\n",
    "ax2.set_ylabel('Days / % Suspected Fraud', color='r')\n",
    "ax2.tick_params(axis='y', labelcolor='r')\n",
    "\n",
    "# Rotate x-axis labels vertically\n",
    "plt.xticks(rotation=45)\n",
    "\n",
    "# Title and layout adjustments\n",
    "plt.title('Sales, Shipping Days, and Suspected Fraud by Delivery Status')\n",
    "plt.tight_layout()\n",
    "\n",
    "# Show the plot\n",
    "plt.show()"
   ]
  },
  {
   "cell_type": "code",
   "execution_count": 137,
   "metadata": {},
   "outputs": [
    {
     "data": {
      "text/html": [
       "<div>\n",
       "<style scoped>\n",
       "    .dataframe tbody tr th:only-of-type {\n",
       "        vertical-align: middle;\n",
       "    }\n",
       "\n",
       "    .dataframe tbody tr th {\n",
       "        vertical-align: top;\n",
       "    }\n",
       "\n",
       "    .dataframe thead tr th {\n",
       "        text-align: left;\n",
       "    }\n",
       "</style>\n",
       "<table border=\"1\" class=\"dataframe\">\n",
       "  <thead>\n",
       "    <tr>\n",
       "      <th></th>\n",
       "      <th>Category Name</th>\n",
       "      <th colspan=\"4\" halign=\"left\">Sales</th>\n",
       "      <th colspan=\"3\" halign=\"left\">Days for shipping (real)</th>\n",
       "      <th colspan=\"3\" halign=\"left\">Days for shipment (scheduled)</th>\n",
       "      <th>SUSPECTED_FRAUD</th>\n",
       "      <th>Order Status</th>\n",
       "    </tr>\n",
       "    <tr>\n",
       "      <th></th>\n",
       "      <th></th>\n",
       "      <th>mean</th>\n",
       "      <th>sum</th>\n",
       "      <th>min</th>\n",
       "      <th>max</th>\n",
       "      <th>mean</th>\n",
       "      <th>min</th>\n",
       "      <th>max</th>\n",
       "      <th>mean</th>\n",
       "      <th>min</th>\n",
       "      <th>max</th>\n",
       "      <th>sum</th>\n",
       "      <th>count</th>\n",
       "    </tr>\n",
       "  </thead>\n",
       "  <tbody>\n",
       "    <tr>\n",
       "      <th>0</th>\n",
       "      <td>Accessories</td>\n",
       "      <td>75.096353</td>\n",
       "      <td>1.336715e+05</td>\n",
       "      <td>24.990000</td>\n",
       "      <td>124.949997</td>\n",
       "      <td>3.498315</td>\n",
       "      <td>0</td>\n",
       "      <td>6</td>\n",
       "      <td>2.908989</td>\n",
       "      <td>0</td>\n",
       "      <td>4</td>\n",
       "      <td>44</td>\n",
       "      <td>1780</td>\n",
       "    </tr>\n",
       "    <tr>\n",
       "      <th>1</th>\n",
       "      <td>As Seen on  TV!</td>\n",
       "      <td>302.910882</td>\n",
       "      <td>2.059794e+04</td>\n",
       "      <td>99.989998</td>\n",
       "      <td>499.950012</td>\n",
       "      <td>3.632353</td>\n",
       "      <td>0</td>\n",
       "      <td>6</td>\n",
       "      <td>2.970588</td>\n",
       "      <td>0</td>\n",
       "      <td>4</td>\n",
       "      <td>0</td>\n",
       "      <td>68</td>\n",
       "    </tr>\n",
       "    <tr>\n",
       "      <th>2</th>\n",
       "      <td>Baby</td>\n",
       "      <td>59.080002</td>\n",
       "      <td>1.222956e+04</td>\n",
       "      <td>59.080002</td>\n",
       "      <td>59.080002</td>\n",
       "      <td>3.149758</td>\n",
       "      <td>0</td>\n",
       "      <td>6</td>\n",
       "      <td>2.705314</td>\n",
       "      <td>0</td>\n",
       "      <td>4</td>\n",
       "      <td>6</td>\n",
       "      <td>207</td>\n",
       "    </tr>\n",
       "    <tr>\n",
       "      <th>3</th>\n",
       "      <td>Baseball &amp; Softball</td>\n",
       "      <td>148.824608</td>\n",
       "      <td>9.405715e+04</td>\n",
       "      <td>34.990002</td>\n",
       "      <td>299.950012</td>\n",
       "      <td>3.474684</td>\n",
       "      <td>0</td>\n",
       "      <td>6</td>\n",
       "      <td>2.890823</td>\n",
       "      <td>0</td>\n",
       "      <td>4</td>\n",
       "      <td>11</td>\n",
       "      <td>632</td>\n",
       "    </tr>\n",
       "    <tr>\n",
       "      <th>4</th>\n",
       "      <td>Basketball</td>\n",
       "      <td>404.467602</td>\n",
       "      <td>2.709933e+04</td>\n",
       "      <td>299.989990</td>\n",
       "      <td>999.989990</td>\n",
       "      <td>3.462687</td>\n",
       "      <td>2</td>\n",
       "      <td>6</td>\n",
       "      <td>2.985075</td>\n",
       "      <td>1</td>\n",
       "      <td>4</td>\n",
       "      <td>3</td>\n",
       "      <td>67</td>\n",
       "    </tr>\n",
       "    <tr>\n",
       "      <th>5</th>\n",
       "      <td>Books</td>\n",
       "      <td>31.080000</td>\n",
       "      <td>1.258740e+04</td>\n",
       "      <td>31.080000</td>\n",
       "      <td>31.080000</td>\n",
       "      <td>3.390123</td>\n",
       "      <td>0</td>\n",
       "      <td>6</td>\n",
       "      <td>2.856790</td>\n",
       "      <td>0</td>\n",
       "      <td>4</td>\n",
       "      <td>11</td>\n",
       "      <td>405</td>\n",
       "    </tr>\n",
       "    <tr>\n",
       "      <th>6</th>\n",
       "      <td>Boxing &amp; MMA</td>\n",
       "      <td>201.431232</td>\n",
       "      <td>8.520541e+04</td>\n",
       "      <td>54.970001</td>\n",
       "      <td>474.950012</td>\n",
       "      <td>3.468085</td>\n",
       "      <td>0</td>\n",
       "      <td>6</td>\n",
       "      <td>2.801418</td>\n",
       "      <td>0</td>\n",
       "      <td>4</td>\n",
       "      <td>12</td>\n",
       "      <td>423</td>\n",
       "    </tr>\n",
       "    <tr>\n",
       "      <th>7</th>\n",
       "      <td>CDs</td>\n",
       "      <td>11.290000</td>\n",
       "      <td>3.059590e+03</td>\n",
       "      <td>11.290000</td>\n",
       "      <td>11.290000</td>\n",
       "      <td>3.453875</td>\n",
       "      <td>0</td>\n",
       "      <td>6</td>\n",
       "      <td>2.992620</td>\n",
       "      <td>0</td>\n",
       "      <td>4</td>\n",
       "      <td>5</td>\n",
       "      <td>271</td>\n",
       "    </tr>\n",
       "    <tr>\n",
       "      <th>8</th>\n",
       "      <td>Cameras</td>\n",
       "      <td>452.040008</td>\n",
       "      <td>2.676077e+05</td>\n",
       "      <td>452.040008</td>\n",
       "      <td>452.040008</td>\n",
       "      <td>3.337838</td>\n",
       "      <td>0</td>\n",
       "      <td>6</td>\n",
       "      <td>2.692568</td>\n",
       "      <td>0</td>\n",
       "      <td>4</td>\n",
       "      <td>16</td>\n",
       "      <td>592</td>\n",
       "    </tr>\n",
       "    <tr>\n",
       "      <th>9</th>\n",
       "      <td>Camping &amp; Hiking</td>\n",
       "      <td>299.980011</td>\n",
       "      <td>4.118426e+06</td>\n",
       "      <td>299.980011</td>\n",
       "      <td>299.980011</td>\n",
       "      <td>3.498215</td>\n",
       "      <td>0</td>\n",
       "      <td>6</td>\n",
       "      <td>2.946828</td>\n",
       "      <td>0</td>\n",
       "      <td>4</td>\n",
       "      <td>305</td>\n",
       "      <td>13729</td>\n",
       "    </tr>\n",
       "    <tr>\n",
       "      <th>10</th>\n",
       "      <td>Cardio Equipment</td>\n",
       "      <td>295.895187</td>\n",
       "      <td>3.694843e+06</td>\n",
       "      <td>30.000000</td>\n",
       "      <td>499.950012</td>\n",
       "      <td>3.495235</td>\n",
       "      <td>0</td>\n",
       "      <td>6</td>\n",
       "      <td>2.940899</td>\n",
       "      <td>0</td>\n",
       "      <td>4</td>\n",
       "      <td>276</td>\n",
       "      <td>12487</td>\n",
       "    </tr>\n",
       "    <tr>\n",
       "      <th>11</th>\n",
       "      <td>Children's Clothing</td>\n",
       "      <td>357.100006</td>\n",
       "      <td>2.328292e+05</td>\n",
       "      <td>357.100006</td>\n",
       "      <td>357.100006</td>\n",
       "      <td>3.607362</td>\n",
       "      <td>0</td>\n",
       "      <td>6</td>\n",
       "      <td>3.027607</td>\n",
       "      <td>0</td>\n",
       "      <td>4</td>\n",
       "      <td>18</td>\n",
       "      <td>652</td>\n",
       "    </tr>\n",
       "    <tr>\n",
       "      <th>12</th>\n",
       "      <td>Cleats</td>\n",
       "      <td>180.519848</td>\n",
       "      <td>4.431943e+06</td>\n",
       "      <td>59.990002</td>\n",
       "      <td>299.989990</td>\n",
       "      <td>3.506578</td>\n",
       "      <td>0</td>\n",
       "      <td>6</td>\n",
       "      <td>2.929616</td>\n",
       "      <td>0</td>\n",
       "      <td>4</td>\n",
       "      <td>560</td>\n",
       "      <td>24551</td>\n",
       "    </tr>\n",
       "    <tr>\n",
       "      <th>13</th>\n",
       "      <td>Computers</td>\n",
       "      <td>1500.000000</td>\n",
       "      <td>6.630000e+05</td>\n",
       "      <td>1500.000000</td>\n",
       "      <td>1500.000000</td>\n",
       "      <td>3.615385</td>\n",
       "      <td>0</td>\n",
       "      <td>6</td>\n",
       "      <td>3.160633</td>\n",
       "      <td>0</td>\n",
       "      <td>4</td>\n",
       "      <td>11</td>\n",
       "      <td>442</td>\n",
       "    </tr>\n",
       "    <tr>\n",
       "      <th>14</th>\n",
       "      <td>Consumer Electronics</td>\n",
       "      <td>252.880005</td>\n",
       "      <td>1.089913e+05</td>\n",
       "      <td>252.880005</td>\n",
       "      <td>252.880005</td>\n",
       "      <td>3.431555</td>\n",
       "      <td>0</td>\n",
       "      <td>6</td>\n",
       "      <td>2.793503</td>\n",
       "      <td>0</td>\n",
       "      <td>4</td>\n",
       "      <td>5</td>\n",
       "      <td>431</td>\n",
       "    </tr>\n",
       "    <tr>\n",
       "      <th>15</th>\n",
       "      <td>Crafts</td>\n",
       "      <td>461.480011</td>\n",
       "      <td>2.233563e+05</td>\n",
       "      <td>461.480011</td>\n",
       "      <td>461.480011</td>\n",
       "      <td>3.578512</td>\n",
       "      <td>0</td>\n",
       "      <td>6</td>\n",
       "      <td>2.944215</td>\n",
       "      <td>0</td>\n",
       "      <td>4</td>\n",
       "      <td>12</td>\n",
       "      <td>484</td>\n",
       "    </tr>\n",
       "    <tr>\n",
       "      <th>16</th>\n",
       "      <td>DVDs</td>\n",
       "      <td>164.380005</td>\n",
       "      <td>7.939554e+04</td>\n",
       "      <td>164.380005</td>\n",
       "      <td>164.380005</td>\n",
       "      <td>3.643892</td>\n",
       "      <td>0</td>\n",
       "      <td>6</td>\n",
       "      <td>3.113872</td>\n",
       "      <td>0</td>\n",
       "      <td>4</td>\n",
       "      <td>16</td>\n",
       "      <td>483</td>\n",
       "    </tr>\n",
       "    <tr>\n",
       "      <th>17</th>\n",
       "      <td>Electronics</td>\n",
       "      <td>117.564843</td>\n",
       "      <td>3.710346e+05</td>\n",
       "      <td>27.990000</td>\n",
       "      <td>259.950012</td>\n",
       "      <td>3.494930</td>\n",
       "      <td>0</td>\n",
       "      <td>6</td>\n",
       "      <td>2.923004</td>\n",
       "      <td>0</td>\n",
       "      <td>4</td>\n",
       "      <td>77</td>\n",
       "      <td>3156</td>\n",
       "    </tr>\n",
       "    <tr>\n",
       "      <th>18</th>\n",
       "      <td>Fishing</td>\n",
       "      <td>399.980011</td>\n",
       "      <td>6.929654e+06</td>\n",
       "      <td>399.980011</td>\n",
       "      <td>399.980011</td>\n",
       "      <td>3.502049</td>\n",
       "      <td>0</td>\n",
       "      <td>6</td>\n",
       "      <td>2.946898</td>\n",
       "      <td>0</td>\n",
       "      <td>4</td>\n",
       "      <td>394</td>\n",
       "      <td>17325</td>\n",
       "    </tr>\n",
       "    <tr>\n",
       "      <th>19</th>\n",
       "      <td>Fitness Accessories</td>\n",
       "      <td>115.215018</td>\n",
       "      <td>3.560144e+04</td>\n",
       "      <td>34.990002</td>\n",
       "      <td>599.989990</td>\n",
       "      <td>3.572816</td>\n",
       "      <td>0</td>\n",
       "      <td>6</td>\n",
       "      <td>2.957929</td>\n",
       "      <td>0</td>\n",
       "      <td>4</td>\n",
       "      <td>6</td>\n",
       "      <td>309</td>\n",
       "    </tr>\n",
       "    <tr>\n",
       "      <th>20</th>\n",
       "      <td>Garden</td>\n",
       "      <td>532.580017</td>\n",
       "      <td>2.577687e+05</td>\n",
       "      <td>532.580017</td>\n",
       "      <td>532.580017</td>\n",
       "      <td>3.497934</td>\n",
       "      <td>0</td>\n",
       "      <td>6</td>\n",
       "      <td>2.948347</td>\n",
       "      <td>0</td>\n",
       "      <td>4</td>\n",
       "      <td>10</td>\n",
       "      <td>484</td>\n",
       "    </tr>\n",
       "    <tr>\n",
       "      <th>21</th>\n",
       "      <td>Girls' Apparel</td>\n",
       "      <td>126.316570</td>\n",
       "      <td>1.517062e+05</td>\n",
       "      <td>25.000000</td>\n",
       "      <td>350.000000</td>\n",
       "      <td>3.507910</td>\n",
       "      <td>0</td>\n",
       "      <td>6</td>\n",
       "      <td>2.922565</td>\n",
       "      <td>0</td>\n",
       "      <td>4</td>\n",
       "      <td>35</td>\n",
       "      <td>1201</td>\n",
       "    </tr>\n",
       "    <tr>\n",
       "      <th>22</th>\n",
       "      <td>Golf Apparel</td>\n",
       "      <td>79.296485</td>\n",
       "      <td>3.496975e+04</td>\n",
       "      <td>19.990000</td>\n",
       "      <td>129.990005</td>\n",
       "      <td>3.530612</td>\n",
       "      <td>0</td>\n",
       "      <td>6</td>\n",
       "      <td>3.056689</td>\n",
       "      <td>0</td>\n",
       "      <td>4</td>\n",
       "      <td>6</td>\n",
       "      <td>441</td>\n",
       "    </tr>\n",
       "    <tr>\n",
       "      <th>23</th>\n",
       "      <td>Golf Bags &amp; Carts</td>\n",
       "      <td>169.990005</td>\n",
       "      <td>1.036939e+04</td>\n",
       "      <td>169.990005</td>\n",
       "      <td>169.990005</td>\n",
       "      <td>3.344262</td>\n",
       "      <td>1</td>\n",
       "      <td>6</td>\n",
       "      <td>2.573770</td>\n",
       "      <td>0</td>\n",
       "      <td>4</td>\n",
       "      <td>0</td>\n",
       "      <td>61</td>\n",
       "    </tr>\n",
       "    <tr>\n",
       "      <th>24</th>\n",
       "      <td>Golf Balls</td>\n",
       "      <td>52.269938</td>\n",
       "      <td>7.709816e+04</td>\n",
       "      <td>14.990000</td>\n",
       "      <td>99.949997</td>\n",
       "      <td>3.508475</td>\n",
       "      <td>0</td>\n",
       "      <td>6</td>\n",
       "      <td>2.960678</td>\n",
       "      <td>0</td>\n",
       "      <td>4</td>\n",
       "      <td>33</td>\n",
       "      <td>1475</td>\n",
       "    </tr>\n",
       "    <tr>\n",
       "      <th>25</th>\n",
       "      <td>Golf Gloves</td>\n",
       "      <td>109.061113</td>\n",
       "      <td>1.166954e+05</td>\n",
       "      <td>9.990000</td>\n",
       "      <td>399.950012</td>\n",
       "      <td>3.552336</td>\n",
       "      <td>0</td>\n",
       "      <td>6</td>\n",
       "      <td>2.936449</td>\n",
       "      <td>0</td>\n",
       "      <td>4</td>\n",
       "      <td>22</td>\n",
       "      <td>1070</td>\n",
       "    </tr>\n",
       "    <tr>\n",
       "      <th>26</th>\n",
       "      <td>Golf Shoes</td>\n",
       "      <td>206.103053</td>\n",
       "      <td>1.079980e+05</td>\n",
       "      <td>65.000000</td>\n",
       "      <td>500.000000</td>\n",
       "      <td>3.467557</td>\n",
       "      <td>0</td>\n",
       "      <td>6</td>\n",
       "      <td>2.889313</td>\n",
       "      <td>0</td>\n",
       "      <td>4</td>\n",
       "      <td>10</td>\n",
       "      <td>524</td>\n",
       "    </tr>\n",
       "    <tr>\n",
       "      <th>27</th>\n",
       "      <td>Health and Beauty</td>\n",
       "      <td>293.040008</td>\n",
       "      <td>1.060805e+05</td>\n",
       "      <td>293.040008</td>\n",
       "      <td>293.040008</td>\n",
       "      <td>3.458564</td>\n",
       "      <td>0</td>\n",
       "      <td>6</td>\n",
       "      <td>2.925414</td>\n",
       "      <td>0</td>\n",
       "      <td>4</td>\n",
       "      <td>11</td>\n",
       "      <td>362</td>\n",
       "    </tr>\n",
       "    <tr>\n",
       "      <th>28</th>\n",
       "      <td>Hockey</td>\n",
       "      <td>78.763403</td>\n",
       "      <td>4.836073e+04</td>\n",
       "      <td>22.000000</td>\n",
       "      <td>329.989990</td>\n",
       "      <td>3.420195</td>\n",
       "      <td>0</td>\n",
       "      <td>6</td>\n",
       "      <td>2.951140</td>\n",
       "      <td>0</td>\n",
       "      <td>4</td>\n",
       "      <td>12</td>\n",
       "      <td>614</td>\n",
       "    </tr>\n",
       "    <tr>\n",
       "      <th>29</th>\n",
       "      <td>Hunting &amp; Shooting</td>\n",
       "      <td>129.200955</td>\n",
       "      <td>5.684842e+04</td>\n",
       "      <td>29.990000</td>\n",
       "      <td>495.000000</td>\n",
       "      <td>3.427273</td>\n",
       "      <td>0</td>\n",
       "      <td>6</td>\n",
       "      <td>2.865909</td>\n",
       "      <td>0</td>\n",
       "      <td>4</td>\n",
       "      <td>9</td>\n",
       "      <td>440</td>\n",
       "    </tr>\n",
       "    <tr>\n",
       "      <th>30</th>\n",
       "      <td>Indoor/Outdoor Games</td>\n",
       "      <td>149.704317</td>\n",
       "      <td>2.888994e+06</td>\n",
       "      <td>49.980000</td>\n",
       "      <td>249.899994</td>\n",
       "      <td>3.495751</td>\n",
       "      <td>0</td>\n",
       "      <td>6</td>\n",
       "      <td>2.931029</td>\n",
       "      <td>0</td>\n",
       "      <td>4</td>\n",
       "      <td>439</td>\n",
       "      <td>19298</td>\n",
       "    </tr>\n",
       "    <tr>\n",
       "      <th>31</th>\n",
       "      <td>Kids' Golf Clubs</td>\n",
       "      <td>257.285363</td>\n",
       "      <td>9.879758e+04</td>\n",
       "      <td>89.989998</td>\n",
       "      <td>599.989990</td>\n",
       "      <td>3.632812</td>\n",
       "      <td>0</td>\n",
       "      <td>6</td>\n",
       "      <td>3.013021</td>\n",
       "      <td>0</td>\n",
       "      <td>4</td>\n",
       "      <td>13</td>\n",
       "      <td>384</td>\n",
       "    </tr>\n",
       "    <tr>\n",
       "      <th>32</th>\n",
       "      <td>Lacrosse</td>\n",
       "      <td>115.057696</td>\n",
       "      <td>3.946479e+04</td>\n",
       "      <td>24.990000</td>\n",
       "      <td>499.950012</td>\n",
       "      <td>3.618076</td>\n",
       "      <td>0</td>\n",
       "      <td>6</td>\n",
       "      <td>2.959184</td>\n",
       "      <td>0</td>\n",
       "      <td>4</td>\n",
       "      <td>8</td>\n",
       "      <td>343</td>\n",
       "    </tr>\n",
       "    <tr>\n",
       "      <th>33</th>\n",
       "      <td>Men's Clothing</td>\n",
       "      <td>210.850006</td>\n",
       "      <td>4.385680e+04</td>\n",
       "      <td>210.850006</td>\n",
       "      <td>210.850006</td>\n",
       "      <td>3.423077</td>\n",
       "      <td>0</td>\n",
       "      <td>6</td>\n",
       "      <td>2.908654</td>\n",
       "      <td>0</td>\n",
       "      <td>4</td>\n",
       "      <td>5</td>\n",
       "      <td>208</td>\n",
       "    </tr>\n",
       "    <tr>\n",
       "      <th>34</th>\n",
       "      <td>Men's Footwear</td>\n",
       "      <td>129.990005</td>\n",
       "      <td>2.891758e+06</td>\n",
       "      <td>129.990005</td>\n",
       "      <td>129.990005</td>\n",
       "      <td>3.501259</td>\n",
       "      <td>0</td>\n",
       "      <td>6</td>\n",
       "      <td>2.937067</td>\n",
       "      <td>0</td>\n",
       "      <td>4</td>\n",
       "      <td>516</td>\n",
       "      <td>22246</td>\n",
       "    </tr>\n",
       "    <tr>\n",
       "      <th>35</th>\n",
       "      <td>Men's Golf Clubs</td>\n",
       "      <td>166.204242</td>\n",
       "      <td>4.703580e+04</td>\n",
       "      <td>99.989998</td>\n",
       "      <td>499.950012</td>\n",
       "      <td>3.445230</td>\n",
       "      <td>0</td>\n",
       "      <td>6</td>\n",
       "      <td>3.120141</td>\n",
       "      <td>0</td>\n",
       "      <td>4</td>\n",
       "      <td>5</td>\n",
       "      <td>283</td>\n",
       "    </tr>\n",
       "    <tr>\n",
       "      <th>36</th>\n",
       "      <td>Music</td>\n",
       "      <td>260.649994</td>\n",
       "      <td>1.131221e+05</td>\n",
       "      <td>260.649994</td>\n",
       "      <td>260.649994</td>\n",
       "      <td>3.483871</td>\n",
       "      <td>0</td>\n",
       "      <td>6</td>\n",
       "      <td>2.910138</td>\n",
       "      <td>0</td>\n",
       "      <td>4</td>\n",
       "      <td>6</td>\n",
       "      <td>434</td>\n",
       "    </tr>\n",
       "    <tr>\n",
       "      <th>37</th>\n",
       "      <td>Pet Supplies</td>\n",
       "      <td>84.400002</td>\n",
       "      <td>4.152480e+04</td>\n",
       "      <td>84.400002</td>\n",
       "      <td>84.400002</td>\n",
       "      <td>3.388211</td>\n",
       "      <td>0</td>\n",
       "      <td>6</td>\n",
       "      <td>2.678862</td>\n",
       "      <td>0</td>\n",
       "      <td>4</td>\n",
       "      <td>11</td>\n",
       "      <td>492</td>\n",
       "    </tr>\n",
       "    <tr>\n",
       "      <th>38</th>\n",
       "      <td>Shop By Sport</td>\n",
       "      <td>119.220870</td>\n",
       "      <td>1.309522e+06</td>\n",
       "      <td>30.000000</td>\n",
       "      <td>199.990005</td>\n",
       "      <td>3.493627</td>\n",
       "      <td>0</td>\n",
       "      <td>6</td>\n",
       "      <td>2.918336</td>\n",
       "      <td>0</td>\n",
       "      <td>4</td>\n",
       "      <td>228</td>\n",
       "      <td>10984</td>\n",
       "    </tr>\n",
       "    <tr>\n",
       "      <th>39</th>\n",
       "      <td>Soccer</td>\n",
       "      <td>191.862680</td>\n",
       "      <td>2.647705e+04</td>\n",
       "      <td>79.989998</td>\n",
       "      <td>399.950012</td>\n",
       "      <td>3.710145</td>\n",
       "      <td>0</td>\n",
       "      <td>6</td>\n",
       "      <td>2.992754</td>\n",
       "      <td>0</td>\n",
       "      <td>4</td>\n",
       "      <td>2</td>\n",
       "      <td>138</td>\n",
       "    </tr>\n",
       "    <tr>\n",
       "      <th>40</th>\n",
       "      <td>Sporting Goods</td>\n",
       "      <td>327.750000</td>\n",
       "      <td>1.170068e+05</td>\n",
       "      <td>327.750000</td>\n",
       "      <td>327.750000</td>\n",
       "      <td>3.490196</td>\n",
       "      <td>0</td>\n",
       "      <td>6</td>\n",
       "      <td>2.871148</td>\n",
       "      <td>0</td>\n",
       "      <td>4</td>\n",
       "      <td>12</td>\n",
       "      <td>357</td>\n",
       "    </tr>\n",
       "    <tr>\n",
       "      <th>41</th>\n",
       "      <td>Strength Training</td>\n",
       "      <td>494.554320</td>\n",
       "      <td>5.489553e+04</td>\n",
       "      <td>189.000000</td>\n",
       "      <td>1999.989990</td>\n",
       "      <td>3.747748</td>\n",
       "      <td>0</td>\n",
       "      <td>6</td>\n",
       "      <td>3.081081</td>\n",
       "      <td>0</td>\n",
       "      <td>4</td>\n",
       "      <td>1</td>\n",
       "      <td>111</td>\n",
       "    </tr>\n",
       "    <tr>\n",
       "      <th>42</th>\n",
       "      <td>Tennis &amp; Racquet</td>\n",
       "      <td>135.930154</td>\n",
       "      <td>4.458509e+04</td>\n",
       "      <td>44.990002</td>\n",
       "      <td>224.949997</td>\n",
       "      <td>3.542683</td>\n",
       "      <td>0</td>\n",
       "      <td>6</td>\n",
       "      <td>2.893293</td>\n",
       "      <td>0</td>\n",
       "      <td>4</td>\n",
       "      <td>6</td>\n",
       "      <td>328</td>\n",
       "    </tr>\n",
       "    <tr>\n",
       "      <th>43</th>\n",
       "      <td>Toys</td>\n",
       "      <td>11.540000</td>\n",
       "      <td>6.104660e+03</td>\n",
       "      <td>11.540000</td>\n",
       "      <td>11.540000</td>\n",
       "      <td>3.517958</td>\n",
       "      <td>0</td>\n",
       "      <td>6</td>\n",
       "      <td>2.965974</td>\n",
       "      <td>0</td>\n",
       "      <td>4</td>\n",
       "      <td>7</td>\n",
       "      <td>529</td>\n",
       "    </tr>\n",
       "    <tr>\n",
       "      <th>44</th>\n",
       "      <td>Trade-In</td>\n",
       "      <td>70.556242</td>\n",
       "      <td>6.872178e+04</td>\n",
       "      <td>15.990000</td>\n",
       "      <td>249.990005</td>\n",
       "      <td>3.569815</td>\n",
       "      <td>0</td>\n",
       "      <td>6</td>\n",
       "      <td>2.938398</td>\n",
       "      <td>0</td>\n",
       "      <td>4</td>\n",
       "      <td>27</td>\n",
       "      <td>974</td>\n",
       "    </tr>\n",
       "    <tr>\n",
       "      <th>45</th>\n",
       "      <td>Video Games</td>\n",
       "      <td>39.750000</td>\n",
       "      <td>3.331050e+04</td>\n",
       "      <td>39.750000</td>\n",
       "      <td>39.750000</td>\n",
       "      <td>3.590692</td>\n",
       "      <td>0</td>\n",
       "      <td>6</td>\n",
       "      <td>3.014320</td>\n",
       "      <td>0</td>\n",
       "      <td>4</td>\n",
       "      <td>12</td>\n",
       "      <td>838</td>\n",
       "    </tr>\n",
       "    <tr>\n",
       "      <th>46</th>\n",
       "      <td>Water Sports</td>\n",
       "      <td>200.376106</td>\n",
       "      <td>3.113845e+06</td>\n",
       "      <td>199.990005</td>\n",
       "      <td>349.989990</td>\n",
       "      <td>3.482754</td>\n",
       "      <td>0</td>\n",
       "      <td>6</td>\n",
       "      <td>2.915444</td>\n",
       "      <td>0</td>\n",
       "      <td>4</td>\n",
       "      <td>329</td>\n",
       "      <td>15540</td>\n",
       "    </tr>\n",
       "    <tr>\n",
       "      <th>47</th>\n",
       "      <td>Women's Apparel</td>\n",
       "      <td>149.645828</td>\n",
       "      <td>3.147800e+06</td>\n",
       "      <td>50.000000</td>\n",
       "      <td>250.000000</td>\n",
       "      <td>3.484716</td>\n",
       "      <td>0</td>\n",
       "      <td>6</td>\n",
       "      <td>2.925172</td>\n",
       "      <td>0</td>\n",
       "      <td>4</td>\n",
       "      <td>481</td>\n",
       "      <td>21035</td>\n",
       "    </tr>\n",
       "    <tr>\n",
       "      <th>48</th>\n",
       "      <td>Women's Clothing</td>\n",
       "      <td>215.820007</td>\n",
       "      <td>1.402830e+05</td>\n",
       "      <td>215.820007</td>\n",
       "      <td>215.820007</td>\n",
       "      <td>3.538462</td>\n",
       "      <td>0</td>\n",
       "      <td>6</td>\n",
       "      <td>2.886154</td>\n",
       "      <td>0</td>\n",
       "      <td>4</td>\n",
       "      <td>10</td>\n",
       "      <td>650</td>\n",
       "    </tr>\n",
       "    <tr>\n",
       "      <th>49</th>\n",
       "      <td>Women's Golf Clubs</td>\n",
       "      <td>246.110332</td>\n",
       "      <td>4.454597e+04</td>\n",
       "      <td>79.989998</td>\n",
       "      <td>499.950012</td>\n",
       "      <td>3.563536</td>\n",
       "      <td>0</td>\n",
       "      <td>6</td>\n",
       "      <td>3.005525</td>\n",
       "      <td>0</td>\n",
       "      <td>4</td>\n",
       "      <td>8</td>\n",
       "      <td>181</td>\n",
       "    </tr>\n",
       "  </tbody>\n",
       "</table>\n",
       "</div>"
      ],
      "text/plain": [
       "           Category Name        Sales                                          \\\n",
       "                                 mean           sum          min          max   \n",
       "0            Accessories    75.096353  1.336715e+05    24.990000   124.949997   \n",
       "1        As Seen on  TV!   302.910882  2.059794e+04    99.989998   499.950012   \n",
       "2                  Baby     59.080002  1.222956e+04    59.080002    59.080002   \n",
       "3    Baseball & Softball   148.824608  9.405715e+04    34.990002   299.950012   \n",
       "4             Basketball   404.467602  2.709933e+04   299.989990   999.989990   \n",
       "5                 Books     31.080000  1.258740e+04    31.080000    31.080000   \n",
       "6           Boxing & MMA   201.431232  8.520541e+04    54.970001   474.950012   \n",
       "7                   CDs     11.290000  3.059590e+03    11.290000    11.290000   \n",
       "8               Cameras    452.040008  2.676077e+05   452.040008   452.040008   \n",
       "9       Camping & Hiking   299.980011  4.118426e+06   299.980011   299.980011   \n",
       "10      Cardio Equipment   295.895187  3.694843e+06    30.000000   499.950012   \n",
       "11   Children's Clothing   357.100006  2.328292e+05   357.100006   357.100006   \n",
       "12                Cleats   180.519848  4.431943e+06    59.990002   299.989990   \n",
       "13             Computers  1500.000000  6.630000e+05  1500.000000  1500.000000   \n",
       "14  Consumer Electronics   252.880005  1.089913e+05   252.880005   252.880005   \n",
       "15                Crafts   461.480011  2.233563e+05   461.480011   461.480011   \n",
       "16                  DVDs   164.380005  7.939554e+04   164.380005   164.380005   \n",
       "17           Electronics   117.564843  3.710346e+05    27.990000   259.950012   \n",
       "18               Fishing   399.980011  6.929654e+06   399.980011   399.980011   \n",
       "19   Fitness Accessories   115.215018  3.560144e+04    34.990002   599.989990   \n",
       "20                Garden   532.580017  2.577687e+05   532.580017   532.580017   \n",
       "21        Girls' Apparel   126.316570  1.517062e+05    25.000000   350.000000   \n",
       "22          Golf Apparel    79.296485  3.496975e+04    19.990000   129.990005   \n",
       "23     Golf Bags & Carts   169.990005  1.036939e+04   169.990005   169.990005   \n",
       "24            Golf Balls    52.269938  7.709816e+04    14.990000    99.949997   \n",
       "25           Golf Gloves   109.061113  1.166954e+05     9.990000   399.950012   \n",
       "26            Golf Shoes   206.103053  1.079980e+05    65.000000   500.000000   \n",
       "27     Health and Beauty   293.040008  1.060805e+05   293.040008   293.040008   \n",
       "28                Hockey    78.763403  4.836073e+04    22.000000   329.989990   \n",
       "29    Hunting & Shooting   129.200955  5.684842e+04    29.990000   495.000000   \n",
       "30  Indoor/Outdoor Games   149.704317  2.888994e+06    49.980000   249.899994   \n",
       "31      Kids' Golf Clubs   257.285363  9.879758e+04    89.989998   599.989990   \n",
       "32              Lacrosse   115.057696  3.946479e+04    24.990000   499.950012   \n",
       "33        Men's Clothing   210.850006  4.385680e+04   210.850006   210.850006   \n",
       "34        Men's Footwear   129.990005  2.891758e+06   129.990005   129.990005   \n",
       "35      Men's Golf Clubs   166.204242  4.703580e+04    99.989998   499.950012   \n",
       "36                 Music   260.649994  1.131221e+05   260.649994   260.649994   \n",
       "37          Pet Supplies    84.400002  4.152480e+04    84.400002    84.400002   \n",
       "38         Shop By Sport   119.220870  1.309522e+06    30.000000   199.990005   \n",
       "39                Soccer   191.862680  2.647705e+04    79.989998   399.950012   \n",
       "40        Sporting Goods   327.750000  1.170068e+05   327.750000   327.750000   \n",
       "41     Strength Training   494.554320  5.489553e+04   189.000000  1999.989990   \n",
       "42      Tennis & Racquet   135.930154  4.458509e+04    44.990002   224.949997   \n",
       "43                  Toys    11.540000  6.104660e+03    11.540000    11.540000   \n",
       "44              Trade-In    70.556242  6.872178e+04    15.990000   249.990005   \n",
       "45           Video Games    39.750000  3.331050e+04    39.750000    39.750000   \n",
       "46          Water Sports   200.376106  3.113845e+06   199.990005   349.989990   \n",
       "47       Women's Apparel   149.645828  3.147800e+06    50.000000   250.000000   \n",
       "48      Women's Clothing   215.820007  1.402830e+05   215.820007   215.820007   \n",
       "49    Women's Golf Clubs   246.110332  4.454597e+04    79.989998   499.950012   \n",
       "\n",
       "   Days for shipping (real)         Days for shipment (scheduled)          \\\n",
       "                       mean min max                          mean min max   \n",
       "0                  3.498315   0   6                      2.908989   0   4   \n",
       "1                  3.632353   0   6                      2.970588   0   4   \n",
       "2                  3.149758   0   6                      2.705314   0   4   \n",
       "3                  3.474684   0   6                      2.890823   0   4   \n",
       "4                  3.462687   2   6                      2.985075   1   4   \n",
       "5                  3.390123   0   6                      2.856790   0   4   \n",
       "6                  3.468085   0   6                      2.801418   0   4   \n",
       "7                  3.453875   0   6                      2.992620   0   4   \n",
       "8                  3.337838   0   6                      2.692568   0   4   \n",
       "9                  3.498215   0   6                      2.946828   0   4   \n",
       "10                 3.495235   0   6                      2.940899   0   4   \n",
       "11                 3.607362   0   6                      3.027607   0   4   \n",
       "12                 3.506578   0   6                      2.929616   0   4   \n",
       "13                 3.615385   0   6                      3.160633   0   4   \n",
       "14                 3.431555   0   6                      2.793503   0   4   \n",
       "15                 3.578512   0   6                      2.944215   0   4   \n",
       "16                 3.643892   0   6                      3.113872   0   4   \n",
       "17                 3.494930   0   6                      2.923004   0   4   \n",
       "18                 3.502049   0   6                      2.946898   0   4   \n",
       "19                 3.572816   0   6                      2.957929   0   4   \n",
       "20                 3.497934   0   6                      2.948347   0   4   \n",
       "21                 3.507910   0   6                      2.922565   0   4   \n",
       "22                 3.530612   0   6                      3.056689   0   4   \n",
       "23                 3.344262   1   6                      2.573770   0   4   \n",
       "24                 3.508475   0   6                      2.960678   0   4   \n",
       "25                 3.552336   0   6                      2.936449   0   4   \n",
       "26                 3.467557   0   6                      2.889313   0   4   \n",
       "27                 3.458564   0   6                      2.925414   0   4   \n",
       "28                 3.420195   0   6                      2.951140   0   4   \n",
       "29                 3.427273   0   6                      2.865909   0   4   \n",
       "30                 3.495751   0   6                      2.931029   0   4   \n",
       "31                 3.632812   0   6                      3.013021   0   4   \n",
       "32                 3.618076   0   6                      2.959184   0   4   \n",
       "33                 3.423077   0   6                      2.908654   0   4   \n",
       "34                 3.501259   0   6                      2.937067   0   4   \n",
       "35                 3.445230   0   6                      3.120141   0   4   \n",
       "36                 3.483871   0   6                      2.910138   0   4   \n",
       "37                 3.388211   0   6                      2.678862   0   4   \n",
       "38                 3.493627   0   6                      2.918336   0   4   \n",
       "39                 3.710145   0   6                      2.992754   0   4   \n",
       "40                 3.490196   0   6                      2.871148   0   4   \n",
       "41                 3.747748   0   6                      3.081081   0   4   \n",
       "42                 3.542683   0   6                      2.893293   0   4   \n",
       "43                 3.517958   0   6                      2.965974   0   4   \n",
       "44                 3.569815   0   6                      2.938398   0   4   \n",
       "45                 3.590692   0   6                      3.014320   0   4   \n",
       "46                 3.482754   0   6                      2.915444   0   4   \n",
       "47                 3.484716   0   6                      2.925172   0   4   \n",
       "48                 3.538462   0   6                      2.886154   0   4   \n",
       "49                 3.563536   0   6                      3.005525   0   4   \n",
       "\n",
       "   SUSPECTED_FRAUD Order Status  \n",
       "               sum        count  \n",
       "0               44         1780  \n",
       "1                0           68  \n",
       "2                6          207  \n",
       "3               11          632  \n",
       "4                3           67  \n",
       "5               11          405  \n",
       "6               12          423  \n",
       "7                5          271  \n",
       "8               16          592  \n",
       "9              305        13729  \n",
       "10             276        12487  \n",
       "11              18          652  \n",
       "12             560        24551  \n",
       "13              11          442  \n",
       "14               5          431  \n",
       "15              12          484  \n",
       "16              16          483  \n",
       "17              77         3156  \n",
       "18             394        17325  \n",
       "19               6          309  \n",
       "20              10          484  \n",
       "21              35         1201  \n",
       "22               6          441  \n",
       "23               0           61  \n",
       "24              33         1475  \n",
       "25              22         1070  \n",
       "26              10          524  \n",
       "27              11          362  \n",
       "28              12          614  \n",
       "29               9          440  \n",
       "30             439        19298  \n",
       "31              13          384  \n",
       "32               8          343  \n",
       "33               5          208  \n",
       "34             516        22246  \n",
       "35               5          283  \n",
       "36               6          434  \n",
       "37              11          492  \n",
       "38             228        10984  \n",
       "39               2          138  \n",
       "40              12          357  \n",
       "41               1          111  \n",
       "42               6          328  \n",
       "43               7          529  \n",
       "44              27          974  \n",
       "45              12          838  \n",
       "46             329        15540  \n",
       "47             481        21035  \n",
       "48              10          650  \n",
       "49               8          181  "
      ]
     },
     "execution_count": 137,
     "metadata": {},
     "output_type": "execute_result"
    }
   ],
   "source": [
    "schain['order date (DateOrders)'] = pd.to_datetime(schain['order date (DateOrders)'])\n",
    "\n",
    "schain['Year'] = schain['order date (DateOrders)'].dt.to_period('Y')\n",
    "\n",
    "delivery_status_summary2 = schain.groupby(['Category Name']).agg({\n",
    "    'Sales': ['mean', 'sum', 'min', 'max'],\n",
    "    'Days for shipping (real)': ['mean', 'min', 'max'],\n",
    "    'Days for shipment (scheduled)': ['mean', 'min', 'max'],\n",
    "    'SUSPECTED_FRAUD': 'sum',\n",
    "    'Order Status': 'count'\n",
    "}).reset_index()\n",
    "\n",
    "# Flatten multi-level columns\n",
    "delivery_status_summary.columns = ['_'.join(col).strip() if isinstance(col, tuple) else col for col in delivery_status_summary.columns.values]\n",
    "\n",
    "# Calculate the percentage of suspected fraud\n",
    "delivery_status_summary['% Suspected Fraud'] = (delivery_status_summary['SUSPECTED_FRAUD_sum'] / delivery_status_summary['Order Status_count']) * 100\n",
    "\n",
    "delivery_status_summary2\n"
   ]
  },
  {
   "cell_type": "code",
   "execution_count": 138,
   "metadata": {},
   "outputs": [
    {
     "data": {
      "image/png": "[encoded data removed]",
      "text/plain": [
       "<Figure size 1000x600 with 2 Axes>"
      ]
     },
     "metadata": {},
     "output_type": "display_data"
    }
   ],
   "source": [
    "delivery_status_summary2.columns = ['_'.join(col).strip() if isinstance(col, tuple) else col for col in delivery_status_summary2.columns.values]\n",
    "\n",
    "# Calculate the percentage of suspected fraud\n",
    "delivery_status_summary2['% Suspected Fraud'] = (delivery_status_summary2['SUSPECTED_FRAUD_sum'] / delivery_status_summary2['Order Status_count']) * 100\n",
    "\n",
    "# Plotting\n",
    "fig, ax1 = plt.subplots(figsize=(10, 6))\n",
    "\n",
    "# Plotting Sales mean on the primary y-axis\n",
    "sns.barplot(data=delivery_status_summary2, x='Category Name_', y='Sales_mean', ax=ax1, color='b', alpha=0.6)\n",
    "ax1.set_ylabel('Mean Sales', color='b')\n",
    "ax1.set_xlabel('Category Name')\n",
    "ax1.tick_params(axis='y', labelcolor='b', rotation = 90)\n",
    "\n",
    "# Rotate x-axis labels vertically\n",
    "plt.xticks(rotation=90)\n",
    "\n",
    "# Create a secondary y-axis for '% Suspected Fraud'\n",
    "ax2 = ax1.twinx()\n",
    "sns.lineplot(data=delivery_status_summary2, x='Category Name_', y='% Suspected Fraud', ax=ax2, color='r', marker='o', linewidth=2)\n",
    "ax2.set_ylabel('% Suspected Fraud', color='r')\n",
    "ax2.tick_params(axis='y', labelcolor='r')\n",
    "\n",
    "\n",
    "\n",
    "plt.title('Sales vs. Suspected Fraud by Category')\n",
    "plt.tight_layout()\n",
    "plt.show()"
   ]
  },
  {
   "cell_type": "code",
   "execution_count": 139,
   "metadata": {},
   "outputs": [
    {
     "data": {
      "text/html": [
       "<div>\n",
       "<style scoped>\n",
       "    .dataframe tbody tr th:only-of-type {\n",
       "        vertical-align: middle;\n",
       "    }\n",
       "\n",
       "    .dataframe tbody tr th {\n",
       "        vertical-align: top;\n",
       "    }\n",
       "\n",
       "    .dataframe thead tr th {\n",
       "        text-align: left;\n",
       "    }\n",
       "</style>\n",
       "<table border=\"1\" class=\"dataframe\">\n",
       "  <thead>\n",
       "    <tr>\n",
       "      <th></th>\n",
       "      <th>Year</th>\n",
       "      <th colspan=\"3\" halign=\"left\">Sales</th>\n",
       "      <th colspan=\"3\" halign=\"left\">Days for shipping (real)</th>\n",
       "      <th colspan=\"3\" halign=\"left\">Days for shipment (scheduled)</th>\n",
       "      <th>SUSPECTED_FRAUD</th>\n",
       "      <th>Order Status</th>\n",
       "    </tr>\n",
       "    <tr>\n",
       "      <th></th>\n",
       "      <th></th>\n",
       "      <th>sum</th>\n",
       "      <th>min</th>\n",
       "      <th>max</th>\n",
       "      <th>mean</th>\n",
       "      <th>min</th>\n",
       "      <th>max</th>\n",
       "      <th>mean</th>\n",
       "      <th>min</th>\n",
       "      <th>max</th>\n",
       "      <th>sum</th>\n",
       "      <th>count</th>\n",
       "    </tr>\n",
       "  </thead>\n",
       "  <tbody>\n",
       "    <tr>\n",
       "      <th>0</th>\n",
       "      <td>2015</td>\n",
       "      <td>1.234083e+07</td>\n",
       "      <td>9.99</td>\n",
       "      <td>499.950012</td>\n",
       "      <td>3.498803</td>\n",
       "      <td>0</td>\n",
       "      <td>6</td>\n",
       "      <td>2.934381</td>\n",
       "      <td>0</td>\n",
       "      <td>4</td>\n",
       "      <td>1385</td>\n",
       "      <td>62650</td>\n",
       "    </tr>\n",
       "    <tr>\n",
       "      <th>1</th>\n",
       "      <td>2016</td>\n",
       "      <td>1.230382e+07</td>\n",
       "      <td>9.99</td>\n",
       "      <td>499.950012</td>\n",
       "      <td>3.492294</td>\n",
       "      <td>0</td>\n",
       "      <td>6</td>\n",
       "      <td>2.923229</td>\n",
       "      <td>0</td>\n",
       "      <td>4</td>\n",
       "      <td>1376</td>\n",
       "      <td>62550</td>\n",
       "    </tr>\n",
       "    <tr>\n",
       "      <th>2</th>\n",
       "      <td>2017</td>\n",
       "      <td>1.180844e+07</td>\n",
       "      <td>9.99</td>\n",
       "      <td>1999.989990</td>\n",
       "      <td>3.502350</td>\n",
       "      <td>0</td>\n",
       "      <td>6</td>\n",
       "      <td>2.940616</td>\n",
       "      <td>0</td>\n",
       "      <td>4</td>\n",
       "      <td>1260</td>\n",
       "      <td>53196</td>\n",
       "    </tr>\n",
       "    <tr>\n",
       "      <th>3</th>\n",
       "      <td>2018</td>\n",
       "      <td>3.316501e+05</td>\n",
       "      <td>11.54</td>\n",
       "      <td>532.580017</td>\n",
       "      <td>3.504004</td>\n",
       "      <td>0</td>\n",
       "      <td>6</td>\n",
       "      <td>2.891192</td>\n",
       "      <td>0</td>\n",
       "      <td>4</td>\n",
       "      <td>41</td>\n",
       "      <td>2123</td>\n",
       "    </tr>\n",
       "  </tbody>\n",
       "</table>\n",
       "</div>"
      ],
      "text/plain": [
       "   Year         Sales                     Days for shipping (real)          \\\n",
       "                  sum    min          max                     mean min max   \n",
       "0  2015  1.234083e+07   9.99   499.950012                 3.498803   0   6   \n",
       "1  2016  1.230382e+07   9.99   499.950012                 3.492294   0   6   \n",
       "2  2017  1.180844e+07   9.99  1999.989990                 3.502350   0   6   \n",
       "3  2018  3.316501e+05  11.54   532.580017                 3.504004   0   6   \n",
       "\n",
       "  Days for shipment (scheduled)         SUSPECTED_FRAUD Order Status  \n",
       "                           mean min max             sum        count  \n",
       "0                      2.934381   0   4            1385        62650  \n",
       "1                      2.923229   0   4            1376        62550  \n",
       "2                      2.940616   0   4            1260        53196  \n",
       "3                      2.891192   0   4              41         2123  "
      ]
     },
     "execution_count": 139,
     "metadata": {},
     "output_type": "execute_result"
    }
   ],
   "source": [
    "delivery_status_summary3 = schain.groupby(['Year']).agg({\n",
    "    'Sales': ['sum', 'min', 'max'],\n",
    "    'Days for shipping (real)': ['mean', 'min', 'max'],\n",
    "    'Days for shipment (scheduled)': ['mean', 'min', 'max'],\n",
    "    'SUSPECTED_FRAUD': 'sum',\n",
    "    'Order Status': 'count'\n",
    "}).reset_index()\n",
    "\n",
    "# Flatten multi-level columns\n",
    "delivery_status_summary.columns = ['_'.join(col).strip() if isinstance(col, tuple) else col for col in delivery_status_summary.columns.values]\n",
    "\n",
    "# Calculate the percentage of suspected fraud\n",
    "delivery_status_summary['% Suspected Fraud'] = (delivery_status_summary['SUSPECTED_FRAUD_sum'] / delivery_status_summary['Order Status_count']) * 100\n",
    "\n",
    "delivery_status_summary3"
   ]
  },
  {
   "cell_type": "code",
   "execution_count": 140,
   "metadata": {},
   "outputs": [
    {
     "name": "stderr",
     "output_type": "stream",
     "text": [
      "/var/folders/_7/7nx4t_6s6995xg_cj866wrmr0000gn/T/ipykernel_40379/2431413624.py:13: FutureWarning:\n",
      "\n",
      "\n",
      "\n",
      "The `ci` parameter is deprecated. Use `errorbar=None` for the same effect.\n",
      "\n",
      "\n"
     ]
    },
    {
     "data": {
      "image/png": "[encoded data removed]",
      "text/plain": [
       "<Figure size 1200x800 with 1 Axes>"
      ]
     },
     "metadata": {},
     "output_type": "display_data"
    }
   ],
   "source": [
    "delivery_status_fraud = schain.groupby(['Year', 'Delivery Status']).agg({\n",
    "    'SUSPECTED_FRAUD': 'sum',\n",
    "    'Order Status': 'count'\n",
    "}).reset_index()\n",
    "\n",
    "# Calculate the fraud percentage\n",
    "delivery_status_fraud['% Suspected Fraud'] = (delivery_status_fraud['SUSPECTED_FRAUD'] / delivery_status_fraud['Order Status']) * 100\n",
    "\n",
    "# Plotting delivery status by percentage of fraud for each year\n",
    "plt.figure(figsize=(12, 8))\n",
    "\n",
    "# Create a bar plot showing fraud percentage by delivery status and year\n",
    "sns.barplot(data=delivery_status_fraud, \n",
    "            x='Year', \n",
    "            y='% Suspected Fraud', \n",
    "            hue='Delivery Status', \n",
    "            ci=None, \n",
    "            estimator='mean', \n",
    "            dodge=True)\n",
    "\n",
    "# Title and labels\n",
    "plt.title('Delivery Status by Percentage of Fraud Each Year', fontsize=16)\n",
    "plt.xlabel('Year', fontsize=14)\n",
    "plt.ylabel('% Suspected Fraud', fontsize=14)\n",
    "\n",
    "# Rotate x-axis labels for better readability\n",
    "plt.xticks(rotation=45)\n",
    "\n",
    "# Show the plot\n",
    "plt.tight_layout()\n",
    "plt.show()"
   ]
  },
  {
   "cell_type": "code",
   "execution_count": 150,
   "metadata": {},
   "outputs": [],
   "source": [
    "schain.to_csv('DataCoSupplyChainDataset_clean.csv', index = False)"
   ]
  }
 ],
 "metadata": {
  "kernelspec": {
   "display_name": "Python 3",
   "language": "python",
   "name": "python3"
  },
  "language_info": {
   "codemirror_mode": {
    "name": "ipython",
    "version": 3
   },
   "file_extension": ".py",
   "mimetype": "text/x-python",
   "name": "python",
   "nbconvert_exporter": "python",
   "pygments_lexer": "ipython3",
   "version": "3.12.6"
  }
 },
 "nbformat": 4,
 "nbformat_minor": 2
}
