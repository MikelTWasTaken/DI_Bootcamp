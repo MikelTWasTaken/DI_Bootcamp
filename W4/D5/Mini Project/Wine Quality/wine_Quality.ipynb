{
 "cells": [
  {
   "cell_type": "markdown",
   "metadata": {},
   "source": [
    "Mini-project 2: Data Preprocessing for Wine Quality Analysis\n",
    "\n",
    "\n",
    "What You Will Learn\n",
    "Advanced data loading and exploration with Pandas.\n",
    "Data cleaning and preprocessing techniques.\n",
    "\n",
    "\n",
    "Your Task:\n",
    "Using the Wine Quality dataset, explore the following questions:\n",
    "\n",
    "How do different chemical properties correlate with the quality of wine?\n",
    "Is there a significant difference in quality between red and white wines?\n",
    "\n",
    "\n",
    "Resources\n",
    "Use the Wine Quality dataset available on Kaggle for the first question and this one Red and White Wine for the second question.\n",
    "\n",
    "\n",
    "\n",
    "Hint\n",
    "Introduction to the Dataset:\n",
    "\n",
    "Download the dataset from Kaggle.\n",
    "Load the dataset using Pandas.\n",
    "Explore the dataset by examining the columns, data types, and key statistics using functions like head(), info(), describe(), etc.\n",
    "Data Cleaning and Preprocessing:\n",
    "\n",
    "Check for and handle missing values (e.g., using dropna() or fillna()) and detect outliers using techniques like IQR or z-scores.\n",
    "Examine the distribution of continuous variables (e.g., using histograms or boxplots) and transform variables with high skew (e.g., using log transformations) if necessary.\n",
    "(optional) Create new variables, such as combining pH and acidity to create an “acidity level” or grouping wines into categories based on sugar content.\n"
   ]
  },
  {
   "cell_type": "code",
   "execution_count": null,
   "metadata": {
    "vscode": {
     "languageId": "plaintext"
    }
   },
   "outputs": [],
   "source": []
  }
 ],
 "metadata": {
  "language_info": {
   "name": "python"
  }
 },
 "nbformat": 4,
 "nbformat_minor": 2
}
